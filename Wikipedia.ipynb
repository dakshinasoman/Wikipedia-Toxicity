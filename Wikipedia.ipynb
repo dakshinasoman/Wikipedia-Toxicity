{
 "cells": [
  {
   "cell_type": "code",
   "execution_count": 98,
   "metadata": {},
   "outputs": [],
   "source": [
    "import time\n",
    "import warnings\n",
    "warnings.filterwarnings(\"ignore\")"
   ]
  },
  {
   "cell_type": "markdown",
   "metadata": {},
   "source": [
    "### Solution:\n",
    "### 1. Load the data using read_csv function from pandas package"
   ]
  },
  {
   "cell_type": "code",
   "execution_count": null,
   "metadata": {},
   "outputs": [],
   "source": [
    "import pandas as pdimport time\n",
    "import warnings\n",
    "warnings.filterwarnings(\"ignore\")\n",
    "\n",
    "df = pd.read_csv('Toxicity.csv', encoding='utf8')\n",
    "df.head()"
   ]
  },
  {
   "cell_type": "markdown",
   "metadata": {},
   "source": [
    "## 2. Get the comments into a list, for easy text cleanup and manipulation"
   ]
  },
  {
   "cell_type": "code",
   "execution_count": 14,
   "metadata": {},
   "outputs": [],
   "source": [
    "comment_text = df['comment_text'].to_list()"
   ]
  },
  {
   "cell_type": "markdown",
   "metadata": {},
   "source": [
    "## 3. Cleanup:"
   ]
  },
  {
   "cell_type": "code",
   "execution_count": 15,
   "metadata": {},
   "outputs": [],
   "source": [
    "# 1. Using regular expressions, remove IP addresses\n",
    "\n",
    "import re\n",
    "\n",
    "rule_ip = r'\\d{1,3}\\.\\d{1,3}\\.\\d{1,3}\\.\\d{1,3}'\n",
    "\n",
    "comment_text = [re.sub(rule_ip, '', text) for text in comment_text]"
   ]
  },
  {
   "cell_type": "code",
   "execution_count": 16,
   "metadata": {},
   "outputs": [],
   "source": [
    "# 2. Using regular expressions, remove URLs\n",
    "\n",
    "rule_url = (\"((http|https|http://www.|https://www.|www.))\" +\n",
    "             \"[a-zA-Z0-9@:%._\\\\+~#?&//=]\" +\n",
    "             \"{2,256}\\\\.[a-z]\" +\n",
    "             \"{2,6}\\\\b([-a-zA-Z0-9@:%\" +\n",
    "             \"._\\\\+~#?&//=]*)\")\n",
    "\n",
    "comment_text = [re.sub(rule_url, '', text) for text in comment_text]"
   ]
  },
  {
   "cell_type": "code",
   "execution_count": 17,
   "metadata": {},
   "outputs": [],
   "source": [
    "# 3. Normalize the casing\n",
    "\n",
    "comment_text = [text.lower() for text in comment_text]"
   ]
  },
  {
   "cell_type": "code",
   "execution_count": 18,
   "metadata": {},
   "outputs": [],
   "source": [
    "# 4. Tokenize using word_tokenize from NLTK\n",
    "\n",
    "from nltk.tokenize import word_tokenize\n",
    "\n",
    "comment_text_tokens = [word_tokenize(text) for text in comment_text]"
   ]
  },
  {
   "cell_type": "code",
   "execution_count": 19,
   "metadata": {},
   "outputs": [
    {
     "name": "stdout",
     "output_type": "stream",
     "text": [
      "['i', 'me', 'my', 'myself', 'we', 'our', 'ours', 'ourselves', 'you', \"you're\", \"you've\", \"you'll\", \"you'd\", 'your', 'yours', 'yourself', 'yourselves', 'he', 'him', 'his', 'himself', 'she', \"she's\", 'her', 'hers', 'herself', 'it', \"it's\", 'its', 'itself', 'they', 'them', 'their', 'theirs', 'themselves', 'what', 'which', 'who', 'whom', 'this', 'that', \"that'll\", 'these', 'those', 'am', 'is', 'are', 'was', 'were', 'be', 'been', 'being', 'have', 'has', 'had', 'having', 'do', 'does', 'did', 'doing', 'a', 'an', 'the', 'and', 'but', 'if', 'or', 'because', 'as', 'until', 'while', 'of', 'at', 'by', 'for', 'with', 'about', 'against', 'between', 'into', 'through', 'during', 'before', 'after', 'above', 'below', 'to', 'from', 'up', 'down', 'in', 'out', 'on', 'off', 'over', 'under', 'again', 'further', 'then', 'once', 'here', 'there', 'when', 'where', 'why', 'how', 'all', 'any', 'both', 'each', 'few', 'more', 'most', 'other', 'some', 'such', 'no', 'nor', 'not', 'only', 'own', 'same', 'so', 'than', 'too', 'very', 's', 't', 'can', 'will', 'just', 'don', \"don't\", 'should', \"should've\", 'now', 'd', 'll', 'm', 'o', 're', 've', 'y', 'ain', 'aren', \"aren't\", 'couldn', \"couldn't\", 'didn', \"didn't\", 'doesn', \"doesn't\", 'hadn', \"hadn't\", 'hasn', \"hasn't\", 'haven', \"haven't\", 'isn', \"isn't\", 'ma', 'mightn', \"mightn't\", 'mustn', \"mustn't\", 'needn', \"needn't\", 'shan', \"shan't\", 'shouldn', \"shouldn't\", 'wasn', \"wasn't\", 'weren', \"weren't\", 'won', \"won't\", 'wouldn', \"wouldn't\"] \n",
      "\n",
      " ['!', '\"', '#', '$', '%', '&', \"'\", '(', ')', '*', '+', ',', '-', '.', '/', ':', ';', '<', '=', '>', '?', '@', '[', '\\\\', ']', '^', '_', '`', '{', '|', '}', '~'] \n",
      "\n",
      " ['must', 'would', 'could', \"'s\", \"n't\", \"'m\", \"'re\", \"'ve\", \"'ll\", \"'d\", \"''\", '``', '...', '•', '—']\n"
     ]
    }
   ],
   "source": [
    "# 5. & 6. Remove stop words and punctuation\n",
    "\n",
    "from nltk.corpus import stopwords\n",
    "import string\n",
    "\n",
    "sw = stopwords.words('english')\n",
    "punc = list(string.punctuation)\n",
    "sw_custom = [\"must\", \"would\", 'could', \"'s\", \"n't\", \"'m\", \"'re\", \"'ve\", \"'ll\", \"'d\", \"''\", '``','...','•','—',]\n",
    "\n",
    "print(sw, \"\\n\\n\", punc, \"\\n\\n\", sw_custom)"
   ]
  },
  {
   "cell_type": "code",
   "execution_count": 22,
   "metadata": {},
   "outputs": [],
   "source": [
    "sw_punc = sw + punc + sw_custom\n",
    "\n",
    "comment_text_cleaned = []\n",
    "for item in comment_text_tokens:\n",
    "    cleaned_text = [word for word in item if ((word not in sw_punc and word.isascii()) and not word.isnumeric())]\n",
    "    comment_text_cleaned.append(cleaned_text)"
   ]
  },
  {
   "cell_type": "code",
   "execution_count": 23,
   "metadata": {},
   "outputs": [
    {
     "name": "stdout",
     "output_type": "stream",
     "text": [
      "['drama-prone', 'ludwigs2', '1992.', 'b.', '2010.', 'non-profit', 'k.', 'deceased/former', 'yes/', 'e.g', 'mention.', '==', '150,000', '==', 'titt-fucking', '|talk', '22:56', '=19680608', '=rgcxaaaaibaj', '=mweeaaaaibaj', '=2025,668035', '=7442', '=1bf779fbde1fec4673e3ec6b631deb7f', 'as-yet-uncomfirmed-by-the-bbc', \"y'know\", '15:47', \"'personal\", 'his/her', 'source.', 'nominations/grootegeluk', 'nominations/giovan', 're-reviews', 'me/breathe', 'isp-issued', 'isp-issued', 'indian_name', 'stub-sorting', 'uk-struct-stub', 'uk-geo-stub', 'struct-stub', '|hello', '00:32', 'poco*4', '65th', '65th', 'col.', '2.', 'col.', '3.', 'ee.uu..', 'it.', '08:57', '90/91', '1990.', '1985.', '..=', '10+', 'recently-filed', 'arbitration/requests', 'arbitration/requests', 'option-shift-hyphen', 'non-english', 'non-english', 'lot.', 'and/or', 'season_2.3a_2006', 'vs.', 'vs.', 'talkie-talkie', 're-reading', '7:22', 'rock/heavy', 'sino-tibetans', 'u.s.', '4.', '5.', 'elf-masher', '..do', 'language/wikipedia', 'film-specific', 'non-english', 'non-mainstream', 'english-speaker', 'czech-speaker', 'japanese-speaker', 'disabled.if', 'unblock-en-l', 'school-issued', 'taken.thank', 'you.', '==', \"o'neill\", '==', '1b', '26-county', '6-county', 'ard-fheis', '26-county', 'a.', 'b.', '1b', '6-county', 'i.e', '1b', '1b', '1b', '1b', '26-county', 'ard-fheis', '26-county', 'a.', '1b', '162.', '1b', '1b', '1b', '1b', 'non-existent', 'dr.', 'russian-made', 'non-sentient', 'prof.', 'e-mail', 'e-mail', 'e-mail', 'articles/redirects', 'hakka-dialect', 'ukrainian-american', 'wiki-clones', 'works.', \"'warm\", \"'best\", '1/8', 'v-type', '10-20', \"'weak\", \"'feeble\", '4/5', 'fuel.', 'i/ve', 'lead/december', '3rr', 'dead-link', 'one-liner', 'shop-software', 'php-mysql', \"editors'whose\", 'worthless.', 'talk|', 'd.', 'long-term', 'noticeboard/incidents', 'pre-embryo', \"'pre-embryo\", 'pre-embryo', 'wiki-harassment', 're-inserted', 're-add', 'and/or', 'bull-headed', 'e.g', 'co-sponsored', '2003.', 'kirk.i', \"'reliable\", 'unreal7', 'interrupted|user', 'articles-blah', 'tu-154', 'ssven2', ':it', 'simple/complex', 'lockeownzj00', 'e.g', 'a3', 'p.s', '=where', 'holds===', 'ink-and-paper', 's-e-s', '==', 'thx4thx', 'pravapis.org', 'npov-pusher', 'i.e', 'template_talk', 'regions_of_the_world', '0th', '2006.jpg', '2006.jpg', 'non-free', 'heads-up', 'newly-dipped', '23:07', '|listas', 'third-party', 'loss/vandalism', '18:11', \"'the\", \"'in\", ':this', 'ww2', 'germanys..', '1962.', 'mysweetoldetc.', 'templates_for_deletion/log/2006_february_5', 'user_paedophile', 'criminal/abusive', 't1', 't1', 'deletion_review/userbox_debates', 'user_boylover_and_template', 'user_girllover', 'waiting-room', 'p.', 'g11', 'contributions.', 'bad-faith', \"'needs\", 'self-described', 'wiki-policy', 'mr.', 'mr.', \"'needs\", 'wiki-policy', 'vandalism-related', 'talk-page', 'mr.', 'dumb.', 'disputable-', 'sex-appeal', 'wikipedia.', 'cross-breeds', 'line-breeding', \"'we\", \"'we\", 'elven6', 're-read', 'primary-to-secondary', 'way.', 'self-publications', 'brown-eyed', 'but..', ':well', 'seriously.', 'ideology.fascists', 'e-zpass', 'etc.', 'non-unique', 'e-zpass', \"'em\", '-jean', \"'spectacular\", \"'recommend\", 'sock-puppetry', 'a-league', 'a-league', 'may/may', 'well-known', '17:53', 'perspective.if', '3,000', '20:50', 'mid-2013', 'mid-', '*read*', '1943.', 'honorifics.', 'i.e.', 'hip-hop', 'talk|contribs', 'peer-reviewed', 'non-thermal', \"'phones\", 'non-thermal', 'awful.', '.and', 'brain-dead', 'removed/censored', 'i.e', 'power/force', 'mistress-', 'deletion/suri', '2nd', 'deletion/suri', '2nd', 'countries/sovereign', 'i.e', '2nd', 'successfully.', \"'ego\", 'va.', \"'bha\", \"'ra\", \"'va\", 'lists_of_people', '2.pdf', '2.pdf', '96h', 'mr.', 'call.', 'village_pump_', 'june_17_labs_outage_effect_on_still_missing_june_17_pageview_stats', 'article.', '20th', 'socialist.', 'helpful.', 'material..', '3rr', 'meatpuppetry.', 'st.', 'url.com', 'article-space', 'p.s', 'self-pd', 'd.c', 'triple-decker', '1,2,3', '1,2,3', 'h.', 'www.diva-portal.org', 's3ep11', 'off-limits', 'm.i.a', 'm.i.a', 'meningless.', 'wikipedia.', 'now0727local', 'pop-knowledge', 'deletion/springfield', 'hitman/murderer', \"'robert\", \"'spilotro\", 'athuor-to-be', '****', '****ing', '****', 'pre-reviews', 'w/e', 'miquonranger03', 'miquonranger03', 'miquonranger03', 'miquonranger03', '1,000', 'style=', 'border-spacing:8px', 'margin:0px', '-8px', 'width=', '|class=', 'style=', 'border:1px', 'background-color', 'f5fffa', 'vertical-align', 'font-size', '~~~~', 'style=', 'border-spacing:8px', 'margin:0px', '-8px', 'width=', '|class=', 'style=', 'border:1px', 'background-color', 'f5fffa', 'vertical-align', '|class=', 'style=', 'border:1px', 'background-color', 'f5fffa', 'vertical-align', 'width=', 'cellpadding=', 'cellspacing=', 'style=', 'vertical-align', 'background-color', 'f5fffa', '|-', '|style=', '|-', '|-', '|style=', '|-', 'deep-rooted', '|1=unblock', 'on-line', 'abuse-harrasmnt', 'symptomatology.this', '07:07', '2nd', '=prev', '=534670252', 'darwin.', '19:40', '07:06', \"'70s\", '3rd', '-abhishikt', 'e.g.', 'well-educated', 'b-class', 'koshvorlon|', '20+', 'fair-use', 'change.', 'aboutcivil.com', 'my/your', 'wiki-project', '==', 'semi-protect', '==', 'castro-lite', 'watered-down', '04:56', 'page.', 'executed..', \"'koa\", 'breeder/winter', 'mr.', 'bloody..', 'off..', 'e.g.', 'world-war-ii-era', '~~~~', 'self-contradictory', '03:40', 'ping-ponging', 'ping-ponging', 'ping-ponging', 'talk-contribs', '30th', 'candidates/destroy', 'r.', 'u.s.', '03216u', 'edit.jpg', 'fan-boy', \"'video\", ':i', 'opinion.', 'bud/s', 'st2', 'st6', 'g.', 'non-notable', '63,980', '63,980', 'i.e', '1.', '2.', '9/11', '9/11', 'v-prop', 'v-prop', 'text.', 'p.s', '~~~~', 'point.', 'web-site', '04:22', '2.jpg', '2.jpg', \"'image\", 'non-free', 'ww2', 'overcapitalizing.', 'so-called', 'sawed-off', 'high-hat', 'hand-held', 'multi-camera', 'all-digital', 'old-style', 'vs.', 'semi-protection', 'sissy-boys', '-fat', '..', 'self-hating', 'hard-pressed', 'ethnicity/religion', 'self-hating', 'prof.', 'self-hating', 'advice.', 'non-consensual', 'misleading.', 'dam.', 'post-esperanza', '.you', 'period/full', 'period/period', './', \"ma'am\", 'back-up', 'mr.', 'well-deserved', 'mac-10', 'mac-10', '15:57', 'p.', 'mr.', \"'simple\", \"'multiple\", '4.', 'citation/source', 'third-parties', 'self-revert', 'style=', 'background-color', 'f5fffa', 'cellpadding=', '|-', 'style=', '1px', 'background-color', 'f5fffa', 'vertical-align', '~~~~', 'width=', 'style=', 'background-color', 'f5fffa', '|style=', 'border:1px', 'background-color', 'f5fffa', 'vertical-align', 'list-style', 'three-revert', 'non-free', '|class=', 'style=', 'border:1px', 'background-color', 'f5fffa', 'vertical-align', 'width=', 'cellpadding=', 'cellspacing=', 'style=', 'vertical-align', 'background-color', 'f5fffa', \"'ks\", \"'tz\", \"'ts\", '18th', '19th', 'scout.com', '=nevada', '=softverbal', '=football', '20recruiting', '=hs', '=2010', 'non-poles', '97.8', '362,209', '2.2', '7,980', 'poland.10', 'priscilla0213', \"'fauna\", \"'flora\", \"drc'-\", 'topic.', '2013.', 'group.', 'highly-respected', 'widely-recognized', 'blofeld|ernst', '09:34', '=prev', '=693709828', \"'characterising\", 'uk/aust', \"'cade\", 'three-revert', 'three-revert', 'sco1996', '==', '==', '6/8', 'non-notable', \"'fuck\", 'vs.', 'e-mail', '_____', 'ok.', 'itself.', 'franco-mongol', 'time-consuming', 'edit-warring', 'talk-page', '14:31', 'dr.', '14p.patsevere', '90kts', '75kts', '960hpa', '97p.invest', '2010-02-06', '1200z', 'abpw10', '2010-02-06', '2000z', '09f', '2010-02-06', '1800z', 'wtps21', '2010-02-07', '0730z', '14p', '2010-02-07', '1800z', '2010-02-08', '0000z', '2010-02-08', '1800z', '2010-02-10', '0300z', '2010-02-11', '0000z', '2010-02-11', '0600z', '2010-02-11', '1800z', '2010-02-06', '1800z', '2010-02-07', '0000z', '//', '0600z', '//', '1800z', '2010-02-08', '0600z', '//', '1800z', '2010-02-09', '0600z', '//', '1800z', '2010-02-10', '0600z', '//', '1800z', '2010-02-11', '0600z', '//', '1800z', '2010-02-12', '0600z', '//', '1800z', '2010-02-06', '2100z', '2010-02-07', '0000z', '//', '0000z', '//', '0600z', '2010-02-07', '1200z', '//', '1800z', '2010-02-08', '0000z', '//', '0600z', '//', '1200z', '//', '1800z', '2010-02-09', '0000z', '//', '0600z', '//', '1200z', '09/1200z', '2010-02-09', '1800z', '2010-02-10', '0000z', '//', '0600z', '//', '1200z', '//', '1800z', '09/1200z', '2010-02-11', '0000z', '//', '0600z', '//', '//', '//', '//', '//', '//', '//', '//', '//', '//ftp.m', '1.', 'i.e', 'him/her', 'eight-fold', 'semi-spherical', '2.', 'i.e', 'disc-like', '3.', 'all-formed', 'semi-spherical', 'semi-spherical', 'all-formed', 'so-called', 's.', 'prof.', 'y.', '1961.', 'best-known', '-emlodik', '~~~~', \"'talk\", '2000/xp', '95/98', '9.0', '6.0', '16megs', 'b/itch', 'b1tch', '03:35', 'anti-vandalism', 'vandalism.', 'self-portrait', 'heavens-above', '98.', \"'tween\", 'a7', 'subject-specific', 'fact.', 'u.s.', \"'cause\", 'sunnah.com', 'fan-portal', 'www.inter-islam.org', \"a'la\", 'water.who', 'left-right', 'i.e.', 'wwii-era', 'quasi-fascist', 'built-in', 'inter-digit', 'p.o', 'inter-digit', 'digit.', 'kanden7', 'relax.', 'a.', 'b.', 'c.', 'military/factory', 'i.e.', 'copy/paste', 'q2', 'wrong.', '-still-', 'proxy-editing', '20:04', '12th', 'one-by-one', 'pagez0', 'waop-', 'straight-forward', 'asian/pacific', 'y.', '.now', '5.7', 'five-seven', 'understood.', '9/11', 'ripped-off', '..', 'cmsguy123', 'stuffstuffstuffcolumn1', '/td', 'stuffstuffstuffcolumn2', '/td', 'stuffstuffstuffcolumn3', '/td', '/tr', '/table', 'i.e.', 'stuffstuffstuffcolumn1', '/poem', '/td', 'column.', 'destroy/butcher', 'it.', '1923.', 'self-published', 'good-faith', 'cade..', '==notability', 'tragedy==', 'this.', 'others.', 'stalin-like', 'deletion/kristen', 'pro-mild', '4.', 'short.', '==your', 'lyon==', 'me.', 'prince-elect', 'knee-jerk', '==', 's/he', 'awb-ness', '91/1/0', \"'official\", \"'calls\", 're-ordering', 'noticeboard/incidents', '//', '//', '//', 'h55', 'h55', 'h55', '/ga1', '-laidas', '-laidas', 'here.', 'style=', '1px', '|rowspan=', 'style=', 'vertical-align', '5px', '|thank', '====', '====', '====', '====', '====', '====', '====', '====', '====', '====', '====', '====', '====', '====', '====', '====', '====', '====', '====', '====', '====', '====', '====', '====', '====', '====', '====', '====', '====', '====', '====', '====', '====', '====', '====', '====', '====', '====', '====', '====', '====', '====', '====', '====', '====', '====', '====', '====', '====', '====', '====', '====', '====', '====', '====', '====', '====', '====', '====', '====', '====', '====', '====', '====', '====', '====', '====', '====', '====', '====', '====', '====', '====', '====', '====', '====', '====', '====', '====', '====', '====', '====', '====', '====', '====', '====', '====', '====', '====', '====', '====', '====', '====', '====', '====', '====', '====', '====', '====', '====', '====', '====', '====', '====', '====', '====', '====', '====', '====', '====', '====', '====', '====', '====', '====', '====', '====', '====', '====', '====', '====', '====', '====', '====', '====', 'bhagavad-gita', 'btw.', 'einstein-cartan', 'well-written', 'einstein-cartan', 'einstein-cartan', 'einstein-cartan', 'einstein-cartan', 'theory.', '=/', 'third-year', 'page.', 'al-ghazi', 'decline=what', 'pyramid-style', 'cause.', 'actions.', 'mp3s', 'd*', '==', 'e.g.', '5th', '6th', 'or/syn', 'vs.', 'removing.', 'mis-handling', 'talk2me', 're-create', \"'douche\", 'nevhood|nevhood', '06:27', 'i-t', 'i-team', 'fuck-ups', 'fu82', 'in-depth', 'ever-changing', 'ok.', 'referenced.', '==', '==', 'authorship/license/etc', ':file', 'daytime.jpg', '1990s', \"'the\", 'creepy-crawlies', 'screw-up', '02:21', 'official.if', 'misleading.', '~~~', '~~~~', '*yes', 'c.a', '~~~~', '05:32', '2nd', 'now.', 'e.g', 'non-russophones', 'e.', 'f*ck', 'thank-you', 'wp:100', \"'blis\", 'bolzano-bozen', 'account101', 'wikifun-usa', 'infinity88', 'rossifumi-gp', 'mud-miner', 'small-minded', 'keyboard.', 'streetwisemail.com', '~~~~', 'non-pov', 'non-pov', \"'revolution\", 'e.g', \"'wide-ranging\", 'e.g', \"'industrial\", 're-written', 'a.', 're-written', 'us3.96', 'inc.', 'inc.', 'u.s.', '04:42', 'sources.', 'maribras.jpg', 'maribras.jpg', 'non-free', 'non-free', 'non-free', 'non-free', 'non-free', 'non-free', '08:02', 'summary_box', 'always_provide_an_edit_summary', 'g-unit', 'thumbnail-readable', 'this.', 'bttf2', '=261397971', '=261369799', 'you.', 'mr.', 'phd-lin', 'sock-puppetry', '16:34', 'near-exclusively', \"'the\", 'me.', 'third-party', 'copy-editor', 'here.', 'non-profit', 'k6ka', 'anti-israeli', 'detrimental.often', 'pre-quantum', '20:12', 'rs|citations', \"'thinks\", 'c.', 'b.c.embassy', 'world-wide', 'self-releasing', 'self-releases', 'prod.', 're-release', 'blackmetal.com', 'p.s', 'non-scientific', 'non-pov', 'pov-non-pov', 'non-scientific', 'you.', 'choice.-', '20,000', '40,000', '25-30', '100,000', '40,000.', '20,000', '40,000', '-time', 'oun/upa', 'strength-', 'oun/upa', '80-90', '100,000', 'arkansas==', '==', 'talk:1er', '1955.', ':my', \"'89\", \"'90\", '17:20', 'source.', '==appeal', '~~', 'in-depth', '6ft', '6.', '6ft', 'edit-warring', '3rr', '01:03', 'him-', 'anti-egalitarian', '==wikistalkers', '6=thirteen', \"'kabbala\", 'made-up', 're-position', 're-position', 'up-to', 'required.', 'palestinian/anti', \"'group\", \"'sources\", \"'libellous\", '18th', '18th', '19th', '16th', '19th', 'bunts.', 'up.-', 'section.', 'he/she/it', 'father.', 'wp:3rr', 'flat-earth', 'not-so-', '300,000+', '300,000', '300,000', 'any1', 'any1', 'p.s', 'washed-up', \"'adm\", \"'aks\", 'article.', '70s', '80s', 'them.c-joe', '..', 'semi-protected', '|listas', '212-384-5000', 'u.s.', 'u.s.', 'papers/identification', 'haddad-adel', 'khamenei/khameini', 'u.s.', 'iran/persia', \"'personal\", 'u.s.', \"'women\", 'iran/persia', 'c.30', '|listas=last', 'the|class=b', '==april', '2010==', 'vs.', 'jeansablonalbum.jpg', 'jeansablonalbum.jpg', \"'image\", 'non-free', 'you.', 'vs.', '2.', '1.', '2.', '3.', '3rd', 'joke-thingies', 'c11th', 'dic-defs', \"'historian\", \"'sanhedrin\", \"'both\", \"'the\", 'poll/iar/block', 'ill-advised', 'clear-cut', 'it.', \"'commonwealth\", 'michael_richards/archive_2.', \"'cause\", 'a-my', 'dog-gone', \"willin'\", 'hey-hey', 'a-my', 'dog-gone', \"willin'\", '19th', 'century.', 'c-pimp', 'c.fed', '3rr', 'sock-puppet', 'saudi-arabia', 'leominster+1', '|-', '|-', 'asia/south', 'o-sry', 'o-m122', 'o-m95', '2,500', 'jayron32', 'jayron32', 'jayron32', 'rd/m', 'jayron32', 'jayron32', 'all.', \"'macao\", \"'macau\", \"'macao\", \"'macau\", 'e.g', \"'macao\", \"'macao\", \"'macau\", \"'munich\", \"'macao\", \"'macau\", 'back-seat', \"'air\", 'do.', 'true.', 'd.h.', '01:53', '01:54', '01:54', '01:54', '14:54', 'non-cra', '12th', '13th/14th', 'j.aldred', \"'arundhati\", \"'om\", 'director-general', 'by-election', '=215477', '=published', '=27001', 'k.', 'sergecross73', 'cyberlink420', 'self-admittedly', 'passive-aggressiveness', 'bad-faith', 'role.', 'f***ing', 'f***ing', 'refhistoryfix2', '_______', '..how', 'them.again', 'non-wikipedia-related', 'nominations/tectonics', \"'list\", 'easily-triggered', 'off-balance', 'child-like', 'self-delusion', 'oft-disclosed', 'mutually-agreeable', 'article.so', '_international_inc', 'know.', 'talk/cont', '~~~~', '3-4', 'world.he', '..', 'it.this', '..', 't/c', '09:41', 'year=', 'attacks.', '==', 'mrs.', 'agenda-', 'anti-american', '10-k', '29th', '11.', 're-instated', '17:53', 'award-winning', '19th', '19th', 'charles/mirv', \"o'hara\", '2006.', '49th', \"54'40\", 'claim.', 'papers.', 'namaskar|greetings', 'surface.', 'open-minded', 'talk-page', 'wp:3rr', 'wp:3rr', 'talk-page', '-wikid77', ':wp', '1840.', '1848.', 'quasi-criteria', 'v.', 'v.', 'taste-variants', 'semi-educated', 'nation-wide', 'trumped-up', 'december,1704', 'personified.he', 'miracles.he', 'bounties.he', 'sins.he', 'us.he', 'time.he', 'all.he', 'army.he', 'universe.his', 'pervasive.he', 'gifts.he', 'universe.he', 'all.his', 'personified.he', 'all.nothing', 'him.he', 'all-knowing', 'learned.he', 'happenings.he', 'universe.all', 'it-not', '22nd', 'december,1704', 'zafarnamah.300', 'fox.otherwise', '|listas', 'ok.', 'so-called', 'this.', 'meetup/nyc', '42.', 'web-sites', 'm.', 'c12', 'carletons.', '~~~~', '18th', 'wikipedia.', '14:02', 'ts/tg', 'ts/tg', 'ts/tg', 'post-surgery', 'under-virilized', 'out.', 'codedon/archives/my', 'un-encyclopaedic', 'vol-ii', 'blood-shed', '2.', 'db-nonsense', 'db-nonsense', 'db-nonsense', \"'commercial\", \"'investment\", 'well-mannered', 'gazeta.pl', '19:01', 're-do', 'non-free', 'mapfre.png', 'mapfre.png', 'non-free', 'non-free', \"'image\", 'non-free', 'you.', 'civil-oligarchy', 'days.', '11111111111111111111111111111111111111111oneoneoneone', 'ga-level', 'play-off', \"'fc\", \"'fc\", \"'tskhinvali\", \"'fc\", \"'jules\", 'good-faith', 'well-intentioned', 'good-faith', \"undo'ing\", 'edit-warring', 'poorly-sourced', 'persons/noticeboard', '23.', '1948.', '20th-century', 'moved.', 'contribute..thank', 'editing.talk', 'mr.', '10,000+', 're-phrase', 'am-11:05am', '4chan', 'e-sports', 'e-sports', 'sites|class=', 'are.', 'self-identified', 'histri-ironic.', 'ausepassport.jpg', 'ausepassport.jpg', '3rd', 'pre-war', 'cleaned-up', 'fear_replica.jpg', 'fear_replica.jpg', 'created/took', 'non-free', '23:58', 'egyptian-israeli', 'arab-israeli', ':i', 'duck.', 'work.i', '//', '//', '//', 'corticotropin-releasing', 'shame-free', 'shame-free', '1982.', 'al.', 'studio.', 'long-term', 'long-term', 'long-term', 'long-term', 'geo-political', 'm.', 'm.', 'properties.the', 'illyrians.org', '26.000', '1944-1945', '30.000', '150.000', '100.000.', 'non-greek', '83.000', 'pro-greek', 'well-established', '1944-1945', 'st.bartholomeus', '1944-march', 'cyber-bullies', 'inc.', 'accessdate=', '7,000', 'owner-operator', '//', 'vs.', 'temper.', 'topic.', 'drv.', 'non-reliable', 'server-side', 'client-side', 'cross-site', 'cross-site', 'xss/injections', 'out-of-the-box', 'harrasing/annoying', '1982.dr', '79-20cosmic', '1980s', 'wanderers.allmusic', 'answers.com', '.paranoia', 'writer/composer/song', '90s', '90s', 'well.', '~~~~', 'tally-ho', 'me..', 'that.p.s', 'wiki-revenge', 'pen1s', '1802.yon', 'jean-claude', '2000.', \"'other\", 'cg2p0b0u8m', 'manual_of_style_', 'france_', '26_french-related', 'works_of_art', \"'grove\", \"'no-win\", 'problem-', 'inorg.chem', 'p3792-3', 'et2o', \"good'un\", 'indium/gallium', 'c.460', 'so-called', 'flyer22', 'one-sided', 'flyer22', 'sep.', 'peer-reviewed', 'read=poor', 'grass-roots', 'much-loved', 'flyer22', 'unre4l', 'business.finally', 'unre4l', 'thing..', 'non-', 'wikipedia/wikicommons', 'cc-by-sa-3.0', 'co-edited', 'self-reflection', 'pola/ga1', '3rd', '1st', '1st', '1st', '1st', 'sub-group', 'ourselves.', 'etc.', 'mr.', 'isbn-10', '0231130104.', '2007.', 'it.', 'investigations/backlook', 'powers-that-be', 'anti-strats', 'spin-off', 'farey.', '3rr', 'talk|contribs', 'maryland-related', '~~~~', \"'the\", 'structure.', 'white-related', '00:20', 'comment/lolicon', 'semi-protecting', 'semi-protecting', '28th', '4:58', 'm8', '1800s', 'e-mails', 'p.s', 'e-mail', '==', 'off-wiki', 'simple/complex', '==', 'walton_m', 'hotmail.co.uk', 'con-tense', 'america.', \"'jibber-jabber\", \"'impressive\", \"'very\", 'harm/ill', 'request..', '25th', 'xxiv.', 'movie.', 'in-line', 'references.', 'mine.', 'pmk1', 'polish-lithuanian', 'hypothetical.', 'pre-installed', '5.50', 'psp-3000', 'psp-3000', '5.70', '5.70', 'pre-installed', 'psp-n1000', '5.70', '3000.', '5.70', 'pre-installed', 'psp-n1000', 'judgesurreal777', '==', '-/', 'p1', 'p2', 'p3', 'p4', 'p5', \"have't\", 'neck-beard', '1.', 'non-existent', '1st', '2nd', '6th', '4th', '3rd', '1st', '5th', 'non-useful', 'merged/deleted', 'overdrive10/kent', 'overdrive10/chris', 'fabartus/sandbox', 's/he', 'non-existence', '22:16', 'manga/anime/game', 'email..', '22:16', 'y0u', 'l0se', '0h', 'n0', 'd0', 'd0', 'd0', 'f0r', 'qu0ting', 'b00k', 'f0r', 'tr0uble', '0n', '0wn', 't0', 'd0', 'encycl0pedia', 'y0u', 'ass-hat', 't568-a', 't568-b', 'four-pair', 't568-a/b', \"'user\", \"'source\", 'you/we', 'how-to', 'flame-mail', '/dev/null', 'happened.', 'no-one', 'superfast1111', 'abhishek191288', \"'thinks\", '==', 'coverscanvestria.jpg', '==', 'coverscanvestria.jpg', 'non-commercial', 'non-profit', 'non-commercial', 're-upload', 'gfdl-self', 'cc-by-sa-2.5', 'attribution-sharealike', 'pd-self', 'you.', 'john-the-younger', 'john-the-younger', 'things.', '2007.', 'crime.', '1/153rd', '5th', '3-gun', 'ar-15', 'crane.', 'germanic/italic', 'proto-indo-european', 'anglo-saxon', 'south-east', 'proto-germanic', '14:17', 'f*cking', 'f*cking', '1-894840-36-4', '1-894840-38-0', 'old-fashioned', 'nocal100', 'ha-huts', 'bar-yaccov', 'massacre/terrorist', \"'massacre\", '16/17', '.arye', 'massacre/ambush', '1948-1957', '1948-1957', 'ma-aleh', 'incident-', 'nocal100', '..', '17:10', 'again..', \"'you\", 'self-explanatory', \"'non-partisan\", \"ma'am\", '04:36', 'x-factor', '==fachime==', 'reached.', 'pilot-episodes', '2.', '1.', 'same.', 'mis-represent', 'bed-rock', 'what-so-ever', 'clear-cut', \"'good\", \"'good\", 'english/american-english', '==name==', 'miserably.', 'pov-pushing', '27_noticeboard/edit_warring', 'g.c3.b6rlitz', '.28result', '.29', '10:49', '.plz', 'child-killers', 'daddy-dearest', 'neutral-point-of-view', 'ok.', 'incomplete.', '21:14', 'tony1/adminwatch', 'deletion/user', 'tony1/adminwatch', '~~~~', 'g.', 'w4', 'tokyogirl79', 'flat-earth', 'not-so-', '300,000+', '300,000', '300,000', 'i.', 'h-o', '2.', '978-3764824730.', 'm-z', 'worldcat.org', \"'friends\", 'steele.', 'thanks.', '-eman1114', 'self-reverted', 'grguy2011', 'cross-wiki', '101.', '2nd', 'etc..', 'revert.', 'w/', '4-3', \"'oh\", \"'antic\", 'mune-tsuki', 'ganmen-tsuki', 'morote-dori', 'ryote-dori', 'keiko-gi', 'katate-dori', 'mae-geri', 'sokuto-', '-geri', '8pages', 'mr.', 'angel-', '=in+the+summer+of+177', '+irenaeus', '+bishop+of+lyon', '+witnessed+an+increasing+hostility+to+christians+in+his+own+city.', '=in+the+summer+of+177', '+irenaeus', '+bishop+of+lyon', '+witnessed+an+increasing+hostility+to+christians+in+his+own+city.', '=en', '=x', '=t3bjt5tdfzcltwfdu7tuag', '=0cdaq6aewaa', 'non-free', '1960s', 'pro-property', 'anarcho-capitalism', 'wikiquette_alerts', 'december_8', '1.', '2.', 'hindu-arabic', 'history_of_indian_and_arabic_numerals', 'rfc_2', 'history_of_indian_and_arabic_numerals', 'suggested_outline.2c_please_consider_and_discuss', 'indian-arabic', 'indian-arabic', 'history_of_indian_and_arabic_numerals', 'what_this_page_is_about', '*not*', 'wikiquette_alerts', 'december_8', '22:08', 'wikiquette_alerts', 'december_8', '22:09', '22:10', '23:38', 'wikiquette_alerts', 'december_8', '22:10', \"had'nt\", 'truth.', 'wikiquette_alerts', 'december_8', '~why', 're-adding', 'well-edited', 'a-12', 'sr-71', '19:17', '02:13', '-romans', '8:31', 'greek-related', 'good-faith', 'rule-follower', 'dan56', 'editing.', 're-create', 'mrs.', 'country/nation', 'al.', 'additions/alterations', 'well-regarded', 'free-to-air', '==', 'his/her', 'his/her', '=985991', '=985990', 'non-existent', 'r0', '==', '==', 'mark-up', '~~~~', 'page-', 'hartoandco.com', 'dr.', 'ph.d.', \"'fasst\", 'wile..', 'npov-y', 'gng.', \"'their\", \"'the\", '==', '==', 'self-righteous', 'cleared..', 'stuff..', 'style=', 'background-color', 'f5fffa', 'padding:0', 'cellpadding=', '|class=', 'style=', 'border:1px', 'background-color', 'f5fffa', 'vertical-align', 'font-size:85', '~~~~', 'width=', 'style=', 'background-color', 'f5fffa', '|class=', 'style=', 'border:1px', 'background-color', 'f5fffa', 'vertical-align', 'three-revert', 'non-free', '|class=', 'style=', 'border:1px', 'background-color', 'f5fffa', 'vertical-align', 'width=', 'cellpadding=', 'cellspacing=', 'style=', 'vertical-align', 'background-color', 'f5fffa', '|-', '|style=', 'threats|no', \"i'de\", 'indian-chinese', 'unblock|', 'emopunkundead13', 'mark-up', '~~~~', 'fun.', '91093contributions', '23:04', '1-2', 'prose-to-image', 'i.e', '1,000', 's.', 'p.s', '-restored', 'me-', 'gfdl-licensed', 'spanish-portuguese', 'i.e', 'i.e', 'ibero-jewish', 'anti-semetic', '~*hugs*~', 'information/references', '22:50', '*more*', 'time.', 'mexican.', '2-3', '6.', 'non-copyright', '~~~~', '2.0', '23:01', 're-editing', 'anti-americanism', 'anti-americanism', 'middle-east', 'biology/natural', 'biology/natural', 'editing.', '==image', 'visuel2.jpg==', 'visuel2.jpg', 'created/took', 'non-free', 'non-free', 'non-existent', 'article.', 'misleading.', 'o_o', 'etc.', '23:56', \"'method\", 'conform-to-policy', 'user_talk', 'colorprobe|talk', 'contributions/colorprobe|contribs', 'emailuser/colorprobe|', 'probe|extra', 'n-hhits', 'n-hh', 'military-administered', \"'round\", 'half-dozen', 'taxes/steal', \"'military\", 'wide-enough', 'g1', 'yourself.', 'moreed/morad', 'thanks.', '2002.jpg|a', '2002.', '2010.jpg|a', '2010.', '2010.jpg|a', '|declined=exactly', 'vandalism-only', 'e-mail', ':resolute', 'sides.', 'd.', '2.', 'p.', '424.', '=pa424', '1.', 'p.', 'p.', '48.', '0742562964.', '=pa48', 'p.', '80.', '0742562964.', '=pa80', '222/837', 'h.', 'm.', 'g.', 'non-academic', 'sources.', 'proof-of-concept', '29a', 'anti-virus', \"'in\", 'm-theory', 'm-theory', '11-dimensional', 'm-theory', 'm-theory', '11-dimensional', 'admins.', '++++++++++++++', 'agenda-based', 'neo-conservatist', 'counter-argument', 'frcp11', 'discussion.', '~~~~', '202.197.', 'pre-assembled', 'no-one', \"'before\", '|talk', 'a.', 'b.', 'so.|the', 'so.|', 'a.', 'b.', 'c.', 'a.', 'b.', 'a.', '-.-', '^_^', 'umpire/referees/officials', '09:32', 'talk/stalk', 'title.', 'speak/write', 'semi-broken', 'us-centrism', 'un-american', \"'owning\", 'i.e', '1.', '2.', 'his/her', 'he/she', \"'turk\", \"'persian\", 'he/she', \"'minor\", 'he/she', 'his/her', '=78165928', '=78165559', '=history', '=history', '=500', '=tajik', 'he/she', 'he/she', 'he/she', 'he/she', 'his/her', 'nation-based', 'anti-hero', 'user_talk', 'cloudz679', 'half-life', 'e-penis', '|family', 'edits/reverts', 'vs.', '133,306,668', '1/3', '266,613,336', 'i.e', '133,306,668', '266,613,336', '399,920,004', '1/3', '399,920,004', 'he/she/it', 'his/her', '266,613,336.', '6,542,502,827', 'weasel-wording', 're-reported', 'i.e', 'rumors.', 'pov-pusher', \"'delete\", '==', 'serrano==', 'dr.', 're-visit', '90s', 'ok.', '23-year-old', '23-year-old', '30-50', '==the', 'p.', 'p.', 'so-hated-by-him', 'austria-hungary', '.mein', '2.', 'copy/pasted', 'argued.', 'first.', '~~~~', 'free-market', 'u.s.', 'pro-freemarket', 'right-wingers', 'anti-freemarket', 'anarcho-socialist', 'free-market', '2005.', 'reason.', 'anyone.', '.svg', '-plethora', 'unblock|your', 'right-wing', 'extremists.', '..', 'al-bayati', 'al-bayati', 'al-bayati', 'al-bayati', 'removed.', 'confused.', 'italian-british', 'neo-nazi', 'neo-nazi', 'multi-racial', 'race-denier', \"'sock\", '13:34', 'below-the-line', 'm.', 'kon-el', '01:24', 'tags..', 'hailsatan666', 'satanic_panic', 'own.', '..', 'action.', 'zondervan|talk', 'fishbonepromo.jpg', 'fishbonepromo.jpg', \"'image\", 'non-free', 'you.', 'share3.0', 'dekolb-wartenberg', '1916.', 'mrs.', '15th', '11th', '.and', '==', '==', 'her/his', 're-added', '5-non', 'japan-centric', 'country-centric', 'talk:1994.', 'journalist/photographer/reporter', '~~~~', 'rb72', '+afd', 'that.', 'nawlinwiki..', \"'rooting\", \"'terminate\", \"'annoy\", \"'bother\", '21:59', 'parrot-of-doom', 'nev1', 'i.e', 'non-error', 'double-check', '1,000', 'utc/gmt', '.there', 'www.ebla-kids.com', 'for.', 'deletion/list', 'telangana-related', '184.6', '185.6', '2006-10-08t13:23:04', '-ache', ',4', 'it.', 'needed.', 'happiness.', '|25px|', '05:49', 'un-specified', \"'first\", \"'national\", 'self-identified', \"'first\", \"'first\", 'etc.', '18:55', '00:02', '05:22', '20:22', '20:46', '21:28', '3rr', '21:30', '21:32', \"'we\", '21:41', 'noticeboard/incidents', '21:43', '21:49', '21:54', 'page-move', '21:56', '21:59', '22:01', '22:04', '22:09', 'article.', 'sino-korean', 'xeno-', '12:15', 'ibm_mainframe.jpg', 'ibm_mainframe.jpg', \"'the\", \"'elite\", \"'the\", 'post-wwi', \"'noble\", \"'white\", \"'ubermenschen\", \"'avantgarde\", 'off-topic', 'slon02', 'editors/admins', 'wikipedia..thank', 'facts/reasons', '1st', 'non-wiki', 'off-wiki', 'e-mailing', 'the_emergency', '20:39', 'profile.jpg', 'profile.jpg', \"'image\", 'non-free', 'you.', 'respectful.', 'readers-intl', 'readers-intl', 'sign-up', 'process.', 'punya666', 'is/was', 't.', 't.', 'college123456789', '~~~~', 'sub-categories', '22:20', 'requests_for_arbitration/armchairvexillologistdon', 'final_decision', 'fan-blabber', \"'news\", 'horntoadxi/articlename', 'main-space', '..', 'here..', 'o-dog.jpg', 'o-dog.jpg', \"'image\", 'non-free', 'anti-vandal', '=.wikipedia.org', '=on', '=2011_in_the_united_states', '=.wikipedia.org', '=on', '=2012_in_the_united_states', '=.wikipedia.org', '=on', '=2013_in_the_united_states', '=.wikipedia.org', '=on', '=2014_in_the_united_states', 'page.', 'dev920', 'off-wikipedia', 'this.', 'page.', 't.v', 'hahc21', 'talk|contribs', 'talk|contribs', 'talk|contribs', 'wiki-wise', 'hahc21', 'talk2me', 'triple/nom', 'games/character', 'games/character', 'flight.jpg|thumb|100px|right|', 'day/june', 'world-class', 'one-stop', '8th', '2008.', 'ltd.', 'ltd.', 'ltd.', 'ltd.', 'ltd.', 'risk-reward', 'ltd.', 'self-employed', 'ltd.', 'goal/need', \"'opportunity\", \"'technical\", 'clue-bat', 'jr.', 'jr.', 'address/name', \"'junior\", 'article.', 'sanders.', 'counter-nordicist', 'british-nordicist', 'italy.', '2d', 'phun.org', 's.', 'ok.', \"idiom'put\", 'vs.', 'creation/ucw-zero', 'twenty-four', 'd.c.', 'place.this', 'i.e', 'politely.', 're-checked', '23:30', \"'rule\", 'hartle-hawking', 'u2', 'u2', '2011.', 'f***', 'f***', 'c***s', 'party-trick', 'space-walk', 're-written', 'paw42', '==', '==', '12:40', 'a.m.', 'h2', '1/n', 'cross-section', 'wikipedia86', '19+9+14', '19+9+14', 'league/teams', 'out-proportioned', 'wdd123', '4.', 'debconf5', '~~~~', '40,000', '14:07', 'employers.', 'wp:3o', \"'preciate\", \"'holla\", '-due', 'towards.', 'this.', 'touches/citations', \"'nablus\", '3rr', 'dr.', 'k.', \"'chatspy\", 'kalombo/komeho', 'blp1e', 'precedent-setting', 'law-suit', 'blp1e', '1435:410=3,5', 'anglo-celtic', 'group-', '-load', \"'big\", 'big-boy', '07:20', 'upstater-', 'spot-free', ':the', \"'reasons\", \"'reliable\", 'p.s', 'unheard-of', 'noticeboard/incidents', '1970s', '1900.', 're-insert', 'irrelevant.', 'prefix.', 'left-wing', '1980s', '2nd', 'hard-to-find', '28-29', 'prime-minister', '//www.european-council.europa.eu/media/750848/web_bce_28-29juin_2012.pdf', 'u.s.', 'u.s.', 'a7', 'adap.tv', 'jbvg2014', '8th', 'non-conspicuous', \"'troll\", '77/249', \"'from\", '.read', 'l.', 're-editing', 're-staging', 'win-win', '1460s', 'slur-graffiti', 'w/o', 'anti-confederate/anti-secession/anti-revisionism', 'war.', 'seconds.tell', 'acceptable.', 'vp1.3', '=progressivism', '1.', '2.', '3.', '1.', '2.', '3.', '4.', '5.', 'adoptee|arbitrarily0', 'on-air', '00:39', ':yes', 'pokemon.', 'p.s.you', 'g.', 'thanks.', 'requested_moves/technical_requests', 'requests_to_revert_undiscussed_moves', 'dr.', 'wikifan12345', 'dead-enders', '12:47', 're-create', 'advice.have', 'mr.', 'd.', \"'cantonese\", 'reference_desk/science', 'has_anyone_ever_posted_themselves_in_the_mail', ':and', '23:36', 'f-22', 'and-non-biblical', 'bc/ad', 'bandera.png', \"d'ont\", 'pd-ua-exempt', '3rd', '0.02', 're-adding', 'ill-feeling', 'co-operative', '-the', 'bangladeshi-born', 'sylheti-speaking', '-an', 'dhaka-based', '-official', 'ill-fame', '-the', '-dp', 'rights/ngo', 'party-political', 'pro-awami', 'pro-bnp', 'pro-whatever', \"was'nt\", 'b-side', \"was'nt\", 'dupont-columbia', '|listas=one', 'film-book', 'non-israeli', 'non-jews', 'and/or', 'entry.', 'pages/subpages', 'medium-term', 'short-term', '~~~~', 'page.', \"'defunct\", 'yet.', 'pov-ish', 'non-wp', \"'very\", '20th', 'side.', 'copy/pasted', 'ha-ha', 'free-speech', 'boat..', \"'italic\", '3rd', '3rd', 'below.', 'u.s.', 'npov.', 'links/sources', '80-100', '1-', '2-', '3-', '==additions', 'subjects==', 'react-to', 'cultures.aufderheide', '2007.', 'subjects.aufderheide', 'mr.', 'oobituary.com', 'mr.', '~~~~', '==', 'agents/employees', '==', 'honor-system', 'dis-respect', '=675471550', '=675452574', \"'religion\", \"'belief-teaching\", \"'belief-teaching\", 'adriannewey.jpg', 'adriannewey.jpg', '10:57', 'group.', '13:59', 'no-one', '22nd', '23rd', '22nd', '21st', '22nd', '20:45', 'and/or', 'and/or', 'pseudo-science', 'name-callings', 'tacitus-passage', 'pseudo-science', '17.', 'showing-off', 'pseudo-science', 'craig_ferguson.jpg', 'craig_ferguson.jpg', \"'image\", \"'image\", 'free-licensed', \"'cat\", \"'meow\", 'partial-birth', 'mr.', '4.10', '4.7', 'school-boyish', 'mr.', 'hmm..', '..um', '..um..wait', '3rr', '3rr', 'pgagnon999', 'pgagnon999', 'st.', 'jwhits.jpg', 'jwhits.jpg', \"'image\", 'non-free', 'school.', '12:41', 'non-profit', 'non-commercial', 'nurses/dieticians', '12,000', 'his/her', 'stitch-up', 'web-based', 'grave-stone', 'parrot-of-doom', 'no..', 'spelling/grammar', 're-adding', 'wiki-culture', 'and/or', 'msu.edu', 'msu.edu', 'mr.', '2004.', 'here..', '16:24', 'anglo-israelism', 'anglo-israelism', \"'criticism\", 'assyria-german', 'family/pack', '2006.', '14th', '30-31', 're-arrested', '5th', '19th', 'stuff==', '==', \"'organization'digital\", \"'goldenageofradio.org\", \"'free\", \"'discussion\", \"'consensus\", \"'listen\", \"'discussion\", 'myaviation.net', 'myaviation.net', 'g11', 'guidelines.', 'non-episode', 'you.', '|amiga', 'self-promotion', 'manga|class=stub', 're-opened', 'notbureaucracy.', \"'vandalize\", 'p138', 'panurge/le', 'avant-scene', 'top-level', 'multi-national', 'mouseover.', '23:25', '/when', 'inc./films', 'plunder/return', 'summon/call', '1994.', 'films/inc', 'you.', 'buddy-buddy', 'name-calling', 'vandal-coddling', 'in-line', 'ga.', 'daedalus969', 'vice-versa', 'daedalus969', 'extreme-ist', '-nature', 'an/i', 'an/i', 'c.', 'well-known', 'either.', 'c***s', ':keep', '22:18', '9/11', '..', 'sir..this', 'shortly..do', 'fu*kwit', '..', 'rack-on-tours', 'i.e', '-fm', '-tv', 'etc.', 'wnci-fm', '==', 'folks-', 'ok.', 'all-', '20072.', '.dive', \"'brand-new\", 'page.', 'get-go', 'well-being', 'saddening.', \"'you\", 'p.o.v', 'eligibility/certificate/theory', 'states.', '==', '==', 'threads.', 're-added', 'rome.gif', 'rome.gif', \"'image\", 'i.e.', 'created/took', 'fair_use', \"'image\", 'i.e', 'air-bags', 'ski-related', 'pre-paid', 'un-flyable', 'a7', \"'the\", \"'45\", 'policy-based', 'ahir-yadava', 'subject-', '800ad', '6th', '8th', 'b.v', 'no-blast', \"'priests\", \"'priests\", 'redirect/disambig', \"'priests\", \"'catholic\", 'though..', '===for', 'states===', '19th', '19th', 'non-stop', \"'what\", '22:55', 'indicated.', 'moron.', 'pre-domesticated', 'copy/translate', 'non-free', 'college-level', 'copy-paste', '99.9', 'you.', 'dnsla23', '18:47', 'ban==', '==', 'notices.if', '-tab', '1990th', 'j-dar', '30th', '11:32', 'property/', '~~~~', '~~~~', \"'recurring\", \"'regular\", 'blocks.', 'this.', 'valid.', 'drive-by', '|right', '22:47', 'well-endowed', 'well-endowed', 'front-bend', 'well-endowed', 'front-bend', 'front-bend', '15/7', 'panhead2014', 'self-multiplying', 'mr.', 're-read', 'later.', \"i'kk\", 'side-by-side', '~~~~', 'hanibal911you', 'pro-assad.hanibal911you', 'pro-assad.hanibal911you', 'pro-assad.hanibal911you', 'pro-assad.hanibal911you', 'pro-assad.hanibal911you', 'pro-assad.hanibal911you', 'pro-assad.hanibal911you', 'pro-assad.hanibal911you', 'pro-assad.hanibal911you', 'pro-assad.hanibal911you', 'pro-assad.hanibal911you', 'pro-assad.hanibal911you', 'pro-assad.hanibal911you', 'pro-assad.hanibal911you', 'pro-assad.hanibal911you', 'pro-assad.hanibal911you', 'pro-assad.hanibal911you', 'pro-assad.hanibal911you', 'pro-assad.hanibal911you', 'pro-assad.hanibal911you', 'pro-assad.hanibal911you', 'pro-assad.hanibal911you', 'pro-assad.hanibal911you', 'pro-assad.hanibal911you', 'pro-assad.hanibal911you', 'pro-assad.hanibal911you', 'pro-assad.hanibal911you', 'pro-assad.hanibal911you', 'pro-assad.hanibal911you', 'pro-assad.hanibal911you', 'pro-assad.hanibal911you', 'pro-assad.hanibal911you', 'pro-assad.hanibal911you', 'pro-assad.hanibal911you', 'pro-assad.hanibal911you', 'pro-assad.hanibal911you', 'pro-assad.hanibal911you', 'pro-assad.hanibal911you', 'pro-assad.hanibal911you', 'pro-assad.hanibal911you', 'pro-assad.hanibal911you', 'pro-assad.hanibal911you', 'pro-assad.hanibal911you', 'pro-assad.hanibal911you', 'pro-assad.hanibal911you', 'pro-assad.hanibal911you', 'pro-assad.hanibal911you', 'pro-assad.hanibal911you', 'pro-assad.hanibal911you', 'pro-assad.hanibal911you', 'pro-assad.hanibal911you', 'pro-assad.hanibal911you', 'pro-assad.hanibal911you', 'pro-assad.hanibal911you', 'pro-assad.hanibal911you', 'pro-assad.hanibal911you', 'pro-assad.hanibal911you', 'pro-assad.hanibal911you', 'pro-assad.hanibal911you', 'pro-assad.hanibal911you', 'pro-assad.hanibal911you', 'pro-assad.hanibal911you', 'pro-assad.hanibal911you', 'pro-assad.hanibal911you', 'pro-assad.hanibal911you', 'pro-assad.hanibal911you', 'pro-assad.hanibal911you', 'pro-assad.hanibal911you', 'pro-assad.hanibal911you', 'pro-assad.hanibal911you', 'pro-assad.hanibal911you', 'pro-assad.hanibal911you', 'pro-assad.hanibal911you', 'pro-assad.hanibal911you', 'pro-assad.hanibal911you', 'pro-assad.hanibal911you', 'pro-assad.hanibal911you', 'pro-assad.hanibal911you', 'pro-assad.hanibal911you', 'pro-assad.hanibal911you', 'pro-assad.hanibal911you', 'pro-assad.hanibal911you', 'pro-assad.hanibal911you', 'pro-assad.hanibal911you', 'pro-assad.hanibal911you', 'pro-assad.hanibal911you', 'pro-assad.hanibal911you', 'pro-assad.hanibal911you', 'pro-assad.hanibal911you', 'pro-assad.hanibal911you', 'pro-assad.hanibal911you', 'pro-assad.hanibal911you', 'pro-assad.hanibal911you', 'pro-assad.hanibal911you', 'pro-assad.hanibal911you', 'pro-assad.hanibal911you', 'pro-assad.hanibal911you', 'pro-assad.hanibal911you', 'pro-assad.hanibal911you', 'pro-assad.hanibal911you', 'pro-assad.hanibal911you', 'pro-assad.hanibal911you', 'pro-assad.hanibal911you', 'pro-assad.hanibal911you', 'pro-assad.hanibal911you', 'pro-assad.hanibal911you', 'pro-assad', '/15', '/15', '/15', '55/18/12/15', 'dakota/toonami', \"'back-in-the-day\", 'for/with', '7-31-09', 'shi-', 'beluga-human', '07:50', 'categories_for_discussion/log/2008_october_26', 'fictional_businesspeople', 'mmm..', 'propaganda.wellcome', '2601:7:1980:5b5:35e6:8c6c:3d1e', 'a148', '480p', '720x480', '640x480', '480p', '4:3', '16:9', '480p', '720p', '1080p', 'wii-mote', 'ps3', 'ps3', 'ps3', 'wii-mote', 'add-on', 'pixel-perfect', 'ps3', 'wii=wee', '==', 'f*cking', 'make-believe', '==', 'istanbul/constantinople', 'middle-eastern', 'x-com', 'x-com', 'auto-generated', '*accidental*', 'vandalism/nonsense', '*once*', '19:57', 'multi-page', '==', \"'summary\", 'wanted..', 'selective..', 'non-forked', \"'ireland\", 'f-ing', 'main-page', 'g.b', 'anal-retentive', 'v.', 'v.', 'v.', 'v.', '=utf8', '=1374239624', '=1-3', '=frank+sanello', 'openlibrary.org', 'lower-case', 'v.', 'openlibrary.org', 'v.', 'free-access', 'mla/apa/turabian', 'pre-format', '61-year-old', 'computer-challenged', '2013.', '19+', 'v.', 'openlibrary.org', 'african-american', 'self-publish', \"doesn't.\", \"'the\", \"'45\", 'worshipthisbitch3.jpg', '0.1', 'low-value', '*both*', 'fact.', '15:10', 'face..it', 'j.', 'talk-email', 'over-worked', 'under-appreciated', 'work/idea', '==', '==', 'i.', 'sept.', '4th', 'sept.', '2006.', '2010.', '08:23', \"'robustly\", 'talk/contrib', '1813-1825', '80-90', 'pro-choice', 'noticeboard/incidents', '08:53', 'vs.', \"d'oh\", 'gran2', 'section==', 'and/or', 'piece/advertisement', 'majo/significant', 'smaller/unsourced', 'inc.', 'tax-exempt', 'bonds.the', 'multi-million', 'tax-related', '650,000', '160,000', 'trades.', '750,000', 'fee-based', 'ex-raymond', 'whistle-blowing', '2010.', 'v.', 'dumb-ass', \"'chance\", 're-negotiate', 'doop.jpg', '.jpg', 'right-click', '.jpg', 'saxe-coburg-gotha', 'improvements.', 'heavy-handed', \"'cause\", 'this.', \"'station\", 'pre-dates', \"'battle\", \"'on\", \"'still\", 'i.e', \"'stationary\", \"'railway\", \"'train\", \"'petrol\", \"'power\", \"'bus\", \"'railway\", \"'train\", 'loco-hauled', 'push-pull', \"'trains\", '.it', '23:36', 'irish-language', 'u.s.', 'bristol-plymouth', 'wpschools/ag', 'five-a-side', '16:50', 'this.', 'if-you-are-interested-please-click-link', 'cheung.batgwa.com', 'batgwa.com', '2008-01-31.', '3.', 'all.', 'decline=i', 'farthead==', '==', '|la=yes', '20:15', 'right-handed', 'power.if', 'long/short', '365.25', '365.2425', '365.2422', '365.22', 'fact-based', 'oprah-esque', 'attention-seeking', 'camwhore.', 'gfdl*', '*nix', '*nix', 'w.', 'said.', 'viewfromoldankara.jpg', 'notice***', 'edit/post/delete', 'assumed/hoped/expected', 'google.com', 'edit-conflict', \"'controversy\", '14th', 'i.', 'shah/', 'aktimur/', 'turkish-bulgarian', 'babaeski/turkey', '1924.', 'turkish-bulgarian', 'babaeski/turkey', 'b.1963', 'd.1985', 'b.1970', 'b.1977', 'b.1978', 'b.2006', 'clear-mindedness', '21:36', '3rr', '21:36', 'neo-skeptic', 'were/are', '==', 'ourcottage.jpg', 'copy-edited', 'copy-editing', '==yo', 'now==', 'pre-order', '21rst', 'immediately.', \"ma'am\", \"'floorball\", 'co-operation', 'a930913', 'dru_of_id', 'comment/question', 'g-d', '18:21', 'patent.', '4th', 'w/o', 'kurd-related', 'digg.com', 'reddit.com', '==history==', 'little-known', '-dralberthofmann', 'regards.', 'him/her', 's/he', 's/he', 'frere-jones', 'frere-jones', 'mr.', 'frere-jones', 'his/her', 'mr./ms', 'his/her', \"o'brien\", 'yfa|your', 'afd.', 'ok.', 'talk/contribs', '3rr', 'view.', \"'sri\", '.adilakshmi', 'discussion.these', 'arnaiz-villena', 'mr.', 'co-editor', 'k.', '21st', 'claus-steffen', 'removed.', 'day349', 'pre-enlightenment', '..', '05:04', 'month-day-year', 'day-month-year', 'full_date_formatting', 'conducted.', '-/', 'drug-related', 'drug-related', 'general.', 'fiasco-', 'truth-', 'questions-', 'question-', 'p.s.-', 'identity.', 'pages-', 'school-', 'stalker-type', 'dispute.', '3-revert', 'i.e', 'thanks..', 'doubts.', '00:36', 'ridiculous.', '3rd', '4th', 'block/ban', 't-shirts', 'damiens.fr', 'damiens.fr', 'damiens.fr', 'article..', '|decline=i', '==', '14:55', 'talk|contribs', 'north8000', 'talk|contribs', 'proposed/suggested', 'north8000', 'talk|contribs', \"pov'ing\", 'north8000', '3rr', 'edit-warrior', 'noticeboard/incidents', 'noted.', 'talk/contributions', 're-work', 're-works', 'well-sourced', 'anti-catholic', \"'separated\", 'well-sourced', \"ma'am\", '..i', 'dvyost|dvyost', 'pick-', 'b.', 'hu12', 'hu12', 'hu12', 'consequenceshu12', 'hu12', 'hu12', 'chat-site', 'chat-sites', 'administration.saffron1x', 'hu12', 'chat-site', 'chat-site', 'hu12', 'census.i', '81.7', '12.9', '4.2', 'u.s', 'u.s', '35-45', '85-97', 'u.s', 'long-lasting', 'sourcing.', 'free2play', '10.', 'paying.', 'birthday..', 'him..', 'jews..', 'together..', 'church..', 'fell..', 'e.g', 'i.e', 'pressure.', '3:40pm', '10:30pm', 'desudo-umsomekindofendinghere', 'investigations/arab', '~30', 'graphics/logos', 'boskit190/archive', 'tarttdonna.jpg', 'tarttdonna.jpg', \"'image\", \"'image\", 'free-licensed', 'you.', '=why', 'persians/iraninans', 'nonsesne.', 'self-referential', 'to.but', 'option-tehbazzard', 'momentum-carrying', 'boson-mediated', 'high-energy', '1970s', '1980s', 'boson-mediated', 'boson-mediated', 'micro-interaction', 'wording.', '8:12', 'investigations/', 'page.', 'instead.', 'scooby-doo', 'song/video', 'song/video', 'song/', 'robotman1974', 'jan.', '16th', 'nu-metal', '06:30', 'full-on', '*might*', 'm.v.e.i', '28.', '23:31', \"'wikistatute\", \"'abolish\", '2011-09', 're-synchronized', 'improvements/corrections/expansions', '2011-09', 'translation.', '|royalty-work-group=yes', '|listas=juan', 'non-averostran', 'edit-warring', 'madonna-charts.com', 'edit-warring', 'opinion/vote', 'association.this', 'non-profit', '.right', 'a.k.a', 'well-known', 'movie-goers', 'article.', '20:29', \"l'aerophile\", 'semi-protection', 'beh-nam', 'beh-nam', 'etc.', 'umm..', 'al-bargit', 'osgoode/nyu', 'song.', 'long-count', 'long-count', \"o'brien\", '500m', 'user-page', 'third-party', 'arbitration/requests/case/sockpuppet', 'arbitration/requests/case/sockpuppet', 'arbitration/guide', '9/11', '9/11', '9/11', \"'reverting\", '==in', 'feedback==', 'testing81', '~~~~', 'it.and', '|description', '|source', '|author', '|permission', '==licensing==', 'louis-modeste', 'louis-modeste', 'louis-modeste', 'g13', 'page-widening', 'g13', 'deletereason-dropdown', 'other|the', '02:40', 'i.e', 'described.', 'question.', 'deletion/winzapper', 'third-party', 'them.', 'means.', 'non-negotiable', 'self-published', 'suggestions.', 'thing..', \"'basic\", '_zero', 'understanding.', 'raul-reus', '21:18', 'utc+1', 'check-user', 'editors/admins', 'check-user', 'check-user', '3rd', 'check-user', 'www.network-tools.com', 'no-no', 'check-users', 'check-user', 'geo-ip', 'check-user', '==', '==', 'hard-earned', '.for', '9,999,999', 'someguy1221', 'edit-warring', 'etc.', 'edit-war', 'edit-warred', 'vol63', 'no21.gif', 'vol63', 'no21.gif', \"'image\", 'non-free', 'follow-up', '2009.', 'non-notable', 'second-hand', '1/', 'removed.', '2/', '3/', '4/', '5/', 'second-guessing', 'sub-editors', 'kmca-lp', 'editing.', '4chan', 'viz.', 'me.', 'pluto2012', 'encyclopaedia.', 'triplet/singlet', '*uses*', '*quantum-mechanical*', '*no*', 'simple.', 'proto-semitic', '=sour', '=vinegar', '=acid', 'shape.', '~~~~', 'emotionally-invested', 'non-standard', 'non-standard', '16:48', 'simple/complex', 'u.s.', 'silly.', '==', '==', \"'transcoding\", 'shady/aftermath/g-unit', 're-add', 'dan56', 'rock-base', 'even-handed', 'hip-hop', 'side.', 'self-important', 'kmh03', 'blocked/banned', 'admins/editors', 'betacommand/scienceapologiest', 'unblocked/unbanned', '.caspian', '10,000', '33.', 'skip-', 'match-', 'contains-', 'skip-', 'match-', 'contain-', \"'birth\", \"'category\", '250mb', '14:29', 'un-updated', 'oil-protein', 'so-called', 'half-baked', 'so-called', 'full-time', 'monitoring/editing', 'proven.', '3rr', 'auto-blocked', 'auto-blocked', 'super-really-verifiable', 'un-blocker', 'atomic49er', 'related-', 'already.', 're-institute', 'user931', '2nd', 'article.', 'production_website', 'low|attention=', '|peer-review=', '|old-peer-review=', '|image-needed=', '|needs-infobox=', '__toc__', '18-ethoxycoronaridine', '18-ethoxycoronaridine', '18-', '18-methoxycoronaridine', '2010.', '18-methoxycoronaridine', 'edgar181', '18-methoxycoronaridine', 'sigma-aldrich', '1996.', '18-ethoxy', 'she/he', 'd.', 'reliable_sources', 'thanks.', '*indeed*', 'well-written', 't|c', 'i.e', 'it.', 'puppets/cretanpride', '7th', 'page.', 'alexnewartbot/cricket', 'wrote/portrayed', 'in-universe', '*again*', 't2me', '.wolfowitz', 'g1', \"''talk\", 'inter-related', 'expanded..', 'each..', 'possibilities.', 'japanese-korean', '==regarding', '2008==', 'page.', 'agk/advice', '01:33', 'file:05', 'breakeven.ogg', 'file:05', 'breakeven.ogg', 'dawnseeker2000', 'ok.', 'blot-sven', 'article.', 'z.', 'no-blast', \"'the\", '2.5', 'anti-german', 'nazi-germany', 'duty**', 'comment.', 'can..and', 'can..hmm', 'self-referentially', 'self-publicist', 'point/civil/agf/idontlikeit', \"'gold\", 'self-published', 'well.', \"o'reilly\", \"o'reilly\", \"o'reilly\", 'well.', 'an/i', 'thtp-2d.jpg', 'thtp-2d.jpg', 'wikipedians/wikimedians', '05:14', '3rr', '2:19', 'mbk004', 'mbk004', 'v8', 'centuries-old', 'up-to-dateness', '2.0', '2.0', '.net', 'sp2', 'kashisharora11', \"'molecular\", '4th', 'o.j', 'o.', 'j.', 'e.g.', '09:05', 'self-proclaimed', 'yr.', 'he/she/they', 'is/are', 'mr.', 'dilek2', 'p.', '239.', 'p.o.d', 'statement.', 'vs.', '15:29', 'st.', '==', 'fearnley-sander', 'fearnley-sander', '2nd', '0.', '1/2', '1.5', '1/2', '1.', 'non-standard', '~1', '~6', 'ynyfrik.googlepages.com/kiev.m4a', 'mlb.com', 'edit-a-thon', 'art+feminism', 'edit-a-thon', '2015.', '870-6323', 'anglo-saxons', 'wiki-ing', '**controversy', 'one-line', 'new-comers', 'real-estate', 'hk-style', 'one-liner', '1980s', 'race/breed', 'finger-painting', '19:49', 'riot/massacre/etc', '03:33', \"'whomever\", 'dr.', 'dr.', 'dr.', 'dr.', 'dr.', 'anti-catholic', 'anti-catholic', 'dr.', 'opposite.not', 'them.they', 'can.never', 'nominations/siege', 'nominations/siege', '-steve', '2600:1003', 'b024:1d00:6454:55bc:92d6', 'b6e', '16:46', '16:54', 'care.-', 'random832', '01:00', '12:16', 'hd86', 'deletion/wikipedia', 'incubator/marie', '1/', '2/', '3/there', 'wheel-warring', '1/', '2/your', '3/', '90s', 'e-mail', 'invalid.', 'be/are', 'controversial/deemed', 'economy/society', 'thanks.', 'four-month', '1960s', '1960s', 'pundits.', 'arbitration/requests/case', 'controversial_images.2c_notcensored.2c_and_foundation_principles', 'ludwigs2', 'injuries/call-ups', 'cheers.', 'friends/chris', '1/2', 'way.', 'durand-kerner', 'hum1969', 'hum1969', '911plantisimo', 'hum1969', 'f***ing', 'the-15th', 'the-15th', 'german-jewish', 'talk/edits', 'nasrallah.jpg', 'non-free', 'vs.', 'g-unit', '~~~~', '3:16', 'all-loving', '17:15', 'hp7', 'double-skunk', 'triple-skunk', 'piggy-', 'self-assertion', 'm*a*s*h', 'perspective.', 'reviewed|1=', '==', '==', 'citizen/national', 'information.', 'egypt-related', 'a1', \"'data\", \"'data\", \"'it\", 'about.com', 'well-known', '09:59', 'command-line', '2.0', 'f.', 'page.', 'unblock|i', 'trekphiler|any', 'requirements.', 'past-within-past', 'engaged.', 'third-person', '22:32', 'hosuronline.com', 'hosuronline.com', 'syria.so', 'area.', '8.8', 'unblock|the', '~~', '11:30', 'you.', 'religion.', 'pen-y-ghent', 'bias.user', 'sock-puppet', 'alien-astronaught', 'literature.', '2009.', 'happy225', 'pocketpool.jpg', 'pocketpool.jpg', 'fair_use', '24/7', '1991-1994', '1991-1996', 'far-fetched', 'guest-stars', 'anyway.rocky', 'pro-palestinians', 'i/p', 't-birds', 'vn00', '3rr', 'roles/posts', 'chellappa.m', \"'the\", 'admin-reverted', 'power.', 'visual/picturesque/photogenic', 'child-disturbing', 'encyclopedia-friendly', 'c.', 'no-original-research', 'national-geographic-quality', 'haik-vantoura', 'deal.', 'helmsaur.gif', 'helmsaur.gif', 'non-free', \"'image\", 'you.', 'well.', 'interest.', '|talk', 'pro-serb', '2a', 'self-published', 'copy-paste', '//c', '6:45', 'p.m.', 'deletion/list', 'in-depth', '//', '~~~~', '2nd', \"bid'ah\", 'at-tabi', '1970s', '1980s', '21:35', '5-6', \"'_noticeboard/incidents\", '1995-1996.', 'nineteen-ninety-frickken-five', '83.7', 'mind.tab', 'funk.tab', 'wp:3rr', 'multiple-picture', 'u.s.', 'infonerd2216', 'two-hundred', 'ok.', \"'off\", \"'on\", \"'on\", 'heads-up', '1960s', 'afternoon.', 'well-known', 'non-classical-specialists', '3rd', '07:39', '01:16', '17:20', 'ass-muppet', '==name==', 'period.', '==', 'ten-foot', \"'unsigned\", '20-30', \"'record\", 'physics/participants', 'north-russian', '18:27', 'i.e', 'church.', 'tiktaalik_by_obsidian_soul_modified.png', '1.', '2.', 'a.', 'b.', 'an/i', 'editing.', 'deletion/the', 'me-', 'd.a', 'talk2me', 'unblock|', 'labor-management', '00:21', 'moped|moped', 'non-formatted', 'example.oggmedia', 'example.oggmedia', 'example.oggmedia', 'example.oggmedia', 'example.ogg', 'dmca-abiding', 'lawyer-power', 'fact-finding', 'puppets/nrcprm2026', '2nd', 'again.', 'e.g', 'suck.grawp', '18:38', 'p.s', '.jpg', '.jpg', 'created/took', 'non-free', 'non-free', \"'personal\", \"'dumb\", 'change==', '==', '-i', '2004.', 'n9ne', 'concerns.', 'sr.', 'mileyworld.jpg', 'mileyworld.jpg', 'non-free', '|charlie', '07:29', 'and/or', 'and/or', 'tower.jpg', 'pov-causing', 'opinion-based', 'research.', 'two.', '89.57.', '27.3', '89.5', '1925.', '27.3', 'm.', 'ft.', 'p.', '1pw', 'aromanian-romanian/romanian-aromanian', 'macedonian-aromanian/aromanian-macedonian', 'non-npov', 'non-npov', 'non-neutral', '16:04', 'editors.', '22:15', 'cherry-picked', 'clutter.', 'b.', 'o.', \"'limited\", \"edition'\", \"'limited\", 'english-language', 'opposite.', 'permissions-en', 'wikimedia.org', '~~~~', 'high-pressure', 'jet.', 'final/further', 'joseph2302', 'pls..', '.mwaaaaaaaaaaaaaaaaaaaaahaaaaaaaaaaaaaaaaaaaaaaaaaaaaaaaaaaaaaaaahaaaaaaaaaaaaaaaaaaaaaaaaaaaaaaaahaaaaaaaaaaaaaaaaaaaaaaaaaaaaaaaaaahaaaaaaaaaaaaaaaaaaaaaaa', '.in', 'msn.com', '|class=stub|importance=low|listas=history', '46.189.28', 'nazi-related', '1906.if', 'see.compare', 'neutrality.there', 'pages.english', 'neutral_point_of_view', 'cite_sources', '9/11', 'oil-rich', 'w.', 'b.', 'h.', '9/11', '9/11', 'avoid_peacock_terms', 'themselves..', 'well-designed', 'september_11_attacks', 'the_attacks', 'sources..', 'non-encyclopedic', 'non-existant', 'you.', 'african-american', '====', 'italian/spanish', 'well-phrased', 're-written', 'thanks.', 'pr/marketing', 'in-text', 'high-quality', 're-interpreted', 'de-conflict', 'you.veritas', 'usual/', 'say/', '13:57', '|decline=sorry', \"'stereotype\", 'inner-city', \"'worldly\", '1788.', \"'stereotype\", \"'all\", \"'all\", 'moves/tennis', '-thanks', '50/50', 'quiver_', '13:15pm', '07/06/07', 'anti-vandalism', 'anti-vandalism', '^.^', \"ibn-la'ahad\", '90,000', 'billion+', 'co-founder', '90k', 'sth235silverlover', 'p.s', '==', '==', 'improvised.', 'well-documented', 'magazine.achmednut321', 'auto-processing', '-x', 'already-existing', 'one-sentence', 'non-bot', 'careful.', '|technology', '|2008', '|-', '|wright', '|foreign', '|2005', '|-', '|zilinski', '|art', '|2006', '|-', '|zitz', '|foreign', '|2005', '4th', 'watchtower.', '74/75', 'short-pitched', '16th', 'n5', '00:17', '1st', '~~~~', 's/he', 'a-shell', 'link/unlink', 'is0.50atlantiumstamp.gif', 'is0.50atlantiumstamp.gif', 'non-admins', '01:55', 'readers.', 'html5', '-wikipedia', '-site', 'wikipedia.org', 'html5', '-wikipedia', '-site', 'wikipedia.org', 'no-lifer', 'supporting/objecting/tropicanising', '14/27/12', 're-apply', 'laugh-', 'chess.com', '21:58', 'proceed.', '==blood==', '~talk', '5.', 'editing.', 'indeed.', 'win/loss', 'end.', 'p.s', \"'canvassing\", 'quo=acceptable', 'position=unacceptable', \"'average\", \"'one\", \"'essays\", \"'constructive\", '2008-09', '2009-10', 'non-free', '1940s', '1950s', 'answers.com', '2008.', 'lennart.', 'f1tabuniversal', 'mil..', '1.', 'lame-brained', '2.', '3.', 'cop-', '4.', 'neo-nazi', '5.', '6.', 'retard-', 'korea-centric', '7.', '8.', 'ever-growing', '4/10', 'metropolitan_of_moscow_makariy_nevskiy.jpg', 'metropolitan_of_moscow_makariy_nevskiy.jpg', 'created/took', 'non-free', 'p.s', 'wikipedia.', 'pdf-documents', '1917-1922', '1917-1922', '|ukraine', '1921.', '2006-10-30', '03:34', 'individual.jpg', 'e-mail', ':thanks', 'now.', 'a7', 'yourself.', '/ama', 're-enlist', 'talk|', ':actually', 'marxist-leninist', 'anti-communist', 'tone.', 'dr.k', '3rr', 'anti-wp', 'and/or', 'blp-violation', 'wash.', 'mr.', 'un-called', 'teh_greatest', '16:57', \"'flickers\", 'u.s', 'u.s', \"'you\", 're-registering', \"'bout\", 'edit-a-thon', '7-20', '2015.', 'events.', 'copy-editing', 'look.', 'would-be', 'amazon.co.jp', '1,507,918', 'amazon.com', 'edit-happy', 'well-known', 'confirmation/feed', 'back/ideas', 'deleting/destoying', '1.', 'anti-masonic', '2.', \"'nullify\", 'anti-democratic', 'anti-administration', 'u.s.', '3.', '1832.', 'non-ordinary', \"'holla\", 'suggestion..', '==', '==', '23:22', 'snaaaaaaaahh.', '/dude', 'you.', 'fact.i', 'darkside05', 'up.', 'talk-contribs', '9+9', 'i.e', 'long_months', 'short_months', 'maj.', 'long_months', '=1', '=2', '=3', '=4', '=5', '=6', '=6', '=7', '=7', '=8', '=9', '=10', '=11', '=12', \"'januar\", '=1', \"'februar\", '=2', \"'mart\", '=3', \"'april\", '=4', \"'maj\", '=5', \"'jun\", '=6', \"'juni\", '=6', \"'jul\", '=7', \"'juli\", '=7', \"'avgust\", '=8', \"'septembar\", '=9', \"'oktobar\", '=10', \"'novembar\", '=11', \"'decembar\", '=12', 'short_months', '=5', '=6', '=7', \"'maj\", '=5', \"'jun\", '=6', \"'jul\", '=7', 'dot_months', '=1', '=2', '=3', '=4', '=8', '=9', '=10', '=11', '=12', \"'jan\", '=1', \"'feb\", '=2', \"'mar\", '=3', \"'apr\", '=4', \"'avg\", '=8', \"'sep\", '=9', \"'okt\", '=10', \"'nov\", '=11', \"'dec\", '=12', '=6', '=7', 'long_months', 'is_valid_month_range_style', '2015.', '04:54', 'deleter/deletor', \"'justice\", 'u2', 'u2', 'p.', 'p.', 'that.', \"queen's/king\", 'sh1t', 'l.', 'myeongseong.caspian', '6.9', 'wp:3rr', \"'come\", '-d', '==', '==', 'mind-', '10^10^100', '10^', '10^100', '10^', '10^7', '10^10000', '10^', '10^100', '10^100', 'court-hearing', \"'court-hearing\", \"'he\", 'first.', 'work..', '.you', '11/28', '01:19', 'money-bomb', 'internet-based', 'record-breaking', '5.', '2007.', '5th', 'modern-day', 'fawkes-like', 'one-day', 'break-up', 'co-produced', 'co-producer', 'that.', '30secs', 'wikipedian.', 'high-rise', '05:49', 'divy1996', '21:05', '07:34', 'puppets/mel_etitis', 'talk-email', 'anti-einstein', 'i.e', 'please.', 'aspersions.', '01:21', 'tali-ihantala', 'f*cking', 'go-ahead', 'zadora13', '45-50', 'asked.', 'zh.wikipedia', 'jim62sch', 'durrr..', '.put', 'eschweiler-clarke', 'were/are', 'is.', 'wp:3rr', 't//e/c', 'p.s', '^_^', '10th', 'minister.', 'e.g', 'dr.', 'flare-lit', '//en', \"all'indiano\", 'd.a.borgdorff', '|class=start', '|importance=high', '|gynecology=yes', 'three-sheet', 'one-sheet', 't-shirts', 't-shirt', 't-shirt', '23:38', 'obtaining_images', 'ok.', 're-insert', 're-insert', 're-insert', 'and/or', 'mind.', 'i.e', 'e.', 'w.', 'chapter/section', 'mr.', 'peer-review', 'article.', 'mickey125', 'mark-up', '~~~~', 'fun.', 'access/the', 'anti-gay', '~~~~', 'counter-narrative', 'self-immolation', 'self-immolation', 'self-immolation', \"'argument\", 'self-immolation', 'well-founded', 'side-box', 'evidence-based', 'image-making', 'counter-propaganda', 'lhd/rhd', 'pf770', 'two-tone', 'user_talk', 'kungming2|', 'actions.', 'watchlist.', '12:25', 'unclear-', 'sriwijaya-', 'temasek-', 'gujarat-', '-1400', 'nobility-', 'note-', 'mongols-', 'tribute-', 'pre-zheng', '17ish', 'matter.', 'mr.', 'english-speaking', 'editing.', 'self-reverts', 'self-revert', 'error.it', 'ural-375', 'ural-377', 'ural-375', 'ural-357', 'assertion.', \"amb'dor\", 'mitchel_francis', 'horacemann.org', 'a.', '100,000', 'talk:100,000', '19:02', '9th', 'two-parter', '20:39', 'off-the-cuff', 'used.', '100,000', 'vs.', 'agree/have', '16:18', '100,000', '100,000', '16:39', '08:41', \"'punch\", 'width=', 'style=', 'width=', 'style=', 'background-color', '|style=', 'border:1px', 'background-color', 'vertical-align', 'exclusively7', '~~~~', 'width=', 'style=', 'background-color', '|style=', 'border:0', 'background-color', 'vertical-align', '|style=', 'border:0', 'background-color', 'vertical-align', 'width=', 'cellpadding=', 'style=', 'vertical-align', 'background-color', '|-', '|style=', '|-', 'p.s', 'meta-analysis', 'meta-analysis', 'meta-analysis', 'meta-analysis', 'anti-vaccination', 'hyper-responders', 'fine.', 'self-soothing', '2007-', 'twelve-minute', 'logo.', 'anywhere.', '~~~~', 'bigweeboy/tm-evidence', '2.0', '1.', 'p.s', 'w.', 'un-simperingly', 'two-minute', 'bush-ites', 'self-importance', '14-year', 'today.', ':that', '20:26', 'g1', 'yourself.', 'style=', '0.1em', '08:23', 'e.g', 'pseudo-hindu', 'dawnseeker2000', '19:08', 'blp/nor', '22:54', '|sockpuppets|', \"'great\", 'etc..', 'revert-', '1.2', '1.8', 'sorting-out', '18:29', 'dokdo/liancourt', 'rock/takeshima', 'not.', '100x', '100x', '2602:252', 'd2d:4170', 'dea:9f7b:2752:4c92', '*i', \"j'accuse\", 'list.', 'two-letter', 'sm-geo-stub', 'serbia-montenegro', 'afghanistan-geo-stub', 'sorting/stub', 'place-related.2c_by_region_-_geography', '|hello', 'full-scale', '12:40', ':good', 'there.', 'a7', 'y-dna', 'adn-y', 'y-dna', 'y-dna', 'j1', 'elvispresley1', 'lowercase-g', '15:49', '07:25', 'mr.', 'studies/evidences', 'proto-iranian', '1.1', '1.3-1.4', 'east-asian', '19the', 'hidari-mitsudomoe', 'fijai-gumun', 'comma-shaped', 'midari-mitsudomoe', '1950.', '19th', '3-4', '1-2', '20not', '20prion', 'acceleration.-', 're-do', 'diannaa/archive', 'diannaa/archive', 'copy-edit', 'v.', 'la-area', 'first-ever', '19th', 'meetup/la/invite', 'ppv.c', 'gotcha..', 'al-rashid', 're-read', \"'boilerplate\", 'pre-written', \"'boilerplate\", 'case-specific', \"'dodo\", \"'addressing\", \"'address\", \"'meat\", 'non-involved', 'daco-thraco-protoalbano-greco', '11:01', 'hop.i', 'mrivera25', 'decline=there', 'and/or', 'gay.a', 'news-record', 'u.', 's.', 'fact.', 'abpw10', '2010-04-27', '0730z', 'like.', 'too.', 'talk|', \"'target\", \"'initiator\", 'ok.', 'denied.', 'ntributions/|explain', 'momusufan|momo', 'ph.d.', \"'fasst\", 'wile..', 'queer..', 'bastard..', 'durin-treatment', \"'em\", 'before.', '-or-', '3rr', '3rr', '21:19', 'i.e', 'pov-pushing', '4.3', 'inappropriate.', 'weirdly/elegantly', '14:08', 'jedstrutt.jpg', 'jedstrutt.jpg', 't.a.r.p.', '1999.', 'fifa.', '10/week', 'cycle.', '13:32', 'judeo-arabic', 'pacificwarrior101', 'non-collegial', 'whitewash.', 'slpl1', 'clear-cut', 'flat-out', 'was.', 'anti-irish', 'unblock-someone', 'copied/tweaked', 'x10', 'aww..', '15:40', '8th', 'no.i', '300lbs', 'too.my', 'face.sorry', 'ft2', 'pov-pushing', 'pov-pushing', 'b.d', 'm.', 'm.', 'little/no', \"'death\", \"o'neill\", 'cowboys-redskins', '-this', '-this', '-this', '09:46', 'i.e', '0.', 'matter-antimatter', '*goes', 'looks*', '18:13', 'non-free', 'non-free', 'copy-righted', '1871.', '1886.', '//website-in-a-weekend.net/making-money/advertising-design/', '21:25', 'cold7realm', 'disagree.', 'an/i', 'fact-tagged', '23:29', 'hummer2.jpg', 'hummer2.jpg', '1960s', \"'70s\", '16:57', 're-classify', 'all-important', '1700-1750', 'off-topic', 'ocean..', 'better.', 'ashley-ann', 'amazon.co.jp', 'removed.', '==i', 'code==', 'code.', '=50', \"'wikipedia\", \"'it\", \"'she\", 'point-blank-intuitive', 'well-founded', 'thanks.', 'copyright-free', 'osli73', 're-writes', '8th', '8th', '8th', 'mgb-81', \"'saved\", 'mtb102', '6th', 'vandals.', '=260732791', '=260409669', 'boys.', 'style=', 'background-color', 'f5fffa', 'cellpadding=', '|-', 'style=', '1px', 'background-color', 'f5fffa', 'vertical-align', '~~~~', 'width=', 'style=', 'background-color', 'f5fffa', '|style=', 'border:1px', 'background-color', 'f5fffa', 'vertical-align', 'width=', 'cellpadding=', 'cellspacing=', 'style=', 'vertical-align', 'background-color', 'f5fffa', '|-', '|style=', '|-', '|-', 'style=', 'list-style', '|-', '|-', 'style=', 'three-revert', '2010.', 'sovereign-free', 'write-off', 'write-off', '1992.', 'write-off', 'write-off', '10:09', 'gsd2000', 'e.g', 'gsd2000', 'gsd2000', '7:05', 'on-wiki', 'talk|', '16:31', 'skin-vul-lee', 'cross-linking', '//', 'side-tracking', 'article.', 'femininism.', 'a930913', '20:39', 'imdanumber1', 'right-hand', 'to/from', 'to/from', 'fig-leaf', 'high.', \"rv'ed\", 'how_to_ask_for_citations', 'so-called', 'so-called', 'well.', 'gentlemen.', '3rd', '750,000', '700,000', '700,000', '13:32', 'naming_conventions_', '28definite_and_indefinite_articles_at_beginning_of_name', 'rule_of_thumb', '14:05', \"'netherlands\", \"'the\", '14:17', \"'united\", \"'the\", '18:15', '18:01', 'u.s.', '.lol', 'a/an', 'standard.', 'article.', '~~~~', '16th', '09:21', '3-minute', 'transgressions/talk', 'a.rami', 'anti-evolution', 'evolution.2001', 'two-sentence', 'two-sentence', 'anti-evolution', 'anti-evolution', 'n.', 'publicmind.com', 'publicmind.com', 'stub-article', 'a7', '-web', 'assertions.', 'myspace.com', '1.', '3.', 're-read', '4.', 'pro-independence', '8.', '9.', '13.', 'israel.', 'e.g', 'en.wiki', 'talk/stalk', '34,000', 'toddst1', 'toddst1', '20th', 'full-protect', 'high.', '20:47', 'three-revert-rule', 'op-ed', 'e.', 'op-eds', 'and/or', 'peer-reviewed', 'mr.', '=//=', 'counter-strike', 'half-life', '7th', '2004.', 'hl2', 'st.paul', 'st.paul', 're-write', '33,000', '20:09', \"insh'allah\", '10,000', '13:53', 'thirty-seven', 'copy/paste', 'url-encoding', '03:17', \"'08\", 'everybody.', '25th', '2012.', 'amazon.com', 'non-pr', 'ok.', '07:01', 're-elected', '1970s', 'world.the', 'al-zawahiri', 'sipah-e-sahaba', 'tehreek-e-taliban', '1958-1991', 'land-locked', '1977-', '1978.', 'lashkar-e-jhangvi', 'lashkar-e-taiba', '.these', 'jihad.pakistan', 'ahl-e-hadith', 'organisation.kashmir', 'non-muslim', 'e.g', 'self-reported', 'mid-eastern', 'u|', '19:08', 'dr.', 'dr.', 'op-eds', 'must-reads', 'court-appointed', 'also.', '20.', 'loboborracho888', 'anti-semite', 'sure.', '2/28/07', 'nationalgeographic.com', 'earth-like', 'c02', 'man-made', 'super-mature', \"'ee'/'oo\", \"'regularity\", \"'one\", 'fix-it', 'yechiel.jpg', 'oxford-crappy-simplyfying', 'pov-pushers', 'you.', '20-30', 'lesbians/women', '9.30pm', \"'lebanese\", \"'australian\", 'one-sided', 'self-confessed', '2005.', 'preferences.', 'citation/reference', 'above.', 'neutral-point-of-view', '..', 'deletion.', '5b', '5bwikipedia', '3aarticles+for+deletion', '2fstephano+barberis', '5d', '5dafd', \"'save\", 'de-facto', 'well-sourced', '2007.', '2009.', 'wnd.com', 'foxnews.com', '.we', 'pro-homeopathy', 'mess-up', '|listas', '==', '==', '16-', 'launches.svg', 'launches.svg', '31st', 'anyway..', 'sentiment.', '5th', 'jonesey95', '5th', 'n.', '1.', 'i.e', 'c.', 'a-class', 'quick-failed', 'a-class', 'quick-fail', 'quick-fail', 'a-class', 'b-class', 'p.', 'wiki-known', '6-fingered', 'love-child', \"'emptyness\", 'emptyness/space', 'confusion.', '==ga', 'review==', 'sholay/ga1', 'talk2me', 'talk2me', 'laws.', '1939-40', '1944-45.', '1939-40', '1944-45', '19:10', '18:20', 'sub-article', '100k', 'sub-pages', 'clue-bat', 'block/unblock', \"'does\", 're-add', 'd.', 'co-conspirator', 'ussr.', 'failed/crashed/blew', 'up/was', 'high-profile', 'highly-edited', '447.', 'origin/destination', 'edit-only', 'never-talk', 'ps4', \"'t\", '2.', 'involutions.', 'm_ij', '20:11', 'coconutfred73', '9:45', 'know-it-alls', 'style=', 'background-color', 'f5fffa', 'padding:0', 'cellpadding=', '|style=', 'border:1px', 'background-color', 'f5fffa', 'vertical-align', 'pfm77', '~~~~', 'width=', 'style=', 'background-color', 'f5fffa', '|style=', 'border:1px', 'background-color', 'f5fffa', 'vertical-align', 'three-revert', 'non-free', '|class=', 'style=', 'border:1px', 'background-color', 'f5fffa', 'vertical-align', 'width=', 'cellpadding=', 'cellspacing=', 'style=', 'vertical-align', 'background-color', 'f5fffa', '|-', '|style=', \"'this\", 'style=', 'background-color', 'f5fffa', 'padding:0', 'cellpadding=', '|class=', 'style=', 'border:1px', 'background-color', 'vertical-align', 'font-size:85', 'dagnall1', '~~~~', 'width=', 'style=', 'background-color', '|class=', 'style=', 'border:1px', 'background-color', 'vertical-align', 'three-revert', '|class=', 'style=', 'border:1px', 'background-color', 'vertical-align', 'width=', 'cellpadding=', 'cellspacing=', 'style=', 'vertical-align', 'background-color', '|-', '|style=', \"'versailles\", \"'philharmonic\", 'two-week', 'anymore.', 'insta-blocked', 'desysop/block', 'long-term', 'captain-poison', 'non-pov', 'al.', 'three-revert', 'three-revert', '18:37', 'apostrophe-s', 'so.', 'tip-off', 'tip-off', 're-address', '16:02', 'post-u.s.-copyright-protection', 'not-withstanding', '||', 'a.', '17:05', '80.', 'bart133', \"'juvenile\", '06:46', '1598-1600', 'capture/trade/steal', 'i.e', '330-307-2428', '.holla', 'anti-catholic', 'so-called', 'wishy-washy', 'time.', 'v.5', 'v.5', '3/4ths', '2006.', 'ok.', 'user-edited', 'web-based', 'non-notability', 'closely-related', 'b.a', 'b.s', 'b.s', 'b.s', 'b.a', 'b.a', 'b.s', 'science/studies', 'b.s', 'b.a', 'b.a', 'b.a', 'b.s', 'b.s', 'b.a', 'b.s', 'b.s', 'b.a', 'b.a', '****ing', '****', 'tornado/twister', 'jarvis76', 'i.e', 'waterlooroad.co.uk', 'i.e', 'waterlooroad.co.uk', 'twitter.com/waterlooroadtv', '1st', '==', '==', 'self-references', '~~~~', '05:10', 'vs.', 'text-screenshot1.png', 'text-screenshot1.png', 'cargo==', '==', 'non-neutral', 'non-intrusive', '~~~~', 'guidelines.', 'f.', 'w.', '233-235', 'it.', '04:47', 'non-sequitor', 'non-analogous', 'out-of-whack', 'halves.', ':many', 'non-indian', '.man', 'mr.', 'and/or', 'non-masonic', 'e.g', '09:10', '00:03', \"'wikicrats\", 'self-importance', '1969.', 'err..', 'buydrugs247.com', 'khalili.pdf', 'fascists-', 'aughanmellatis-', '1st', 'g4', 'up-to-date', '2nd', 'amazon.com', '3rd', 'g4', '14:49', 'tanthalas39', 'u+200e', 'left-to-right', \"'literature\", 'copy/paste', 'de-italicized', 'c.s', '^_^', 'country/archive', '15:21', 'wikipedia-', 're-working', 're-inserting', 'all-purpose', 'e.g.sustainable', 'e.g.', 'e.g.', 'eco-municipalities', 'e.g.', 'ms13', '22:13', '|filename=skream-rutten-sample.ogg', '|title=skream', '|description=excerpt', 'half-time', '|format=ogg', '0.5', 'class-a', '==please', 'silly==', \"'chateauesque\", '19th', 'taste.', 'ping|tony1', 'bit.', 'stupid..', 'life..', 'nut..', \"'tastes\", \"'ice\", \"'great\", 'mediawiki.org', 'i.e.', '100.', 'coolie/koolie', '6/1/06', '6th', 'e-mailing', '~~~~', '2,000', \"'reviews\", '83kb', 'x2', 'middle-east', 'woul.d', 'don.t', 'version.', 'jean-thierry', 'bus-shelters', '-instinct', '*is*', \"'controversies\", 'f-in', '*legendary*', '-aidan', '==', '==', 'tri-mage', '.cute', 'cccc|7|0', 'padleft:300000|7|0', '0,300,000', '5,000-10,000', \"'~\", '5.', 'ps3', 'ps3', 'long-term', 'semi-protected', 'guys/gals', 'encyclopedia.', '10am', 'radio666', '\\\\talk', 'biology.umaine.edu', '03:43', 'a7', 'subject-specific', 'dr.', '==', '==', '/*', '*/=', 'ms.', '09:02', 'oct.', 'fan-work', \"'revert\", '13:45', 'e.g', \"'memory\", 'ill-advised', 'thanks.', '1970s', '1980s', '1990s', '2000s', 'neilptimrose.jpg', 'non-valid', '07:48', 'removal_of_uncivil_comments', 'crime/offense', 'width=', 'style=', 'width=', 'style=', 'background-color', '|style=', 'border:1px', 'background-color', 'vertical-align', '~~~~', 'width=', 'style=', 'background-color', '|style=', 'border:0', 'background-color', 'vertical-align', '|style=', 'border:0', 'background-color', 'vertical-align', 'width=', 'cellpadding=', 'style=', 'vertical-align', 'background-color', '|-', '|style=', '|-', '3com', '1980.', 'master-slave', 'c-64', 'vic-20', 'vic-20', 're-hired', \"ele'ele\", 'hi.', 'high-visibility', 'lower-visibility', 'jamies93', \"'the\", \"'45\", '\\\\talk', 'zmjb37', '~~~~', 'a7', 'a7', 'm1gosyrntrillog', '1988/89', '1996/97', '1988/89', 'template:1988/89', '1990/91', 'template:1990/91', '1991/92', 'template:1991/92', '1992/93', 'template:1992/93', '1993/94', 'template:1993/94', '1993/94', 'template:1993/94', '1994/95', 'template:1994/95', '1995/96', 'template:1995/96', '1996/97', 'template:1996/97', '1987/88', 'e.g', 'grateful.', 're-adding', 'music-related', 'half-full', \"'em\", 'bad.', 'sen.', 'quickly.', '|decline=no', 'e-mail', 'non-sysop', 'them.', 'vs.', 'info-deleting', 'chappelle-nadal', 'third-parties', 'secondary-source', 'non-issue', 'now-settled', '5s', '3g', '3gs', '4s', 'co-founded', '03:11', '103,103', '-816', 'us.', 'you..', 'six-day', 'pre-war', 'blood-curdling', 'al-yahud', 'six-day', 'so-called', 'so-called', 'israeli-occupied', 'far-reaching', 'removed.', '23:59', '3d', 'zx81', 'zx81', 'zx81', 'must-have', '64.', 'ibid.', 'p.', '66.', '67.', 'cit.', '68.', '69.', '70.', 'p.', '71.', 'cit.', '120.', 'cit.', 'p.', '72.', 'cit.', '73.', '74.', 'cit.', 'p.', 'ibid.', 'p.', 'cit.', '76.', 'he-goats', '70a', 'v.', '77.', '78.', 'free-masonry', 'd.f', 'a.q.c.', 'well.', 'thanks.', 'anti-muslim', '800,000', 'fiszbein-cct', 'cover.gif', 'fiszbein-cct', 'cover.gif', 'fucking-ass', 'rock-hard', 'weed-smoking', 'piss-poor', 'man-hag', 'f++ked', 'an/i', 'page.if', 'me.thanks', 'old-school', 'gwb-style', 'music-stub', 'classical-comp-stubs', 'mis-edits', 's.', 'v8', 'edit-warring', 'serbo-croatian', 'serbo-croato-slovene', 'wiki-troll', 'it.', 'clarkcj12', 'jecob8888', 'jecob88888', 'jecob88888', 'himself/herself', 'he/she', 'vulture11.jpg', '\\\\talk', \"'fenian\", 'an/i', '3rr', '3rr', 'test..', \"'test\", 'article/page', 'the_maiden_city', 'blue_is_better', '08:18', 'wikipedia86', '19+9+14', '19+9+14', 'editing.', 'i.e', 'east718', 'herbertgursky.jpg', 'herbertgursky.jpg', 'i.e.', 'created/took', 'fair_use', '3rd', 'a520', 'a520', 'a.', 'corbett-fiacco', 'as-yet', 'self-published', 'gmail.com', 'self-promoting', 'national/religious/cultural', 'self-publish', 'corbett-fiacco', 'alexa.com', 'undergo-', 'research/information', 'u/l', '1.81', 'non-profits', 'neo-liberal', 'e.g.', 'happyme22', 'adtiors/administrators', 'non-npov', '-again-', 'happyme22', 'adtiors/administrators', 'non-npov', '-again-', 'happyme22', 'adtiors/administrators', 'non-npov', '-again-', 'happyme22', 'adtiors/administrators', 'non-npov', '-again-', '65000+', 'non-native', 'u.s.', '13:13', 'albatross18', '2008.', '2009.', 'thanks.', 'away.i', 'truth.these', 'today.rest', 'propaganda.the', 'it.byebye', '==origin', 'article==', 'derild4921', \"'help\", 'john_d._axtell', 'e-mail', 'e-mail', 'country.', ':you', 'genseiryu-butokukai', 'genseiryu-butokukai', 'mr.', \"'our\", 'sarah_ewart', '17:16', 'p.s', 'theo789', 'i.e', 'bf2', 'bf2', \"'killing\", 'u.s.', 'two-year-long', 'a-class', '15,000', '2,000', 'greece-related', 'greece-related', '.to', 'greece/outreach', 'pietrosperoni/primal', ':actually', 'isbn:8172013329', 'written.', 'questions/concerns', '.sorry', '..', 'backed-up', 'flyer22', 'film.', 'm8', 'geographic/cultural', 'is/was', 'i.', '*his*', \"'wisemen\", 'look-up', 'nine-year-running', 'luck.', 'vanessaluver4ever', 'encyclopedia.', \"'king\", \"'the\", 'e.g', '-anon', '11:23', '-doing', '8.4', '2nd', 'drop-down', 'arms/trade', '2nd', 'here.', \"'other\", 'wgkf.', 'i.e', 'turkish/arab/african', 'well..', '==', '==', 'mr.', 'and/or', 'mr.', 'a.', 'non-ethnic', 'mr.', 'national/ethnic', 'b.', 'mr.', 'and/or', 'crum375', 'a-hole', 'dittu_dittu', 'rediffmail.com', '.love', 're-submit', '1.2', 'page.', 'en.wikipedia', 'cad-related', 'man-hours', '17:05', 'afraid..', '20:39', 'e.g', '18.', 'self-proclaimed', '20th', '1949.', 'reason.', 'anti-catholic', 'mr..', 'mr.', 'e.g.', 'bank-issued', 'e.g.', 'u.s.', 'u.s.', 'u.s.', 'money.', \"'metropolitan\", 'win.', 'here.', 'kudzu1', '1.', '2.', '3.', '4.', 'long-term', 'opinion.', '2008.', '1/5/09', '~~~~', 'discussing-', '-our', '1945.', 'him/her', 'he/she', \"j'accuse\", '3rd', 'a.', 'b.', 'a.', 'b.', 'c.', 'a.', 'b.', 'a.', 'non-free', 'b.', '|some', 'review/copyedit', '|very', 'review/copyedit', 'countries.', 'it.', 'category_talk', 'discrete_distributions', '=//=', '==', 'ankle-length', 'asia/mongolia', '02:05', 'you.', 'lame-duck', 'content-', '08:27', '16.', '-7', '48hr', 'talk/stalk', 'hahc21', 'nominations/papi', 'paraphrasing/quoting', 'as-is', 'to-be', 'value-add', 'creative/innovative', 'state-transition', 'nlp.', '17:55', '*the', 'u.s.', 'u.s.', 'information.', 'site.', 'history/literature', 'accomplish.', 'j.', 'language.', '424==', 'pp.79-80', '4.50-2', '==', 'facethered.com', 'free-to-all', 'organization.', 'noart.uh', '=1', '=2', '=utf-8', 'q=amiel', '20tison', '==', '2007.', '==', 's/then/than/', 'off-wiki', 'topic-ban', '18:33', \"'cause\", \"'38\", \"'44\", \"'44\", 'katrina-like', \"'44\", 'n.j.', 'coi/sockpuppetry', 'wiki-pedos', 'searchers2.com', '-good', 'nazi/evil', 'dictatorship/totalitarianism', 'pro-freedom', 'religion/speech', 'pro-freedom', 'pro-whatever', 'self-absorbed', 'e=not', 'life-living', 'peejay2k3', 're-add', 'consensus-builders', '*snicker', 'obtained.-', 'inappropriate.', '17:54', 'up.', 'him/her', 'articles.you', 'asquirm.jpg', 'asquirm.jpg', 'relevant.', '.which', 't/c', 'belly-cheeze', '3lee3', '8allz', 'omgzkenda.jpg', 'omgzkenda.jpg', 'israeli-lebanese', 're-iterate', 'no-one', 'middle-east', 'pro-israeli', 'pro-muslim', 'bias.', \"'numerology\", 'g-d', 'g-d', '6:10', '6:18', '7:7.', '22:19', 'middle-earth', '2.', 'wikipedia.', 'solstice.jpg', 'solstice.jpg', '13:45', 'mr.', 'd.a', \"d'existence\", \"d'une\", 'd.a', '12:53', 'non-democratic', 'austro-hungarian', 'etc.', 'creation/sheikh', 'r.a', 'submission/submit', 'non-neutrality', 'non-neutral', 'a.k.a.', 'double-standards', 'non-neutrality', 'non-neutral', 'non-neutral', 'fair-and-balanced', 'vs.', 'non-neutrality', 'so-called', 'evidence-based', 'i.d', 'i.d.', 'i.d', 'i.d', 'non-neutral', 'scientific-basis', 'non-neutrality', 'watchdog-like', 'you.', 'user_page', 'how_do_i_delete_my_user_and_user_talk_pages.3f', 'en-wiki', 'post-testing', 'user_talk', 'geospatial-intelligence', 'nuts+lau', 'adm1', 'first-order', 'adm2', 'second-order', 'first-order', 'adm3', 'third-order', 'second-order', 'adm4', 'fourth-order', 'third-order', '2-4', 'adm1', 'i.e', '//sbay.transportation', 'mr.', 'sbay.transportation', 'co-founded', '//ba.transportation', '==', 'huastecapic.jpg', '==', 'huastecapic.jpg', 'non-commercial', 'non-profit', 'non-commercial', 're-upload', 'attribution-sharealike', ':you', 'all.', 'him.', 'counter-coup', 'vs.', 'jacobs.00', 'talk|email', '==', '==', 'mediawiki_talk', 'co-exist', 'tc-a', 'sort-of', 'weeks.', '23:24', '2.0', 'you.', 't1', '/userboxes/', '|listas', 't/c//wp', 'chicago/wp', 'coi/npov', 'do-it-yourself', 'article.', '~stealthepiscopalian', 'de-escalate', 'vs.', '12:52', \"mu'min\", 'munafiq.', 'article.thank', 'dan56', 'dan56', \"'the\", \"'45\", 'down-on-their-luck', 'and/or', 'electro-arc', '22:01', 'al-libi', 'al-qaeda', 'high-ranking', 'pre-authorisation', 'context.', '~~~~', 'sigh*', 'her/his', '*septegram*talk*contributions*', 'y4kk', 'it.', 'unpleasant.', 'cutting-edge', '4-corner', 'closed-minded', 'dynamic/cyclical', 'proselytisation/brainwashing', 'word-scam', 'word-shackles', 'academic-induced', '1-corner', '4-corner', 'name-calls', 'problem.', 'e.g', 'block/unblock', 'arbitration/requests/case/eastern_european_mailing_list/proposed_decision', 'arbitration/requests/case/eastern_european_mailing_list/workshop', 'editing_restrictions_proposal', 'wikipedia_talk', 'arbitration/requests/case/eastern_european_mailing_list/proposed_decision', 'on_russavia', 'user_talk', 'alleged_legal_threats_issued_by_myself_and_unblock_request', 'admin.', 'unblock-to-participate-in-the-rfar', 'blocking/unblocking', 'you/we', 're-evaluate', '0.02', 'night/saturday/sunday', '==', '==', 'socio-political', '5th', '6th', 'one-sided', 'innapropriate.', 'adamsawlawrence.jpg', 'adamsawlawrence.jpg', \"'image\", 'non-free', 'you.', 'it.thanks', 'edit-warring', '==', '==', 'all.', 'ed17', 'style=', 'border:1px', 'background-color', 'align=', 'australia|', 'align=', 'nz|', 'align=', 'egypt|', 'align=', 'fiji|', 'align=', 'usa|', 'align=', 'canada|', 'align=', 'brazil|', 'agenda.talk', 'please..why', 'bible-based', 'a-weighting', 'equal-loudness', 'noise-like', '~~~~', 'kosovo-related', '|decline=while', 'well-written', '18:54', 'x-men', \"'eleanor\", 'wp:3rr', \"'ip\", '3rr', 'autoblock-finding', '20:48', '*are*', '9/11', 'radiation-induced', 'review/asics|editor', 'arch-debunker', 'higher-ups', 'order.', \"ma'am\", '2008-06-02', '18:01', '^_^', '.jpg', '18:59', 'clean-up', 'sicilian/french', 'said.', '11:00', '1,500', 'high-resolution', 'non-free', 're-add', 'pacificwarrior101', 'events/canada', 'stop-band', 'band-reject', 'band-reject', 'self-proclaimed', '21st', 'century.', 'i.e.', '_monitor', 'non-jewish', '_monitor', 'g11', 'image:13766776.jpg', 'image:13766776.jpg', '-a', 'ms.', '1908.', '1-minute', '45-second', 'hour-long', 'u.s.', '1903-1905', 'dec.', 'w.', 'lc-w86-', 'w.', 'dec.', 'front-rudder', 'ok.', 'dec.', '==', '==', '2008/candidate', 'statements/jehochman/questions', '09:20', '.not', 'colleagues/coworkers/whatever', '300,000,000', 'w/', 'st.', 'conduct==', '/why', '==', 'co-ordinate', '3rr', \"'when\", '*do*', 'article.srq', 'se-sick', '1991-1995', 'wars-', 'mind.', 'm.e', '22:33', '3.', '11:14', 'hw007', 'hw007', '-was', 'ps-', '21:21', 'flyguy649|talk', ':a.mandel', 'set.', '20ish', 'div-1', 'editing.', 'enough.', 'way.', 'broadband.gov', 'cross-ownership', 'prof.', \"amb'dor\", 'user_talk', 'talk|email', \"'unconscious\", 'meaning/reference', '16:23', '13:33', 'policy.wikipedia', 'kura_', 'japanese_saddle', '337th', 'wikibreak||', '3-manifold', 'h_1', 'non-separating', 'pi_1-injective', '3-manifold', '3-manifold', 'register-guard', 'anti-military', 'post-standard', 'magazine..and', '21:25', 'anti-gay', 'ibrahimovic.', 'fair-use', 'cc-sa-2.5', 'wiki-friendly', 'anti-copyright', 'nontrinitarianism/references', '-might-', 'self-styled', 'so-called', 'self-styled', '20:14', 'non-notable', \"'inverted\", 'non-notable', 'so-called', '17:19', 'counter-claim', 'far-off-the-scale', 'at..']\n"
     ]
    }
   ],
   "source": [
    "# Let us check if any non-alphabatic characters are present in cleaned text data\n",
    "\n",
    "comment_text_check = []\n",
    "for item in comment_text_cleaned:\n",
    "    for word in item:\n",
    "        if not word.isalpha():\n",
    "            comment_text_check.append(word)\n",
    "print(comment_text_check)"
   ]
  },
  {
   "cell_type": "markdown",
   "metadata": {},
   "source": [
    "## We can see from above output that we need to perform following additional task for more text cleaning:\n",
    "\n",
    "Replace following characters \"-\", \"_\", \"/\", \"+\" with \" \"\n",
    "Replace \".\" \",\" \"|\" \":\" \"=\", \"'\", \"~\", \"^\", \"\\\", \"0-9\" and \"\\\" with \"\""
   ]
  },
  {
   "cell_type": "code",
   "execution_count": 24,
   "metadata": {},
   "outputs": [],
   "source": [
    "comment_text_cleaned1 = []\n",
    "for item in comment_text_cleaned:\n",
    "    cleaned_text = re.sub('[-+_/]', ' ', \" \".join(item))\n",
    "    cleaned_text = re.sub(\"[.,|:='~^0-9\\\\\\]\", \"\", cleaned_text)\n",
    "    comment_text_cleaned1.append(cleaned_text)"
   ]
  },
  {
   "cell_type": "code",
   "execution_count": 25,
   "metadata": {},
   "outputs": [
    {
     "name": "stdout",
     "output_type": "stream",
     "text": [
      "['poco*', '*read*', '****', '****ing', '****', 'd*', '*yes', 'f*ck', 'f***ing', 'f***ing', 'f*cking', 'f*cking', '*not*', '*hugs*', '*more*', 'f***', 'f***', 'c***s', 'c***s', 'fu*kwit', 'f*cking', '*accidental*', '*once*', '*both*', 'gfdl*', '*nix', '*nix', 'notice***', '*might*', '*uses*', '*quantum', 'mechanical*', '*no*', '*indeed*', '*again*', 'duty**', '**controversy', 'f***ing', 'm*a*s*h', 'f*cking', '*i', '*goes', 'looks*', '****ing', '****', '*is*', '*legendary*', '*', '*', '*his*', '*the', '*snicker', 'sigh*', '*septegram*talk*contributions*', '*are*', '*do*']\n"
     ]
    }
   ],
   "source": [
    "comment_text_check = []\n",
    "\n",
    "for item in comment_text_cleaned1:\n",
    "    for word in word_tokenize(item):\n",
    "        if not word.isalpha():\n",
    "            comment_text_check.append(word)\n",
    "print(comment_text_check)"
   ]
  },
  {
   "cell_type": "markdown",
   "metadata": {},
   "source": [
    "## We have cleaned our text data completely. Lets move to next step."
   ]
  },
  {
   "cell_type": "code",
   "execution_count": 26,
   "metadata": {},
   "outputs": [],
   "source": [
    "# 7. Define a function to perform all these steps, you’ll use this later on the actual test set\n",
    "\n",
    "import re\n",
    "from nltk.tokenize import word_tokenize\n",
    "from nltk.corpus import stopwords\n",
    "import string\n",
    "\n",
    "sw_custom = [\"must\", \"would\", 'could', \"'s\", \"n't\", \"'m\", \"'re\", \"'ve\", \"'ll\", \"'d\", \"''\", '``','...','•','—',]\n",
    "sw_punc = stopwords.words('english') + list(string.punctuation) + sw_custom\n",
    "   \n",
    "def clean_text(text):\n",
    "    # Using regular expressions, remove IP addresses\n",
    "    rule_ip = r'\\d{1,3}\\.\\d{1,3}\\.\\d{1,3}\\.\\d{1,3}'\n",
    "    text_data_ip_rem = re.sub(rule_ip, '', text)\n",
    "\n",
    "    # Using regular expressions, remove URLs\n",
    "    rule_url = (\"((http|https|http://www.|https://www.|www.))\" +\n",
    "                 \"[a-zA-Z0-9@:%._\\\\+~#?&//=]\" +\n",
    "                 \"{2,256}\\\\.[a-z]\" +\n",
    "                 \"{2,6}\\\\b([-a-zA-Z0-9@:%\" +\n",
    "                 \"._\\\\+~#?&//=]*)\")\n",
    "    text_data_ip_url_rem = re.sub(rule_url, '', text_data_ip_rem)\n",
    "\n",
    "    # Normalize the casing\n",
    "    text_data_normalized = text_data_ip_url_rem.lower()\n",
    "\n",
    "    # Tokenize using word_tokenize from NLTK\n",
    "    text_data_tokens = word_tokenize(text_data_normalized)\n",
    "\n",
    "    # Remove stopwords and punctuations\n",
    "    text_data_sw_removed = [word for word in text_data_tokens \n",
    "                         if ((word not in sw_punc and word.isascii()) and not word.isnumeric())]\n",
    "\n",
    "    # Further cleaning text data\n",
    "    text_data_string = \" \".join(text_data_sw_removed)\n",
    "    text_data_string1 = re.sub('[-+_/]', ' ', text_data_string)\n",
    "    text_data_cleaned = re.sub(\"[.,|:='~^0-9\\\\\\]\", \"\", text_data_string1)\n",
    "    return text_data_cleaned"
   ]
  },
  {
   "cell_type": "markdown",
   "metadata": {},
   "source": [
    "## 4. Using a counter, find the top terms in the data.\n",
    "\n",
    "Can any of these be considered contextual stop words?\n",
    "Words like “Wikipedia”, “page”, “edit” are examples of contextual stop words\n",
    "If yes, drop these from the data"
   ]
  },
  {
   "cell_type": "code",
   "execution_count": 27,
   "metadata": {},
   "outputs": [],
   "source": [
    "import nltk\n",
    "\n",
    "comment_text_cleaned_merged = []\n",
    "for item in comment_text_cleaned1:\n",
    "    comment_text_cleaned_merged = comment_text_cleaned_merged + item.split()\n",
    "\n",
    "comment_freq = nltk.FreqDist(comment_text_cleaned_merged)"
   ]
  },
  {
   "cell_type": "code",
   "execution_count": 28,
   "metadata": {},
   "outputs": [
    {
     "data": {
      "text/plain": [
       "[('article', 1732),\n",
       " ('page', 1530),\n",
       " ('wikipedia', 1442),\n",
       " ('talk', 1211),\n",
       " ('please', 1042),\n",
       " ('ass', 990),\n",
       " ('fuck', 908),\n",
       " ('one', 879),\n",
       " ('like', 845),\n",
       " ('also', 658),\n",
       " ('see', 631),\n",
       " ('think', 630),\n",
       " ('know', 596),\n",
       " ('edit', 581),\n",
       " ('people', 554),\n",
       " ('use', 554),\n",
       " ('name', 544),\n",
       " ('may', 534),\n",
       " ('articles', 493),\n",
       " ('time', 488),\n",
       " ('user', 439),\n",
       " ('thanks', 436),\n",
       " ('even', 404),\n",
       " ('well', 403),\n",
       " ('deletion', 394),\n",
       " ('information', 393),\n",
       " ('make', 391),\n",
       " ('good', 379),\n",
       " ('suck', 375),\n",
       " ('get', 369),\n",
       " ('image', 369),\n",
       " ('want', 364),\n",
       " ('mexicans', 362),\n",
       " ('editing', 353),\n",
       " ('help', 350),\n",
       " ('wp', 347),\n",
       " ('way', 341),\n",
       " ('pages', 339),\n",
       " ('edits', 338),\n",
       " ('thank', 335),\n",
       " ('first', 334),\n",
       " ('new', 327),\n",
       " ('sources', 326),\n",
       " ('need', 310),\n",
       " ('say', 308),\n",
       " ('source', 304),\n",
       " ('many', 303),\n",
       " ('really', 301),\n",
       " ('deleted', 300),\n",
       " ('used', 285),\n",
       " ('fucking', 283),\n",
       " ('work', 281),\n",
       " ('section', 280),\n",
       " ('go', 276),\n",
       " ('find', 272),\n",
       " ('discussion', 267),\n",
       " ('right', 266),\n",
       " ('take', 264),\n",
       " ('look', 264),\n",
       " ('point', 263),\n",
       " ('made', 263),\n",
       " ('read', 261),\n",
       " ('since', 254),\n",
       " ('add', 253),\n",
       " ('two', 251),\n",
       " ('still', 251),\n",
       " ('much', 247),\n",
       " ('content', 246),\n",
       " ('gay', 246),\n",
       " ('someone', 243),\n",
       " ('fact', 240),\n",
       " ('link', 238),\n",
       " ('ytmnd', 238),\n",
       " ('back', 236),\n",
       " ('feel', 235),\n",
       " ('free', 231),\n",
       " ('something', 226),\n",
       " ('utc', 223),\n",
       " ('subject', 222),\n",
       " ('editors', 222),\n",
       " ('list', 221),\n",
       " ('case', 221),\n",
       " ('blocked', 221),\n",
       " ('sure', 218),\n",
       " ('going', 212),\n",
       " ('note', 209),\n",
       " ('welcome', 209),\n",
       " ('history', 209),\n",
       " ('without', 208),\n",
       " ('removed', 207),\n",
       " ('wiki', 206),\n",
       " ('stop', 202),\n",
       " ('personal', 202),\n",
       " ('comment', 202),\n",
       " ('said', 201),\n",
       " ('put', 201),\n",
       " ('added', 201),\n",
       " ('person', 201),\n",
       " ('let', 198),\n",
       " ('however', 198),\n",
       " ('us', 196),\n",
       " ('links', 195),\n",
       " ('policy', 194),\n",
       " ('reason', 192),\n",
       " ('might', 192),\n",
       " ('block', 191),\n",
       " ('never', 190),\n",
       " ('nigger', 190),\n",
       " ('ask', 189),\n",
       " ('question', 189),\n",
       " ('another', 187),\n",
       " ('questions', 187),\n",
       " ('speedy', 186),\n",
       " ('place', 186),\n",
       " ('things', 185),\n",
       " ('done', 185),\n",
       " ('better', 183),\n",
       " ('keep', 182),\n",
       " ('using', 181),\n",
       " ('remove', 180),\n",
       " ('thing', 180),\n",
       " ('wales', 180),\n",
       " ('seems', 179),\n",
       " ('fair', 179),\n",
       " ('believe', 176),\n",
       " ('vandalism', 176),\n",
       " ('anything', 176),\n",
       " ('others', 175),\n",
       " ('comments', 175),\n",
       " ('tag', 175),\n",
       " ('rather', 174),\n",
       " ('hope', 173),\n",
       " ('best', 172),\n",
       " ('die', 172),\n",
       " ('actually', 170),\n",
       " ('jim', 166),\n",
       " ('though', 165),\n",
       " ('wrong', 165),\n",
       " ('sorry', 164),\n",
       " ('ip', 163),\n",
       " ('hi', 162),\n",
       " ('non', 160),\n",
       " ('text', 160),\n",
       " ('issue', 159),\n",
       " ('already', 158),\n",
       " ('making', 157),\n",
       " ('editor', 156),\n",
       " ('nothing', 156),\n",
       " ('copyright', 155),\n",
       " ('consensus', 155),\n",
       " ('part', 154),\n",
       " ('little', 153),\n",
       " ('delete', 153),\n",
       " ('far', 152),\n",
       " ('understand', 152),\n",
       " ('long', 152),\n",
       " ('different', 151),\n",
       " ('site', 151),\n",
       " ('admins', 150),\n",
       " ('problem', 149),\n",
       " ('opinion', 149),\n",
       " ('ca', 149),\n",
       " ('mean', 149),\n",
       " ('agree', 149),\n",
       " ('years', 148),\n",
       " ('world', 148),\n",
       " ('leave', 147),\n",
       " ('anyone', 147),\n",
       " ('media', 147),\n",
       " ('material', 146),\n",
       " ('says', 145),\n",
       " ('english', 144),\n",
       " ('trying', 143),\n",
       " ('try', 141),\n",
       " ('show', 140),\n",
       " ('either', 140),\n",
       " ('clearly', 139),\n",
       " ('style', 139),\n",
       " ('reliable', 138),\n",
       " ('reference', 137),\n",
       " ('check', 136),\n",
       " ('clear', 136),\n",
       " ('pro', 136),\n",
       " ('notable', 135),\n",
       " ('request', 133),\n",
       " ('enough', 133),\n",
       " ('power', 133),\n",
       " ('probably', 133),\n",
       " ('change', 133),\n",
       " ('war', 133),\n",
       " ('contributions', 131),\n",
       " ('instead', 131),\n",
       " ('original', 130),\n",
       " ('criteria', 130),\n",
       " ('continue', 129),\n",
       " ('found', 129),\n",
       " ('adding', 129),\n",
       " ('evidence', 129),\n",
       " ('states', 128),\n",
       " ('references', 128)]"
      ]
     },
     "execution_count": 28,
     "metadata": {},
     "output_type": "execute_result"
    }
   ],
   "source": [
    "comment_freq.most_common(200)"
   ]
  },
  {
   "cell_type": "code",
   "execution_count": 29,
   "metadata": {},
   "outputs": [],
   "source": [
    "contextual_stop_words = ['article', 'page', 'pages', 'wikipedia', 'wiki', 'talk', 'please', 'also', 'may', 'edit', 'edits', \n",
    "                         'articles', 'user', 'information', 'sources', 'source', 'content', 'wp', 'discussion', 'subject', \n",
    "                         'editor', 'editors', 'copyright', 'contributions'] "
   ]
  },
  {
   "cell_type": "code",
   "execution_count": 30,
   "metadata": {},
   "outputs": [],
   "source": [
    "# Remove contextual stopwords\n",
    "   \n",
    "def remove_contextual_sw(text):\n",
    "    cleaned_text = [word for word in text.split() if word not in contextual_stop_words]\n",
    "    return \" \".join(cleaned_text)"
   ]
  },
  {
   "cell_type": "code",
   "execution_count": 31,
   "metadata": {},
   "outputs": [
    {
     "data": {
      "text/html": [
       "<div>\n",
       "<style scoped>\n",
       "    .dataframe tbody tr th:only-of-type {\n",
       "        vertical-align: middle;\n",
       "    }\n",
       "\n",
       "    .dataframe tbody tr th {\n",
       "        vertical-align: top;\n",
       "    }\n",
       "\n",
       "    .dataframe thead th {\n",
       "        text-align: right;\n",
       "    }\n",
       "</style>\n",
       "<table border=\"1\" class=\"dataframe\">\n",
       "  <thead>\n",
       "    <tr style=\"text-align: right;\">\n",
       "      <th></th>\n",
       "      <th>id</th>\n",
       "      <th>comment_text</th>\n",
       "      <th>toxic</th>\n",
       "      <th>comment_text_cleaned</th>\n",
       "    </tr>\n",
       "  </thead>\n",
       "  <tbody>\n",
       "    <tr>\n",
       "      <th>0</th>\n",
       "      <td>e617e2489abe9bca</td>\n",
       "      <td>\"\\r\\n\\r\\n A barnstar for you! \\r\\n\\r\\n  The De...</td>\n",
       "      <td>0</td>\n",
       "      <td>barnstar defender barnstar like kayastha lets ...</td>\n",
       "    </tr>\n",
       "    <tr>\n",
       "      <th>1</th>\n",
       "      <td>9250cf637294e09d</td>\n",
       "      <td>\"\\r\\n\\r\\nThis seems unbalanced.  whatever I ha...</td>\n",
       "      <td>0</td>\n",
       "      <td>seems unbalanced whatever said mathsci said fa...</td>\n",
       "    </tr>\n",
       "    <tr>\n",
       "      <th>2</th>\n",
       "      <td>ce1aa4592d5240ca</td>\n",
       "      <td>Marya Dzmitruk was born in Minsk, Belarus in M...</td>\n",
       "      <td>0</td>\n",
       "      <td>marya dzmitruk born minsk belarus march mother...</td>\n",
       "    </tr>\n",
       "    <tr>\n",
       "      <th>3</th>\n",
       "      <td>48105766ff7f075b</td>\n",
       "      <td>\"\\r\\n\\r\\nTalkback\\r\\n\\r\\n Dear Celestia...  \"</td>\n",
       "      <td>0</td>\n",
       "      <td>talkback dear celestia</td>\n",
       "    </tr>\n",
       "    <tr>\n",
       "      <th>4</th>\n",
       "      <td>0543d4f82e5470b6</td>\n",
       "      <td>New Categories \\r\\n\\r\\nI honestly think that w...</td>\n",
       "      <td>0</td>\n",
       "      <td>new categories honestly think need add categor...</td>\n",
       "    </tr>\n",
       "  </tbody>\n",
       "</table>\n",
       "</div>"
      ],
      "text/plain": [
       "                 id                                       comment_text  toxic  \\\n",
       "0  e617e2489abe9bca  \"\\r\\n\\r\\n A barnstar for you! \\r\\n\\r\\n  The De...      0   \n",
       "1  9250cf637294e09d  \"\\r\\n\\r\\nThis seems unbalanced.  whatever I ha...      0   \n",
       "2  ce1aa4592d5240ca  Marya Dzmitruk was born in Minsk, Belarus in M...      0   \n",
       "3  48105766ff7f075b      \"\\r\\n\\r\\nTalkback\\r\\n\\r\\n Dear Celestia...  \"      0   \n",
       "4  0543d4f82e5470b6  New Categories \\r\\n\\r\\nI honestly think that w...      0   \n",
       "\n",
       "                                comment_text_cleaned  \n",
       "0  barnstar defender barnstar like kayastha lets ...  \n",
       "1  seems unbalanced whatever said mathsci said fa...  \n",
       "2  marya dzmitruk born minsk belarus march mother...  \n",
       "3                             talkback dear celestia  \n",
       "4  new categories honestly think need add categor...  "
      ]
     },
     "execution_count": 31,
     "metadata": {},
     "output_type": "execute_result"
    }
   ],
   "source": [
    "comment_text_cleaned2 = [remove_contextual_sw(item) for item in comment_text_cleaned1]\n",
    "df['comment_text_cleaned'] = comment_text_cleaned2\n",
    "df.head()"
   ]
  },
  {
   "cell_type": "markdown",
   "metadata": {},
   "source": [
    "## Performing lemmatization on cleaned text: Since lemmatization will reduce text size by converting each word to its root word\n",
    "## which will increase code efficiency without impacting its performance much."
   ]
  },
  {
   "cell_type": "code",
   "execution_count": 32,
   "metadata": {},
   "outputs": [],
   "source": [
    "from nltk.corpus import wordnet\n",
    "\n",
    "def get_wordnet_pos(tag):\n",
    "    if tag.startswith('J'):\n",
    "        return wordnet.ADJ\n",
    "    elif tag.startswith('V'):\n",
    "        return wordnet.VERB\n",
    "    elif tag.startswith('N'):\n",
    "        return wordnet.NOUN\n",
    "    elif tag.startswith('R'):\n",
    "        return wordnet.ADV\n",
    "    else:\n",
    "        return wordnet.NOUN"
   ]
  },
  {
   "cell_type": "code",
   "execution_count": 33,
   "metadata": {},
   "outputs": [],
   "source": [
    "from nltk.stem import WordNetLemmatizer\n",
    "\n",
    "wnl = WordNetLemmatizer()\n",
    "\n",
    "def my_lemma(text):\n",
    "    tokens = word_tokenize(text)    \n",
    "    pos_tags = nltk.pos_tag(tokens)    \n",
    "    tokens_lemmed = [wnl.lemmatize(item[0],get_wordnet_pos(item[1])) for item in pos_tags]        \n",
    "    return \" \".join(tokens_lemmed)"
   ]
  },
  {
   "cell_type": "code",
   "execution_count": 36,
   "metadata": {},
   "outputs": [],
   "source": [
    "df['comment_text_lemmed'] = df['comment_text_cleaned'].apply(lambda x: my_lemma(x))"
   ]
  },
  {
   "cell_type": "code",
   "execution_count": 37,
   "metadata": {},
   "outputs": [
    {
     "data": {
      "text/html": [
       "<div>\n",
       "<style scoped>\n",
       "    .dataframe tbody tr th:only-of-type {\n",
       "        vertical-align: middle;\n",
       "    }\n",
       "\n",
       "    .dataframe tbody tr th {\n",
       "        vertical-align: top;\n",
       "    }\n",
       "\n",
       "    .dataframe thead th {\n",
       "        text-align: right;\n",
       "    }\n",
       "</style>\n",
       "<table border=\"1\" class=\"dataframe\">\n",
       "  <thead>\n",
       "    <tr style=\"text-align: right;\">\n",
       "      <th></th>\n",
       "      <th>id</th>\n",
       "      <th>comment_text</th>\n",
       "      <th>toxic</th>\n",
       "      <th>comment_text_cleaned</th>\n",
       "      <th>comment_text_lemmed</th>\n",
       "    </tr>\n",
       "  </thead>\n",
       "  <tbody>\n",
       "    <tr>\n",
       "      <th>0</th>\n",
       "      <td>e617e2489abe9bca</td>\n",
       "      <td>\"\\r\\n\\r\\n A barnstar for you! \\r\\n\\r\\n  The De...</td>\n",
       "      <td>0</td>\n",
       "      <td>barnstar defender barnstar like kayastha lets ...</td>\n",
       "      <td>barnstar defender barnstar like kayastha let f...</td>\n",
       "    </tr>\n",
       "    <tr>\n",
       "      <th>1</th>\n",
       "      <td>9250cf637294e09d</td>\n",
       "      <td>\"\\r\\n\\r\\nThis seems unbalanced.  whatever I ha...</td>\n",
       "      <td>0</td>\n",
       "      <td>seems unbalanced whatever said mathsci said fa...</td>\n",
       "      <td>seem unbalanced whatever say mathsci say far e...</td>\n",
       "    </tr>\n",
       "    <tr>\n",
       "      <th>2</th>\n",
       "      <td>ce1aa4592d5240ca</td>\n",
       "      <td>Marya Dzmitruk was born in Minsk, Belarus in M...</td>\n",
       "      <td>0</td>\n",
       "      <td>marya dzmitruk born minsk belarus march mother...</td>\n",
       "      <td>marya dzmitruk bear minsk belarus march mother...</td>\n",
       "    </tr>\n",
       "    <tr>\n",
       "      <th>3</th>\n",
       "      <td>48105766ff7f075b</td>\n",
       "      <td>\"\\r\\n\\r\\nTalkback\\r\\n\\r\\n Dear Celestia...  \"</td>\n",
       "      <td>0</td>\n",
       "      <td>talkback dear celestia</td>\n",
       "      <td>talkback dear celestia</td>\n",
       "    </tr>\n",
       "    <tr>\n",
       "      <th>4</th>\n",
       "      <td>0543d4f82e5470b6</td>\n",
       "      <td>New Categories \\r\\n\\r\\nI honestly think that w...</td>\n",
       "      <td>0</td>\n",
       "      <td>new categories honestly think need add categor...</td>\n",
       "      <td>new category honestly think need add category ...</td>\n",
       "    </tr>\n",
       "  </tbody>\n",
       "</table>\n",
       "</div>"
      ],
      "text/plain": [
       "                 id                                       comment_text  toxic  \\\n",
       "0  e617e2489abe9bca  \"\\r\\n\\r\\n A barnstar for you! \\r\\n\\r\\n  The De...      0   \n",
       "1  9250cf637294e09d  \"\\r\\n\\r\\nThis seems unbalanced.  whatever I ha...      0   \n",
       "2  ce1aa4592d5240ca  Marya Dzmitruk was born in Minsk, Belarus in M...      0   \n",
       "3  48105766ff7f075b      \"\\r\\n\\r\\nTalkback\\r\\n\\r\\n Dear Celestia...  \"      0   \n",
       "4  0543d4f82e5470b6  New Categories \\r\\n\\r\\nI honestly think that w...      0   \n",
       "\n",
       "                                comment_text_cleaned  \\\n",
       "0  barnstar defender barnstar like kayastha lets ...   \n",
       "1  seems unbalanced whatever said mathsci said fa...   \n",
       "2  marya dzmitruk born minsk belarus march mother...   \n",
       "3                             talkback dear celestia   \n",
       "4  new categories honestly think need add categor...   \n",
       "\n",
       "                                 comment_text_lemmed  \n",
       "0  barnstar defender barnstar like kayastha let f...  \n",
       "1  seem unbalanced whatever say mathsci say far e...  \n",
       "2  marya dzmitruk bear minsk belarus march mother...  \n",
       "3                             talkback dear celestia  \n",
       "4  new category honestly think need add category ...  "
      ]
     },
     "execution_count": 37,
     "metadata": {},
     "output_type": "execute_result"
    }
   ],
   "source": [
    "df.head()"
   ]
  },
  {
   "cell_type": "markdown",
   "metadata": {},
   "source": [
    "## 5. Separate into train and test sets\n",
    "\n",
    "1. Use train-test method to divide your data into 2 sets: train and test\n",
    "2. Use a 70-30 split"
   ]
  },
  {
   "cell_type": "code",
   "execution_count": 38,
   "metadata": {},
   "outputs": [],
   "source": [
    "from sklearn.model_selection import train_test_split\n",
    "\n",
    "X = df['comment_text_lemmed']\n",
    "y  = df['toxic']\n",
    "\n",
    "X_train, X_test, y_train, y_test = train_test_split(X, y, test_size=0.3, random_state=1)"
   ]
  },
  {
   "cell_type": "markdown",
   "metadata": {},
   "source": [
    "## 6. Use TF-IDF values for the terms as feature to get into a vector space model\n",
    "\n",
    "1. Import TF-IDF vectorizer from sklearn\n",
    "2. Instantiate with a maximum of 4000 terms in your vocabulary\n",
    "3.Fit and apply on the train set\n",
    "4. Apply on the test set"
   ]
  },
  {
   "cell_type": "code",
   "execution_count": 39,
   "metadata": {},
   "outputs": [],
   "source": [
    "from sklearn.feature_extraction.text import TfidfVectorizer\n",
    "\n",
    "tfidf_model = TfidfVectorizer(ngram_range=(1,1),stop_words= None)\n",
    "\n",
    "X_train_vec = tfidf_model.fit_transform(X_train)"
   ]
  },
  {
   "cell_type": "code",
   "execution_count": 40,
   "metadata": {},
   "outputs": [
    {
     "name": "stdout",
     "output_type": "stream",
     "text": [
      "['aa', 'aacd', 'aaiha', 'aajonus', 'aaron', 'aarticles', 'abacha', 'aback', 'abandon', 'abandonment', 'abbas', 'abbe', 'abbreviate', 'abbreviation', 'abc', 'abdi', 'abduct', 'abdul', 'abel', 'abhira', 'abhishikt', 'abide', 'ability', 'abir', 'abit', 'ablation', 'able', 'aboard', 'abolish', 'abomination', 'abondantly', 'aborigine', 'abortion', 'abounds', 'about', 'aboutcivilcom', 'aboutcom', 'above', 'abovementioned', 'abput', 'abpw', 'abras', 'abrasive', 'abridge', 'abridged', 'abriendo', 'abroad', 'abrupt', 'absence', 'absent', 'absolute', 'absolutely', 'absolution', 'absolve', 'absorb', 'absorption', 'absortion', 'abstain', 'abstract', 'absurd', 'abtract', 'abu', 'abul', 'abundance', 'abundant', 'abundantly', 'abuot', 'abuse', 'abused', 'abuser', 'abusing', 'abusive', 'abusiveness', 'abut', 'ac', 'academia', 'academic', 'academical', 'academically', 'academician', 'academy', 'acalamari', 'acanoobic', 'accelerate', 'acceleration', 'accent', 'accentuate', 'accept', 'acceptable', 'acceptance', 'accepted', 'accepts', 'access', 'accessdate', 'accessible', 'accident', 'accidental', 'accidentally', 'accolade', 'accommodate', 'accompanying', 'accompli', 'accomplice', 'accomplish', 'accomplished', 'accomplishment', 'accord', 'accordance', 'accordingly', 'account', 'accredited', 'accrete', 'accross', 'accumulate', 'accuracy', 'accurate', 'accurately', 'accusation', 'accuse', 'accuser', 'accussations', 'ace', 'achaemend', 'acheive', 'achievable', 'achieve', 'achievement', 'achievements', 'acid', 'acidic', 'acknowledge', 'acknowledges', 'acontias', 'acontinae', 'acontophiops', 'acquaint', 'acquainted', 'acquire', 'acre', 'acres', 'acrimony', 'acronym', 'across', 'act', 'action', 'actionable', 'activation', 'active', 'activerain', 'activism', 'activist', 'activity', 'actor', 'actress', 'actual', 'actually', 'acuman', 'acupressure', 'ad', 'ada', 'adage', 'adam', 'adams', 'adaptation', 'adaptv', 'add', 'added', 'addendum', 'addiction', 'addition', 'additional', 'additionally', 'addon', 'address', 'addressed', 'adduct', 'addy', 'adel', 'adelaide', 'adentist', 'adequate', 'adequately', 'adherent', 'adhesive', 'adijapan', 'adilakshmi', 'adjective', 'adjust', 'adkins', 'adl', 'admin', 'adminerstraters', 'administer', 'administration', 'administrativa', 'administrative', 'administrator', 'administrators', 'admins', 'adminship', 'adminshop', 'adminsitrative', 'adminstrator', 'admire', 'admission', 'admit', 'admitted', 'admittedly', 'admonish', 'adn', 'adolescent', 'adolf', 'adopt', 'adopteearbitrarily', 'adoption', 'adoptme', 'adress', 'adresses', 'adrianneweyjpg', 'adrianople', 'adtiors', 'adu', 'adult', 'adulterated', 'advance', 'advantage', 'advantagous', 'advent', 'adventure', 'adverb', 'adversane', 'adversary', 'advert', 'advertencia', 'advertise', 'advertisement', 'advertising', 'advice', 'advicehave', 'advise', 'advised', 'advisor', 'advisory', 'advocacy', 'advocate', 'adweek', 'ae', 'aelius', 'aeria', 'aerial', 'aesop', 'aestethics', 'aesthetic', 'aesthetically', 'af', 'afc', 'afcs', 'afd', 'afds', 'affair', 'affect', 'affected', 'affection', 'affiliate', 'affiliation', 'affirm', 'affix', 'afford', 'affordable', 'affront', 'afghan', 'afghanistan', 'afl', 'afloat', 'aforementioned', 'afr', 'afraid', 'africa', 'african', 'afs', 'aftervia', 'afterward', 'afterwards', 'afterword', 'again', 'agapetos', 'agarbattis', 'agarsen', 'age', 'agency', 'agenda', 'agendas', 'agendatalk', 'agent', 'agf', 'aggravate', 'aggregate', 'aggression', 'aggressiv', 'aggressive', 'aggressively', 'aggressiveness', 'aggressivepanda', 'aggressor', 'aggrivate', 'agian', 'agin', 'agk', 'agla', 'agnistus', 'agnostic', 'ago', 'agree', 'agreeable', 'agreement', 'agrees', 'agression', 'agressive', 'agressor', 'agricola', 'agricultural', 'agriculture', 'ah', 'aha', 'ahad', 'ahead', 'ahh', 'ahir', 'ahmad', 'ahmadinejad', 'ai', 'aicad', 'aid', 'aidan', 'aide', 'aiga', 'aiii', 'aikiotoshi', 'aim', 'ainslie', 'air', 'aircraft', 'aircrafts', 'aircrft', 'airdates', 'aired', 'airline', 'airplane', 'airport', 'airspace', 'airway', 'aisle', 'aiv', 'ajax', 'ajmer', 'ajust', 'aka', 'akademi', 'akal', 'akerbeltz', 'akin', 'akrabim', 'akraj', 'aktimur', 'al', 'ala', 'alan', 'alarm', 'albania', 'albanian', 'albanians', 'albany', 'albatross', 'albeit', 'albert', 'alberto', 'albertville', 'alborz', 'album', 'alcalde', 'alden', 'aldrich', 'aldus', 'ale', 'aleh', 'aleppo', 'alert', 'alex', 'alexa', 'alexacom', 'alexander', 'alexnewartbot', 'alf', 'alfonso', 'alford', 'algeria', 'algo', 'ali', 'alice', 'alien', 'align', 'alike', 'alina', 'alingly', 'alistair', 'alito', 'alittle', 'alive', 'aliy', 'alkaline', 'all', 'alla', 'allaby', 'allah', 'allan', 'allay', 'allegation', 'allege', 'alleged', 'allegedly', 'allegiance', 'allergy', 'alley', 'allhe', 'allhis', 'alliance', 'allindiano', 'alllllllllll', 'allmusic', 'allnothing', 'allot', 'allow', 'allowed', 'allows', 'allready', 'allstarhecho', 'allude', 'alluded', 'allure', 'ally', 'allz', 'almighty', 'almos', 'almost', 'alone', 'along', 'alongside', 'alonso', 'alot', 'alp', 'alpha', 'alphabet', 'alphabetic', 'alphabetical', 'already', 'alright', 'alsee', 'alt', 'altaic', 'altenmann', 'alter', 'alterans', 'alteration', 'altered', 'alternaive', 'alternate', 'alternative', 'alternatively', 'alternattiva', 'although', 'althougth', 'altitude', 'altogether', 'altruist', 'alum', 'aluminiun', 'alumni', 'alumnus', 'alun', 'alves', 'always', 'alwayz', 'alxays', 'ama', 'amadeus', 'amandel', 'amartyabaaaag', 'amateur', 'amatulic', 'amature', 'amaze', 'amazing', 'amazon', 'amazoncojp', 'amazoncom', 'ambassador', 'ambdor', 'ambigous', 'ambiguity', 'ambiguos', 'ambiguous', 'ambulantes', 'ambush', 'amd', 'amelia', 'amenable', 'amend', 'amendment', 'ameng', 'america', 'american', 'americanism', 'americans', 'americas', 'ameridian', 'amerijuanican', 'amerindian', 'ameriucan', 'amica', 'amicably', 'amid', 'amiga', 'amigaos', 'amigo', 'amish', 'ammunition', 'amock', 'amoeba', 'among', 'amongst', 'amor', 'amortias', 'amory', 'amound', 'amount', 'amp', 'ample', 'amplify', 'amputate', 'amrullah', 'amsterdam', 'amuca', 'amucalar', 'amuse', 'amusement', 'amy', 'an', 'anachronistic', 'anal', 'analagous', 'analistic', 'analog', 'analogous', 'analogue', 'analogy', 'analyse', 'analysis', 'analytic', 'analyze', 'anam', 'anandgarh', 'anarchist', 'anarcho', 'anatolia', 'ancestor', 'ancestory', 'ancestral', 'ancestry', 'anchor', 'ancient', 'ancientpages', 'and', 'andd', 'andeggs', 'andre', 'andretti', 'andrew', 'andrewa', 'andrey', 'andriyk', 'androgens', 'android', 'andthen', 'andy', 'andythegrumpyvandal', 'anecdotal', 'anecdote', 'angband', 'angel', 'angela', 'angelofsadness', 'anger', 'angle', 'anglo', 'angry', 'angular', 'angulo', 'ani', 'anil', 'animal', 'animation', 'anime', 'anjaan', 'anjem', 'ankle', 'ann', 'anna', 'annex', 'annexation', 'annexed', 'annihilation', 'anniversary', 'announce', 'announcement', 'annoy', 'annoyance', 'annoyed', 'anny', 'anon', 'anonymity', 'anonymous', 'anonymously', 'anorexia', 'anoshirawan', 'another', 'anouncements', 'answer', 'answered', 'answerscom', 'antaeus', 'antagonist', 'antagonistic', 'antartica', 'antenna', 'antestor', 'anthem', 'anthems', 'anther', 'anthony', 'anthropological', 'anthropologist', 'anthropology', 'anti', 'antic', 'anticipate', 'anticipation', 'antidote', 'antimatter', 'antipodean', 'antiquity', 'antisemitic', 'antisemitism', 'antitrust', 'antologii', 'antonescu', 'antonin', 'antonio', 'antony', 'antulio', 'anus', 'anway', 'anxiety', 'anybody', 'anyhow', 'anymore', 'anyoen', 'anyone', 'anyoones', 'anything', 'anytime', 'anyway', 'anyways', 'anywhere', 'anywhoo', 'anzac', 'aof', 'aol', 'aorist', 'apa', 'apart', 'apartheid', 'apartment', 'apidays', 'apocalypse', 'apoligise', 'apologetic', 'apologise', 'apologize', 'apology', 'apostolic', 'apostrophe', 'appal', 'apparent', 'apparently', 'appauled', 'appeal', 'appear', 'appearance', 'appearantly', 'appease', 'apple', 'applicable', 'application', 'applied', 'applies', 'apply', 'applying', 'appoint', 'appointment', 'appologies', 'appology', 'apporpriate', 'apprecate', 'appreciate', 'appreciated', 'appreciation', 'appreciative', 'apprendre', 'apprentice', 'apprently', 'approach', 'appropriate', 'appropriately', 'appropriateness', 'approval', 'approve', 'approximate', 'approximately', 'apprpriate', 'apr', 'april', 'apt', 'aqnd', 'aquinas', 'ar', 'arab', 'arabesque', 'arabia', 'arabic', 'arabs', 'aramaean', 'aramaic', 'arami', 'arana', 'arap', 'arb', 'arbcom', 'arbitrage', 'arbitrarily', 'arbitrary', 'arbitration', 'arbratary', 'arc', 'arcane', 'arch', 'archaeological', 'archaeologists', 'archaeology', 'archaic', 'archeological', 'archeology', 'archeorient', 'archer', 'archieve', 'architect', 'architects', 'architectural', 'architecture', 'archive', 'archived', 'archiver', 'archivesjan', 'arcticle', 'are', 'area', 'aregentina', 'arent', 'argentina', 'argentinean', 'argentinian', 'arguably', 'argue', 'arguements', 'arguemnt', 'argues', 'argument', 'argumentation', 'argumentativeness', 'argumenting', 'arguments', 'arials', 'ariel', 'arielgold', 'arise', 'arises', 'aristotle', 'arizona', 'ark', 'arkansas', 'arkham', 'arlington', 'arm', 'armchair', 'armenia', 'armenian', 'armor', 'armour', 'army', 'armyhe', 'arnaiz', 'arnelas', 'arnold', 'aromanian', 'arose', 'around', 'arouse', 'arrangement', 'arre', 'arrest', 'arrier', 'arris', 'arriusjensen', 'arrival', 'arrive', 'arrivederci', 'arrogance', 'arrogant', 'arrogantly', 'arrows', 'arrowtabmoves', 'arsan', 'arse', 'arsehole', 'arsenal', 'arsten', 'art', 'artcile', 'artemis', 'artes', 'arthur', 'artice', 'articel', 'articl', 'articlefordeletetion', 'articleonly', 'articleso', 'articlethank', 'articulate', 'artifact', 'artillery', 'artist', 'artistic', 'artricle', 'arts', 'arudou', 'aryan', 'arye', 'as', 'asap', 'asbos', 'ascension', 'ascertain', 'asdfg', 'asf', 'ash', 'ashame', 'ashamed', 'ashley', 'ashmore', 'asia', 'asian', 'asians', 'asicseditor', 'aside', 'asif', 'ask', 'asked', 'asks', 'aspect', 'aspergian', 'aspersion', 'aspie', 'asquirmjpg', 'ass', 'assad', 'assadhanibalyou', 'assam', 'assange', 'assassination', 'assault', 'assclown', 'asscociation', 'assemble', 'assembly', 'assert', 'asserted', 'assertion', 'asserts', 'assess', 'assessment', 'asset', 'assfuck', 'asshole', 'assign', 'assignment', 'assigns', 'assimilationist', 'assist', 'assistance', 'assistant', 'associate', 'associated', 'association', 'assume', 'assumed', 'assumption', 'assure', 'assyria', 'assyrian', 'astonish', 'astonishing', 'astonishment', 'astrological', 'astronaught', 'astronomical', 'astronomy', 'astroturf', 'asylum', 'asymmetry', 'asyou', 'at', 'atabay', 'atabselect', 'atack', 'atheism', 'atheist', 'atheists', 'athenian', 'athuor', 'atkins', 'atlant', 'atlantean', 'atlantic', 'atlas', 'atleast', 'atmosphere', 'atmospheric', 'atoll', 'atom', 'atomicer', 'atricle', 'atrocious', 'atrocity', 'atrophysics', 'atrus', 'attach', 'attack', 'attacked', 'attacker', 'attain', 'attainable', 'attainder', 'attask', 'attempt', 'attend', 'attendance', 'attended', 'attention', 'attest', 'attitude', 'attorney', 'attract', 'attraction', 'attractive', 'attributable', 'attribute', 'attributed', 'attribution', 'attrition', 'attwood', 'auc', 'audacious', 'audaciousness', 'audacity', 'audevivere', 'audience', 'audio', 'audiobook', 'audios', 'audit', 'audition', 'aug', 'aught', 'augmentation', 'august', 'augustine', 'augustus', 'aurangzeb', 'aurobindo', 'aurora', 'ausepassportjpg', 'aust', 'austere', 'austerlitz', 'austin', 'australia', 'australian', 'austrlaian', 'austro', 'authentic', 'authenticity', 'author', 'authorisation', 'authoritarian', 'authoritative', 'authority', 'authorize', 'authorizes', 'authorship', 'autism', 'auto', 'autobiography', 'autoblock', 'autoblocking', 'autobography', 'autofellatio', 'autograph', 'autogynephiles', 'automate', 'automatic', 'automatically', 'automobile', 'automtated', 'autopsy', 'autowikibrowser', 'autrement', 'av', 'available', 'availableone', 'avalanche', 'avant', 'avantgarde', 'avblockering', 'aven', 'avenue', 'average', 'aversion', 'avg', 'avgust', 'avi', 'aviation', 'aviator', 'avicennasis', 'avigdor', 'aviname', 'aviv', 'avoid', 'avoids', 'avril', 'aw', 'await', 'awami', 'award', 'aware', 'awareness', 'awarrds', 'away', 'awayi', 'awb', 'awesome', 'awesomeness', 'awful', 'awfully', 'awhile', 'awickert', 'awkward', 'aww', 'axe', 'axiata', 'axis', 'ayatollah', 'ayers', 'ayin', 'ayuda', 'azerbaijan', 'azerbaijani', 'aziza', 'azz', 'ba', 'baalbek', 'baba', 'babaeski', 'babble', 'babel', 'babloo', 'baboon', 'baby', 'babya', 'bachrach', 'back', 'backed', 'backfire', 'background', 'backlash', 'backlog', 'backstabbing', 'backstage', 'backup', 'backward', 'backwards', 'backwell', 'bacon', 'bad', 'badali', 'badcharts', 'badge', 'badian', 'badly', 'badre', 'badus', 'baekuje', 'baen', 'bag', 'bagby', 'bags', 'bah', 'bahavior', 'bahrin', 'bailey', 'bailiwick', 'bait', 'bake', 'baker', 'bakharev', 'bakken', 'baku', 'balance', 'balanced', 'bald', 'baldly', 'baldy', 'balen', 'baley', 'balkan', 'balkans', 'ball', 'ballistic', 'ballistics', 'balloon', 'ballot', 'baltic', 'bambifan', 'bamboozle', 'ban', 'bananabucket', 'bananaphone', 'band', 'banderapng', 'bandwidth', 'banerjee', 'bang', 'bangladesh', 'bangladeshi', 'bangladeshis', 'bank', 'banker', 'banking', 'banknote', 'bankrupt', 'bankruptcy', 'bann', 'banned', 'banner', 'banovina', 'banten', 'banter', 'baptist', 'baptize', 'bar', 'barack', 'barak', 'baranovichi', 'barb', 'barbara', 'barbarian', 'barbaric', 'barbarity', 'barbedwire', 'barberis', 'barca', 'barcelona', 'bare', 'barefaced', 'barely', 'bargain', 'bargit', 'bark', 'barker', 'barnes', 'barney', 'barnstar', 'barnstardear', 'barometer', 'barrack', 'barrel', 'barren', 'barrett', 'barrier', 'barry', 'bart', 'bartlett', 'barton', 'baruch', 'basc', 'base', 'baseball', 'basel', 'baseless', 'basement', 'basescu', 'bash', 'basham', 'basho', 'basic', 'basically', 'basis', 'basketball', 'basque', 'bass', 'bassam', 'bassline', 'bastani', 'bastard', 'basu', 'bat', 'batavia', 'batavian', 'batgwacom', 'bath', 'batiushka', 'batman', 'battle', 'battlestars', 'battling', 'batu', 'bauder', 'bavarian', 'bay', 'bayati', 'bayern', 'bayhoca', 'baz', 'bb', 'bbc', 'bbl', 'bbsrock', 'bc', 'bce', 'bcembassy', 'bcpl', 'bcs', 'bd', 'bdbcd', 'bdw', 'be', 'beach', 'beacuse', 'beahlf', 'beakuje', 'beanfield', 'bear', 'beard', 'bearian', 'bearing', 'beat', 'beater', 'beatle', 'beatles', 'beautiful', 'beauty', 'becaue', 'beccde', 'becki', 'becky', 'become', 'becomes', 'becsuse', 'becuase', 'bed', 'bedreddin', 'bedroom', 'beeblebrox', 'beef', 'beefcake', 'beento', 'beep', 'beer', 'before', 'beg', 'begin', 'begining', 'beginner', 'beginning', 'beh', 'behalf', 'behave', 'behaves', 'behaving', 'behavior', 'behaviour', 'behest', 'behicle', 'behind', 'behooves', 'beijing', 'beinart', 'being', 'beingsshepherd', 'bektashi', 'belang', 'belarus', 'belarusfilm', 'belfort', 'belief', 'beliefs', 'belieive', 'believe', 'believer', 'belittle', 'belive', 'beliving', 'bell', 'bellamy', 'belle', 'belligerent', 'bellow', 'belly', 'bellybutton', 'belong', 'belonging', 'belongs', 'belorussian', 'beloved', 'belovedfreak', 'belows', 'beluga', 'bement', 'ben', 'bench', 'bend', 'beneath', 'beneficial', 'benefit', 'benevolence', 'bengal', 'bengali', 'benjamin', 'benny', 'benton', 'beowulf', 'berate', 'berber', 'beretta', 'berg', 'berkely', 'berlin', 'berliner', 'bermuda', 'berry', 'beside', 'besides', 'besiege', 'best', 'bestow', 'bet', 'betacommand', 'betcha', 'betray', 'betrays', 'better', 'betterment', 'beut', 'beware', 'bey', 'beyind', 'beyond', 'bf', 'bgwhite', 'bhagavad', 'bharat', 'bhati', 'bhawan', 'bias', 'biased', 'biassed', 'biasuser', 'bible', 'bibliography', 'bibliotecario', 'bicarbonate', 'bicker', 'bicycle', 'bicycling', 'bid', 'bidah', 'bieber', 'bienvenida', 'big', 'bigelow', 'biggie', 'bigins', 'bignole', 'bigot', 'bigoted', 'bigotry', 'bigweeboy', 'bihal', 'bihu', 'bikering', 'bilby', 'bildungsroman', 'bill', 'billboard', 'billingshurst', 'billion', 'billionaires', 'bin', 'bind', 'binn', 'bio', 'bioavailability', 'biodiversity', 'bioelectrical', 'biofield', 'biograpgy', 'biographical', 'biography', 'biological', 'biologist', 'biology', 'biopreparat', 'bios', 'bioscience', 'biotchhhhh', 'bipasha', 'birch', 'bird', 'birkenhaed', 'birth', 'birthday', 'birthplace', 'bis', 'bishonen', 'bishop', 'bishzilla', 'bit', 'bitch', 'bite', 'bitten', 'bitter', 'bizarre', 'bizarreness', 'bizkit', 'bjs', 'bk', 'blabber', 'black', 'blackhat', 'blackmetalcom', 'blackwood', 'blade', 'blah', 'blame', 'blaming', 'bland', 'blank', 'blanked', 'blanket', 'blanking', 'blasphemy', 'blast', 'blatant', 'blatantly', 'blatent', 'blcok', 'bleed', 'blemish', 'bless', 'blieve', 'blimey', 'blind', 'blindly', 'blis', 'bloat', 'bloc', 'block', 'blockade', 'blockd', 'blocked', 'blocking', 'blocvk', 'blofeld', 'blofeldernst', 'blog', 'blogged', 'blogging', 'bloggish', 'blogs', 'blogspace', 'blood', 'bloodbath', 'bloodthirsthy', 'bloody', 'bloom', 'bloomsbury', 'bloqueio', 'blot', 'blow', 'blower', 'blowing', 'blown', 'blp', 'blpe', 'blu', 'bludenzer', 'blue', 'blueboar', 'bluetooth', 'blunder', 'blunt', 'blurb', 'blurry', 'blvd', 'blyton', 'bmk', 'bnp', 'boa', 'board', 'boarding', 'boas', 'boast', 'boat', 'bob', 'bobby', 'bobo', 'bodhidarama', 'bodhidarma', 'bodhidharma', 'body', 'boeing', 'bofors', 'bogged', 'bogus', 'boi', 'boifriend', 'boil', 'boilerplate', 'bok', 'bold', 'bolded', 'bolding', 'boldness', 'boljkovac', 'bollock', 'bollocks', 'bollox', 'bolognese', 'bolsheviks', 'bolton', 'bolzano', 'bomb', 'bombard', 'bombardo', 'bomber', 'bonafides', 'bond', 'bondi', 'bondsthe', 'bone', 'bongwarrior', 'bonnie', 'bonus', 'booboo', 'book', 'booklet', 'bookworm', 'boom', 'boomerang', 'boon', 'boost', 'booster', 'boot', 'booty', 'booze', 'borane', 'border', 'borderline', 'borderpx', 'bore', 'boredom', 'borgdorff', 'borges', 'borinqueneers', 'boris', 'born', 'borne', 'boros', 'borrado', 'borrados', 'borrow', 'borrowing', 'bos', 'boshra', 'bosnian', 'boson', 'bostick', 'boston', 'bot', 'both', 'bother', 'bots', 'bott', 'bottom', 'bought', 'bouley', 'boulvert', 'bounce', 'bound', 'boundary', 'bountieshe', 'bourbon', 'bourgeois', 'bourne', 'boustani', 'bout', 'bow', 'bowen', 'bowl', 'bowlby', 'box', 'boxset', 'boy', 'boycott', 'boyer', 'boyfriend', 'boyle', 'boys', 'bozen', 'bpr', 'bra', 'bracket', 'bracketbot', 'brackground', 'brad', 'bradbury', 'brahmana', 'brain', 'brainwash', 'brake', 'bram', 'brame', 'branch', 'brand', 'brandonyusuftoropov', 'brandy', 'branga', 'branigan', 'brannan', 'brass', 'brave', 'braveheart', 'bravo', 'brazil', 'brazilian', 'brd', 'breach', 'breached', 'bread', 'breadcrumb', 'breadth', 'break', 'breakdown', 'breaker', 'breakevenogg', 'breakfast', 'breath', 'breathe', 'breather', 'breaths', 'breed', 'breeder', 'breeding', 'breen', 'breng', 'bressman', 'brest', 'breton', 'brew', 'brewsters', 'bri', 'brian', 'bribe', 'brice', 'bricolage', 'bride', 'bridge', 'brief', 'briefly', 'brien', 'brightens', 'brighton', 'brilliant', 'brillion', 'brimble', 'bring', 'brings', 'britain', 'britannica', 'british', 'britishness', 'britt', 'brittany', 'broad', 'broadbandgov', 'broadcast', 'broadcasting', 'broadly', 'broglie', 'broke', 'broken', 'brokerage', 'bronkhorst', 'bronson', 'brook', 'broom', 'brother', 'brotherhood', 'brotherly', 'brought', 'browder', 'brown', 'brownlow', 'brows', 'browse', 'browser', 'browtown', 'bruce', 'bruckheimer', 'brunt', 'brussels', 'brute', 'bryan', 'bryant', 'brybry', 'bs', 'bsd', 'bsl', 'btch', 'bttf', 'btw', 'buckland', 'bud', 'buddhist', 'buddhistphobia', 'buddy', 'budget', 'budwig', 'buff', 'buffalo', 'bug', 'bugged', 'bughouse', 'build', 'builder', 'building', 'builti', 'builtins', 'buisiest', 'buisiness', 'bulbasaur', 'bulgaria', 'bulgarian', 'bulgayria', 'bulk', 'bulky', 'bull', 'bullard', 'bullet', 'bulleted', 'bulletin', 'bullgiht', 'bullied', 'bullock', 'bullshit', 'bully', 'bullying', 'bum', 'bunch', 'bundle', 'bunk', 'bunker', 'burden', 'bureau', 'bureaucrat', 'buren', 'burger', 'burn', 'burnett', 'burning', 'burntsource', 'burp', 'burridge', 'burst', 'burton', 'bury', 'bus', 'busby', 'buscando', 'buse', 'bush', 'bushido', 'bushwackers', 'business', 'businessfinally', 'businessman', 'businesspeople', 'bussy', 'bustan', 'buster', 'busy', 'busybody', 'butcher', 'butokukai', 'butt', 'butter', 'button', 'buy', 'buydrugscom', 'buyer', 'buying', 'buzzer', 'bv', 'bw', 'bwikipedia', 'bwilkins', 'by', 'bye', 'byeeeee', 'bypass', 'byran', 'byte', 'bz', 'ca', 'cabal', 'cable', 'cache', 'cad', 'cada', 'cade', 'caesar', 'cafer', 'cage', 'caicos', 'caine', 'cais', 'cajun', 'cake', 'calculate', 'calculation', 'calculator', 'calendar', 'caleta', 'calhoun', 'california', 'call', 'called', 'callous', 'calm', 'calous', 'cam', 'cambria', 'camera', 'camp', 'campaign', 'campfire', 'camwhore', 'can', 'canada', 'canadian', 'canal', 'canand', 'canberra', 'cancel', 'canceladas', 'cancer', 'candace', 'candian', 'candida', 'candidacy', 'candidate', 'candle', 'canhmm', 'cannabinoids', 'cannae', 'cannever', 'cannon', 'canon', 'canonical', 'cansante', 'cant', 'cantabria', 'canterbury', 'cantonese', 'cantor', 'canvass', 'canvassing', 'cao', 'cap', 'capability', 'capable', 'capacity', 'capdis', 'capital', 'capitalisation', 'capitalism', 'capitalist', 'capitalization', 'capitalize', 'capitola', 'caplan', 'capri', 'captain', 'captaincy', 'caption', 'capture', 'car', 'carbine', 'carbon', 'card', 'cardamom', 'cardinal', 'care', 'career', 'careful', 'carefully', 'cargo', 'caribbean', 'caring', 'carl', 'carlito', 'carlton', 'carlyn', 'carolina', 'carpenter', 'carr', 'carried', 'carrier', 'carrot', 'carry', 'carson', 'cartagena', 'cartan', 'cartel', 'carteories', 'cartier', 'cartoon', 'cartridge', 'carver', 'casavant', 'case', 'casey', 'casimir', 'caspian', 'cast', 'caste', 'castells', 'caster', 'castillo', 'castist', 'castle', 'castro', 'casual', 'casually', 'casualty', 'cat', 'catalan', 'catalog', 'catalonia', 'catalytic', 'catastrophisation', 'catch', 'cate', 'categorisation', 'categorise', 'categorize', 'category', 'cater', 'catering', 'cathedral', 'catherall', 'catherine', 'catholic', 'caucasian', 'caucasus', 'caught', 'cause', 'caused', 'causing', 'caution', 'cautious', 'cav', 'cave', 'caveat', 'caw', 'cayambes', 'cayey', 'cayor', 'cayuse', 'cbc', 'cbs', 'cc', 'cca', 'ccb', 'cccc', 'cccccc', 'ccfsdca', 'ccp', 'cct', 'cd', 'cdaqaewaa', 'cdp', 'cdps', 'cease', 'cebe', 'cecilia', 'ceckuser', 'cele', 'celebrate', 'celebrated', 'celebration', 'celebrity', 'celebs', 'celestia', 'celestial', 'cell', 'cellar', 'cellpadding', 'cellphone', 'cellspacing', 'celt', 'celtic', 'cenas', 'cenetries', 'censor', 'censored', 'censorship', 'censure', 'census', 'censusi', 'cent', 'centenary', 'center', 'central', 'centralist', 'centre', 'centric', 'centrism', 'century', 'ceo', 'ceoil', 'cerberus', 'ceremony', 'certain', 'certainly', 'certeza', 'certianly', 'certificate', 'cetera', 'cetificate', 'cf', 'cfd', 'cfed', 'cfif', 'cg', 'cgpbum', 'chad', 'chain', 'chair', 'chairwoman', 'chalet', 'chalk', 'challange', 'challenge', 'cham', 'chamar', 'chamars', 'chamber', 'chameria', 'chamets', 'chamkaur', 'champ', 'champion', 'championship', 'chams', 'chamuts', 'chan', 'chance', 'chand', 'chandra', 'chandralekha', 'change', 'changed', 'chaninging', 'channel', 'chant', 'chaos', 'chaotic', 'chapel', 'chapman', 'chapot', 'chappell', 'chapter', 'character', 'characterise', 'characteristic', 'characterization', 'characterize', 'charade', 'charecters', 'charge', 'charisma', 'charismatic', 'charity', 'charizard', 'charleroi', 'charles', 'charlie', 'charm', 'charmbracelet', 'charmer', 'charreadas', 'charreria', 'charros', 'chart', 'charter', 'chartscom', 'chase', 'chaser', 'chat', 'chateauesque', 'chatspy', 'chatter', 'chattopadhyay', 'chatty', 'chauvinistic', 'cheap', 'cheat', 'cheatsheet', 'chechen', 'chechnya', 'check', 'checkbox', 'checked', 'checking', 'checklist', 'checkuser', 'checkusers', 'cheeeeeze', 'cheeky', 'cheer', 'cheerlead', 'cheetham', 'cheeze', 'chellappam', 'chelsea', 'chemetco', 'chemical', 'chemist', 'chemistry', 'chen', 'chenault', 'cheney', 'cherish', 'cherry', 'cherub', 'chess', 'chesscom', 'chest', 'chester', 'chet', 'cheung', 'cheungbatgwacom', 'chezzy', 'chicago', 'chick', 'chicken', 'chide', 'chief', 'chigago', 'child', 'childhood', 'childish', 'chile', 'chilvers', 'chime', 'chimpanzee', 'chimtza', 'chin', 'china', 'chinese', 'ching', 'chink', 'chintendo', 'chip', 'chipe', 'chipper', 'chiropractic', 'chirp', 'chistianophobia', 'chnages', 'choice', 'choiceless', 'chomets', 'chometz', 'chomsky', 'chong', 'choose', 'chop', 'chopra', 'chore', 'chose', 'chosen', 'chown', 'chriopractic', 'chris', 'chriso', 'christ', 'christian', 'christianity', 'christina', 'christine', 'christmas', 'christopher', 'chrome', 'chromosome', 'chronic', 'chronicle', 'chronological', 'chuck', 'chuckle', 'chucky', 'chudan', 'chum', 'chumtza', 'chung', 'chunk', 'church', 'chussid', 'chuyu', 'cia', 'cialis', 'ciara', 'cicero', 'cid', 'cie', 'cigar', 'cinder', 'circeus', 'circle', 'circular', 'circularly', 'circulate', 'circulation', 'circumcise', 'circumcision', 'circumnavigate', 'circumstance', 'circumvent', 'citation', 'cite', 'citelead', 'citizen', 'citizenship', 'citrus', 'city', 'civil', 'civilian', 'civilians', 'civilisation', 'civilise', 'civility', 'civilization', 'civilize', 'civilly', 'cj', 'cjcurie', 'cjllw', 'ck', 'cking', 'cks', 'cl', 'cla', 'claim', 'clamor', 'clan', 'clandestinely', 'clanigger', 'clapper', 'clare', 'clarence', 'clarification', 'clarified', 'clarify', 'clarifying', 'clarity', 'clarkcj', 'clarke', 'clasical', 'class', 'classic', 'classical', 'classification', 'classified', 'classify', 'classstart', 'classstubimportancelowlistashistory', 'classyear', 'clatworthy', 'claude', 'claudio', 'claus', 'clause', 'claxton', 'claxtonjoshua', 'clay', 'claymort', 'clean', 'cleaning', 'cleanse', 'cleansing', 'cleanup', 'clear', 'clearcut', 'clearer', 'clearest', 'clearly', 'cleary', 'clemente', 'clergy', 'cleric', 'clerk', 'cleveland', 'clever', 'cleverly', 'clevland', 'click', 'clicked', 'client', 'climate', 'clinton', 'clip', 'clique', 'clive', 'clock', 'cloherty', 'close', 'closed', 'closely', 'closeness', 'closer', 'closet', 'closing', 'closure', 'clothe', 'clothing', 'cloud', 'club', 'clue', 'clueless', 'clumsily', 'clunie', 'cluster', 'clutch', 'clutter', 'cma', 'cmon', 'cmsaf', 'cn', 'cnn', 'co', 'coach', 'coal', 'coalition', 'coast', 'coastal', 'coat', 'coatrack', 'coburg', 'coc', 'cock', 'cocklover', 'cockroach', 'cocksucker', 'cocksucking', 'cockwad', 'coconutfred', 'cocoon', 'cod', 'code', 'codedon', 'codeproject', 'coding', 'coefficient', 'coffee', 'cognate', 'cognitive', 'cognizant', 'coheed', 'coherence', 'coi', 'coil', 'coin', 'coinage', 'coincidence', 'coincidently', 'coke', 'col', 'cola', 'colbert', 'cold', 'coldplay', 'coldrealm', 'cole', 'colebatch', 'coler', 'colin', 'coliseum', 'collaberated', 'collaborate', 'collaborated', 'collaborateur', 'collaboration', 'collaborative', 'collaborator', 'collapse', 'collapsible', 'collateral', 'colleague', 'collect', 'collection', 'collective', 'college', 'collegial', 'collegiate', 'collin', 'collins', 'collobraters', 'collumn', 'cologne', 'colombia', 'colonial', 'color', 'colossal', 'colour', 'colscott', 'colt', 'columbia', 'columbus', 'column', 'com', 'coma', 'comb', 'combat', 'combative', 'combine', 'combined', 'combusted', 'comcast', 'come', 'comedian', 'comedic', 'comedy', 'coment', 'comer', 'comfort', 'comfortable', 'comic', 'comically', 'coming', 'comma', 'command', 'commander', 'commas', 'commemorate', 'commemts', 'commend', 'commendable', 'comment', 'commentary', 'commentator', 'commenter', 'commercial', 'commercially', 'commie', 'commission', 'commissioned', 'commit', 'commits', 'committed', 'committee', 'commments', 'commodore', 'common', 'commonist', 'commonly', 'commonname', 'commonsense', 'commonwealth', 'communicate', 'communication', 'communicative', 'communion', 'communism', 'communist', 'community', 'como', 'comp', 'compact', 'companion', 'company', 'comparable', 'compare', 'comparison', 'compassion', 'compatible', 'compatibly', 'compel', 'compelling', 'compels', 'compere', 'compete', 'competence', 'competent', 'competition', 'competitive', 'competitor', 'competive', 'compilation', 'compile', 'complain', 'complained', 'complaint', 'complete', 'completely', 'completly', 'complex', 'complexity', 'compliance', 'complicate', 'complicated', 'complies', 'compliment', 'comply', 'compose', 'composer', 'composite', 'composition', 'compound', 'comprehend', 'comprehension', 'comprehensive', 'comprehensively', 'compress', 'compression', 'comprise', 'comprised', 'compromise', 'compromised', 'comptroller', 'computational', 'computer', 'comtemporary', 'con', 'conan', 'conceals', 'concedes', 'conceirning', 'conceive', 'concensus', 'concentrate', 'concentration', 'concentric', 'concept', 'concern', 'concerned', 'concert', 'concerted', 'concerto', 'concetta', 'concievably', 'concise', 'conclude', 'concludes', 'conclusion', 'conclusive', 'conclusively', 'concordia', 'concrete', 'concur', 'concurrent', 'conde', 'condecorado', 'condemnation', 'condense', 'condescend', 'condescendingly', 'condition', 'conditional', 'condone', 'conduct', 'cone', 'confederacy', 'confederate', 'confer', 'conference', 'confidence', 'confident', 'confidentiality', 'configuration', 'confine', 'confines', 'confirm', 'confirmable', 'confirmadas', 'confirmados', 'confirmation', 'confirmed', 'confirms', 'conflate', 'conflating', 'conflation', 'conflict', 'conflicted', 'conform', 'conformance', 'conformist', 'conforms', 'confrontational', 'confuse', 'confused', 'confusing', 'confusingly', 'confusion', 'congrats', 'congratulate', 'congratulation', 'congratulations', 'congress', 'congressional', 'congressman', 'conjecture', 'conjugate', 'conjunction', 'conjure', 'conn', 'connect', 'connecticut', 'connection', 'connector', 'connectticut', 'connoley', 'connolley', 'connotation', 'conquer', 'conqueror', 'conquest', 'conquistador', 'conrad', 'consciousness', 'consecutively', 'consensual', 'consensus', 'consensusplease', 'consent', 'consequence', 'consequent', 'consequently', 'conservapedia', 'conservation', 'conservatism', 'conservatist', 'conservative', 'consider', 'considerable', 'considerably', 'consideration', 'considers', 'consist', 'consistant', 'consistency', 'consistent', 'consistently', 'consit', 'consitent', 'consitution', 'console', 'consonant', 'consort', 'consortium', 'conspicuous', 'conspiracy', 'conspirator', 'conspire', 'consquently', 'constant', 'constantly', 'constellation', 'constituency', 'constituent', 'constitute', 'constitutes', 'constitution', 'constitutional', 'construct', 'construction', 'constructionism', 'constructive', 'constructively', 'construe', 'consult', 'consulta', 'consultant', 'consume', 'consumption', 'cont', 'contact', 'contacted', 'contain', 'container', 'contains', 'contemplate', 'contemporaneously', 'contemporary', 'contempt', 'contenant', 'contend', 'contenson', 'content', 'contention', 'contentious', 'contest', 'contested', 'context', 'contextual', 'continent', 'continental', 'continually', 'continuation', 'continue', 'continued', 'continuity', 'continuosuly', 'continuous', 'continuously', 'contr', 'contra', 'contract', 'contradicitons', 'contradict', 'contradiction', 'contradictory', 'contragate', 'contrary', 'contrast', 'contravenes', 'contrib', 'contribs', 'contributative', 'contribute', 'contributed', 'contributer', 'contributers', 'contributing', 'contribution', 'contributor', 'control', 'controller', 'controversial', 'controversy', 'controvery', 'contrubutions', 'conundrum', 'convene', 'convenient', 'convention', 'conventional', 'convergent', 'conversant', 'conversation', 'conversationally', 'converse', 'conversion', 'convert', 'convese', 'convetions', 'convey', 'conveyor', 'conveys', 'convict', 'conviction', 'convienent', 'convince', 'convincing', 'convolute', 'cook', 'cooked', 'cookie', 'cooky', 'cool', 'coolant', 'coolcaesar', 'coolcat', 'cooley', 'coolie', 'cooper', 'cooperate', 'cooperation', 'cooperative', 'cooperatively', 'coor', 'coordinate', 'coordination', 'cop', 'cope', 'copeland', 'copernicus', 'copied', 'copy', 'copyedit', 'copypasta', 'copyrigh', 'copyright', 'copyrighted', 'copyvio', 'copyvios', 'copywright', 'corbett', 'corby', 'corcoran', 'corddry', 'cordoba', 'core', 'cork', 'corlume', 'corn', 'corner', 'cornerstone', 'corniche', 'coronaridine', 'corp', 'corporate', 'corporation', 'corporatist', 'corpse', 'corracted', 'correct', 'correction', 'correctly', 'correspond', 'correspondance', 'corrida', 'corroborate', 'corroborated', 'corrupt', 'corruption', 'corticotropin', 'cos', 'cosmas', 'cosmetic', 'cosmology', 'cosmos', 'cosnsistently', 'cost', 'cotc', 'cotnroversy', 'cotw', 'coulter', 'council', 'councileuropaeu', 'councillor', 'counsel', 'count', 'counter', 'counterargument', 'counterfeit', 'countermovement', 'counterpart', 'counterpoint', 'counterproductive', 'countess', 'countless', 'country', 'county', 'coup', 'couple', 'coupmakers', 'coupon', 'courage', 'courageous', 'cource', 'courcelles', 'courchevel', 'couriano', 'course', 'court', 'courtesy', 'cousin', 'coutinho', 'coutry', 'covenant', 'cover', 'coverage', 'covered', 'covergif', 'coverture', 'covet', 'cow', 'coward', 'cowardice', 'cowardly', 'cowboys', 'coworkers', 'cox', 'coz', 'cozumel', 'cp', 'cpr', 'cptdb', 'cptnono', 'cpu', 'crack', 'cracker', 'cradle', 'craft', 'craftsman', 'craig', 'crane', 'crank', 'cranker', 'cranky', 'crap', 'crappy', 'crash', 'crass', 'crater', 'crave', 'crawlies', 'crazy', 'crazyness', 'crea', 'creado', 'cream', 'creando', 'create', 'createspace', 'creation', 'creationism', 'creationist', 'creative', 'creativity', 'creator', 'creature', 'creatures', 'credential', 'credibility', 'credible', 'credit', 'creditable', 'creep', 'creepy', 'cremation', 'crescent', 'crest', 'crestview', 'cretanpride', 'cretin', 'cretins', 'crew', 'cribbage', 'cricket', 'crighton', 'crime', 'crimean', 'criminal', 'criminality', 'crimson', 'crisco', 'crises', 'crisis', 'crisman', 'crisp', 'cristiano', 'cristina', 'criteria', 'criterion', 'criterium', 'critery', 'critic', 'critical', 'criticing', 'criticise', 'criticism', 'criticisms', 'criticize', 'criticizes', 'critique', 'croat', 'croatia', 'croatian', 'croato', 'crohn', 'crok', 'crook', 'crop', 'cross', 'crossover', 'crossroad', 'crow', 'crowd', 'crowe', 'crown', 'crtins', 'crucial', 'crucifixion', 'crucify', 'crudely', 'cruel', 'cruft', 'cruise', 'cruiser', 'crunch', 'crusade', 'crusader', 'crush', 'crux', 'cruyff', 'cruz', 'cry', 'crystal', 'crzrussian', 'cs', 'csa', 'csd', 'csloat', 'csn', 'css', 'csssclll', 'ct', 'ctabcopy', 'ctrl', 'cuba', 'cube', 'cubelessness', 'cubic', 'cubicism', 'cubit', 'cudak', 'cuenca', 'cuenta', 'cuff', 'cuisine', 'cull', 'culpa', 'cult', 'cultish', 'cultural', 'culturally', 'culture', 'culturesaufderheide', 'culvert', 'cum', 'cumslurping', 'cunning', 'cunningham', 'cunt', 'cuntmuffin', 'cunttwat', 'cup', 'curdle', 'cure', 'curing', 'curiosity', 'curious', 'curl', 'curps', 'currency', 'current', 'currently', 'curriculum', 'currie', 'curse', 'cursed', 'curt', 'curtain', 'curtis', 'curvature', 'curve', 'cusp', 'cuss', 'custodian', 'custom', 'customer', 'customize', 'cut', 'cute', 'cuz', 'cwc', 'cyan', 'cyber', 'cyberbullying', 'cybercrime', 'cyberlink', 'cyborg', 'cycle', 'cyclical', 'cyclone', 'cygnus', 'cynical', 'cynthia', 'cyphoidbomb', 'cyprus', 'cyrillic', 'cyrogenic', 'czech', 'da', 'dab', 'dabelstein', 'daborgdorff', 'daco', 'dad', 'daddy', 'daedalus', 'daemon', 'dafax', 'dafd', 'daft', 'dagnall', 'dahn', 'daily', 'daimlerchrysler', 'daivd', 'dakota', 'daleks', 'dali', 'dallaglio', 'dalrymple', 'dam', 'damage', 'damaging', 'dame', 'damiensfr', 'damm', 'damn', 'damon', 'dan', 'dance', 'dander', 'danger', 'dangerous', 'daniel', 'danielle', 'dank', 'danny', 'danratedrko', 'dar', 'darcy', 'dare', 'dark', 'darkside', 'darkstar', 'darkwarriorblade', 'darwin', 'darwinian', 'dash', 'dat', 'data', 'database', 'date', 'dateness', 'daughter', 'dave', 'davenport', 'david', 'davidg', 'davidwbrooks', 'davisjune', 'davy', 'dawah', 'dawnseeker', 'day', 'daytimejpg', 'daytrippers', 'db', 'dbpedia', 'dbus', 'dc', 'dcop', 'ddisputant', 'ddos', 'ddt', 'de', 'dea', 'deactivation', 'dead', 'deadbolt', 'deadkid', 'deadly', 'deadpool', 'deafening', 'deal', 'dealing', 'dealt', 'dear', 'dearest', 'death', 'deathmatch', 'deaths', 'deb', 'debacle', 'debartha', 'debatable', 'debate', 'debby', 'deblocare', 'debrecen', 'debt', 'debunker', 'debut', 'debuted', 'dec', 'decade', 'decease', 'deceit', 'deceive', 'decembar', 'december', 'decency', 'decent', 'deception', 'deceptive', 'decide', 'decider', 'decides', 'decipher', 'decision', 'decker', 'declaration', 'declare', 'decline', 'declineno', 'declinethere', 'declinewhat', 'declinewhile', 'deconstructs', 'decorate', 'decoration', 'decoteau', 'decrease', 'decree', 'decry', 'dedicate', 'deduction', 'deed', 'deegan', 'deem', 'deemed', 'deems', 'deep', 'deeper', 'deeply', 'deeptrivia', 'deer', 'deez', 'def', 'deface', 'defamatory', 'default', 'defeat', 'defect', 'defence', 'defend', 'defendant', 'defender', 'defendo', 'defendu', 'defenetly', 'defense', 'defenseless', 'defensive', 'defensively', 'defer', 'deference', 'defiantly', 'deficiency', 'definately', 'define', 'defined', 'defines', 'definite', 'definitely', 'definition', 'definitive', 'deform', 'deformity', 'defunct', 'defying', 'degrade', 'degree', 'degreed', 'deja', 'dejado', 'dejandoles', 'dejaron', 'del', 'delate', 'delaware', 'delay', 'deleated', 'delegate', 'delegation', 'delennart', 'delete', 'deleted', 'deletedfor', 'deleter', 'deletereason', 'deleterious', 'deletes', 'deleting', 'deletion', 'deletor', 'deleuze', 'deli', 'deliberate', 'deliberately', 'delibrately', 'deliebrately', 'deliver', 'deliverance', 'delivers', 'delivery', 'delta', 'deltabcut', 'delting', 'delusion', 'delusional', 'deluxe', 'delve', 'demand', 'demilitarization', 'demise', 'demnstarate', 'demo', 'democracy', 'democrat', 'democratic', 'demographic', 'demokratika', 'demolish', 'demolition', 'demon', 'demonology', 'demonstrable', 'demonstrate', 'demonstration', 'demoralized', 'dems', 'demut', 'denial', 'denialist', 'denied', 'denier', 'denies', 'denigrate', 'denison', 'denmark', 'dennis', 'denny', 'denomination', 'denote', 'densely', 'density', 'deny', 'deobandi', 'depart', 'department', 'departure', 'depend', 'depends', 'depict', 'deplorable', 'deplyoment', 'deportation', 'depose', 'deposit', 'depresion', 'depressingly', 'depression', 'depressives', 'deprive', 'deprives', 'dept', 'depth', 'derail', 'derails', 'derange', 'derby', 'derild', 'derivation', 'derivative', 'derive', 'derogatory', 'derrick', 'dervish', 'desbloquear', 'descend', 'descendant', 'descent', 'descreet', 'describe', 'described', 'describes', 'description', 'descriptionexcerpt', 'descriptive', 'descriptor', 'descrtibe', 'deserted', 'deserve', 'deserved', 'deserves', 'design', 'designate', 'designer', 'desirable', 'desire', 'desist', 'desk', 'desmond', 'desperate', 'desperately', 'despite', 'despotism', 'dessert', 'destination', 'destoying', 'destroy', 'destroys', 'destruction', 'destructive', 'desudo', 'desysop', 'desysoped', 'desysoping', 'desysopped', 'detail', 'detailed', 'detect', 'detective', 'detergent', 'determinant', 'determination', 'determine', 'determined', 'dethtoll', 'detour', 'detract', 'detrimental', 'deutz', 'deux', 'dev', 'devaluation', 'devan', 'devanagari', 'devante', 'devastate', 'develop', 'developer', 'development', 'devgru', 'device', 'devil', 'devilishqueen', 'deviousness', 'devote', 'dewatch', 'dexistence', 'dg', 'dh', 'dhaka', 'dharmam', 'dhillon', 'dhimmi', 'dhruva', 'diabetes', 'diabolical', 'diacritic', 'diagram', 'dialect', 'dialog', 'dialoge', 'dialogue', 'diameter', 'diamond', 'diana', 'dianetics', 'diannaa', 'dianne', 'diaper', 'diareah', 'diary', 'diaspora', 'dicaprio', 'diccussion', 'dick', 'dickhead', 'dictate', 'dictator', 'dictatorial', 'dictatorship', 'dictionary', 'didhere', 'didnt', 'die', 'dieeeeeeeeeeeeeeeeeeeee', 'diet', 'dieticians', 'dietlieb', 'diff', 'differ', 'difference', 'different', 'differentiate', 'differently', 'differing', 'differs', 'difficult', 'difficulty', 'diffrence', 'diffs', 'dig', 'digest', 'diggcom', 'digging', 'diggins', 'digit', 'digital', 'dignitary', 'dignity', 'digusting', 'digwuren', 'dihck', 'dildo', 'dilema', 'dilemma', 'diligence', 'dilute', 'dilwar', 'dimension', 'diminish', 'dinner', 'dip', 'diploma', 'diplomat', 'diplomatic', 'dipping', 'dipute', 'dire', 'direct', 'direction', 'directly', 'director', 'directory', 'dirrect', 'dirty', 'dis', 'disable', 'disabledif', 'disadvantage', 'disagree', 'disagreement', 'disagreements', 'disagreemnets', 'disagrees', 'disagrement', 'disallow', 'disambig', 'disambiguate', 'disambiguation', 'disambigulation', 'disappear', 'disappearance', 'disappeared', 'disappears', 'disappoint', 'disappointed', 'disappointing', 'disappointment', 'disapprove', 'disarm', 'disaster', 'disavow', 'disband', 'disbelieve', 'disc', 'discard', 'disccusion', 'discernable', 'discharge', 'disciplinary', 'discipline', 'disclaimer', 'disclose', 'disclosure', 'discluded', 'discography', 'disconnect', 'discord', 'discount', 'discourage', 'discourse', 'discover', 'discovery', 'discredit', 'discretionary', 'discriminate', 'discrimination', 'discriminatory', 'disctinction', 'discursive', 'discus', 'discusions', 'discuss', 'discussed', 'discussing', 'discussion', 'discussionthese', 'disdain', 'disease', 'disengage', 'disgrace', 'disgruntle', 'disguise', 'disguised', 'disgust', 'disgusted', 'dishearten', 'dishonest', 'dishonesty', 'disillusion', 'disk', 'dislike', 'dislke', 'dismiss', 'dismissal', 'disney', 'disneyfolly', 'disorganization', 'disparage', 'disparate', 'disparately', 'dispatch', 'dispersal', 'dispersion', 'displace', 'displacement', 'display', 'displayed', 'displayes', 'disproof', 'disproportionate', 'disprove', 'disputation', 'dispute', 'disputed', 'disqualification', 'disregard', 'disrespect', 'disrespectful', 'disrespectfully', 'disrupt', 'disruptive', 'diss', 'dissagree', 'dissapearance', 'dissatisfaction', 'disscussions', 'dissenter', 'dissertation', 'disservice', 'dissident', 'dissolution', 'dissolve', 'dissonance', 'dissuade', 'distance', 'distanced', 'distant', 'distaste', 'distinct', 'distinction', 'distinctive', 'distinctly', 'distinguish', 'distinguishes', 'distort', 'distortion', 'distract', 'distraction', 'distracts', 'distribute', 'distribution', 'distributor', 'district', 'distruption', 'distrust', 'disturb', 'disturbance', 'disturbed', 'disullsioned', 'dit', 'ditch', 'ditmas', 'ditto', 'dittu', 'diva', 'dive', 'divemasters', 'diverse', 'diversified', 'diversion', 'diversity', 'divert', 'divide', 'division', 'divorce', 'divulge', 'divy', 'diwan', 'dizziness', 'djpg', 'dk', 'dl', 'dlete', 'dlf', 'dlohcierekim', 'dmca', 'dmoz', 'dmv', 'dna', 'dnb', 'dnsla', 'dny', 'do', 'doc', 'docket', 'docku', 'docters', 'doctor', 'doctorate', 'doctorine', 'doctrine', 'document', 'documentary', 'documentation', 'documentery', 'dodo', 'dodona', 'doe', 'doesnt', 'dog', 'dogjpg', 'dogons', 'doh', 'dojarco', 'dojo', 'dokdo', 'dollar', 'dolly', 'domain', 'domestic', 'dominance', 'dominant', 'dominate', 'dominates', 'dominent', 'dominic', 'donald', 'donate', 'donating', 'donig', 'donkey', 'donna', 'donner', 'dont', 'donut', 'doom', 'doop', 'doopjpg', 'door', 'doosh', 'dori', 'dorian', 'dorking', 'dorothea', 'dorothy', 'dorridge', 'dose', 'dostoevski', 'dostoevsky', 'dot', 'dotter', 'double', 'doubt', 'doubtful', 'douche', 'douchebag', 'dowd', 'down', 'downgrade', 'downgrades', 'download', 'downplay', 'downtown', 'dozen', 'dozens', 'dp', 'dprk', 'dq', 'dqed', 'dr', 'draft', 'drag', 'dragon', 'drain', 'drakkar', 'dralberthofmann', 'drama', 'dramatic', 'dramatica', 'dramatically', 'drastic', 'dravidian', 'draw', 'drawer', 'drawn', 'drc', 'dre', 'dread', 'dreadfully', 'dream', 'dredge', 'dreedful', 'drench', 'dress', 'drew', 'dribble', 'drink', 'drinking', 'drishtipat', 'drive', 'driven', 'driver', 'driving', 'drk', 'drkiernan', 'drmies', 'drolta', 'drone', 'drop', 'dropdown', 'drown', 'dru', 'drug', 'drugbox', 'druid', 'drum', 'drunk', 'drv', 'dry', 'dryas', 'dsfs', 'dsi', 'dsm', 'dt', 'du', 'dual', 'duality', 'dub', 'dubai', 'dubious', 'dublin', 'dubs', 'dubstar', 'duchy', 'duck', 'duckling', 'duckworth', 'duddy', 'dude', 'dudley', 'due', 'duesberg', 'duffy', 'duggan', 'duh', 'duk', 'dulcet', 'dulithgow', 'duly', 'dumb', 'dumbass', 'dumbed', 'dumbhead', 'dumbing', 'dummy', 'dump', 'duncan', 'dunce', 'duncharris', 'dunciad', 'dundee', 'dune', 'dunechka', 'dung', 'dungeon', 'dunno', 'duplicate', 'dupont', 'durant', 'duration', 'durin', 'durst', 'dust', 'dutch', 'duty', 'dvd', 'dvyostdvyost', 'dy', 'dybryd', 'dyer', 'dying', 'dyk', 'dyks', 'dylan', 'dynamic', 'dynamotor', 'dynasty', 'dysfunctional', 'dysgenics', 'dziadu', 'dzmitruk', 'ea', 'each', 'eachother', 'eager', 'eagle', 'ealdred', 'ealier', 'ear', 'earhart', 'earl', 'earlier', 'earls', 'early', 'earlywhich', 'earn', 'earnings', 'earp', 'earth', 'earthly', 'earthquake', 'ease', 'easialy', 'easiet', 'easily', 'easonite', 'east', 'eastern', 'easterns', 'eastman', 'eastwick', 'easy', 'eat', 'eaten', 'eating', 'eberst', 'ebson', 'ecclesiastical', 'eccleston', 'echo', 'eco', 'ecological', 'ecology', 'economic', 'economical', 'economics', 'economist', 'economy', 'ecosystem', 'ecovillages', 'ecstasy', 'ect', 'ecuador', 'ecw', 'ed', 'eddie', 'edditor', 'edgar', 'edge', 'edict', 'edison', 'edit', 'editable', 'editathon', 'edited', 'editheadz', 'editied', 'editing', 'edition', 'editjpg', 'editorails', 'editorial', 'editorialize', 'editorswhose', 'editquette', 'editting', 'edjohnston', 'edmund', 'edododo', 'edp', 'edt', 'edting', 'educate', 'educated', 'education', 'educational', 'edward', 'ee', 'eeblet', 'eedson', 'eekster', 'eeng', 'eeuu', 'efendi', 'eff', 'effect', 'effective', 'effectively', 'efficacy', 'efficiency', 'efficient', 'efficiently', 'effort', 'efrat', 'eg', 'egalitarian', 'egern', 'egg', 'eggheaded', 'eggman', 'ego', 'egoism', 'egotistical', 'egregious', 'egsustainable', 'egypt', 'egyptian', 'eh', 'ehardt', 'eht', 'ei', 'eiffel', 'eigapedia', 'eight', 'eighth', 'eik', 'eilat', 'einstein', 'eisner', 'either', 'ejaculate', 'ekrubrr', 'el', 'elaborate', 'elaragirl', 'elbow', 'elder', 'elders', 'eleanor', 'elect', 'election', 'elective', 'electoral', 'electric', 'electrical', 'electricity', 'electro', 'electrolysis', 'electromagnetic', 'electron', 'electronic', 'electronics', 'electrostatic', 'electroweak', 'eleele', 'eleemosynary', 'elegant', 'elegantly', 'element', 'elementals', 'elen', 'eleonora', 'elephant', 'eletist', 'elevate', 'elf', 'eli', 'eligibility', 'eligible', 'eliminate', 'eliminates', 'elimination', 'elite', 'elitist', 'eliyahu', 'elizabeth', 'ellen', 'elliott', 'elliskev', 'eloquent', 'eloquently', 'else', 'elses', 'elsewhere', 'elucidate', 'elven', 'elves', 'elvia', 'elvie', 'elvispresley', 'em', 'emaar', 'email', 'emailuser', 'eman', 'emancipation', 'embarassing', 'embarassment', 'embargo', 'embarrass', 'embarrassed', 'embassy', 'embellish', 'embellishment', 'embellishments', 'embrace', 'embryoes', 'emerge', 'emergency', 'emerges', 'emeril', 'emigrant', 'emile', 'emilia', 'emilio', 'emily', 'eminem', 'emission', 'emit', 'emlodik', 'emo', 'emos', 'emotinoal', 'emotion', 'emotional', 'emotionally', 'empathy', 'emperor', 'emphasis', 'emphasise', 'emphasize', 'empire', 'empires', 'empirical', 'employ', 'employed', 'employee', 'employer', 'empress', 'emptor', 'empty', 'emptyness', 'en', 'enable', 'enact', 'enamel', 'encarta', 'enchyin', 'encode', 'encoded', 'encompass', 'encompasses', 'encounter', 'encourage', 'encourages', 'encryption', 'encyclopaedia', 'encyclopaedic', 'encyclopedia', 'encyclopedial', 'encyclopedias', 'encyclopedic', 'encyclpedia', 'encycopedia', 'encylodedia', 'encylopedia', 'encylopediactionary', 'end', 'endanger', 'endemic', 'endless', 'endomorphism', 'endorse', 'endow', 'endowed', 'endtabgoes', 'endtabhighlights', 'endure', 'enemy', 'energy', 'enfants', 'enforce', 'enforcement', 'engage', 'engagement', 'engine', 'engineer', 'engineering', 'engines', 'england', 'englewood', 'english', 'enigmasoldier', 'enignaman', 'enjoy', 'enjoyable', 'enlighten', 'enlightenment', 'enlist', 'enna', 'ennasis', 'ennes', 'ennio', 'ennui', 'enot', 'enough', 'enought', 'enquire', 'enrage', 'enrich', 'enrique', 'ensconced', 'ensemble', 'ensue', 'ensure', 'entender', 'enter', 'entered', 'enterprise', 'enterprises', 'entertain', 'entertaining', 'entertainment', 'entery', 'entire', 'entirely', 'entirety', 'entitle', 'entity', 'entrance', 'entrap', 'entrench', 'entrepreneur', 'entry', 'envade', 'environment', 'environmental', 'environmentally', 'envy', 'enwiki', 'enwikipedia', 'enya', 'enyclopedia', 'ep', 'epa', 'epf', 'ephoenix', 'epic', 'epirus', 'episode', 'episodes', 'epitaph', 'epithet', 'epoic', 'epstien', 'eqinoxes', 'equal', 'equality', 'equally', 'equate', 'equation', 'equator', 'equip', 'equipment', 'equity', 'equivalent', 'er', 'era', 'erachima', 'eradicate', 'erase', 'erbil', 'erect', 'eres', 'eric', 'erica', 'eridori', 'erik', 'erin', 'erm', 'ernst', 'eron', 'err', 'errand', 'erreferentziak', 'erroneous', 'erronrous', 'error', 'errorit', 'ersin', 'ertman', 'esc', 'escalate', 'escalated', 'escalation', 'escape', 'eschew', 'eskimos', 'eskog', 'eso', 'esoteric', 'esp', 'especfially', 'especial', 'especially', 'esperanza', 'esperanze', 'espouse', 'espv', 'esque', 'essay', 'essence', 'essential', 'essentially', 'essjay', 'est', 'esta', 'establish', 'establishment', 'estar', 'estate', 'este', 'esteban', 'estebo', 'esteem', 'estimate', 'estimation', 'esto', 'estonian', 'estonin', 'estos', 'et', 'eta', 'etabedit', 'etalk', 'etc', 'eternal', 'eternity', 'ether', 'ethernet', 'ethic', 'ethical', 'ethically', 'ethinicty', 'ethnic', 'ethnically', 'ethnicity', 'ethnocentrism', 'ethnographic', 'ethnography', 'ethoxy', 'ethoxycoronaridine', 'ethymologie', 'etimology', 'etiquette', 'etitis', 'eto', 'etymology', 'eu', 'eucharist', 'eugene', 'euler', 'eunuch', 'eupen', 'eurasia', 'eureqa', 'euro', 'europa', 'europe', 'european', 'europeans', 'ev', 'evade', 'evaluate', 'evaluation', 'evaluative', 'evangelist', 'evans', 'evaporation', 'evarr', 'evasion', 'evasive', 'eve', 'eveidence', 'even', 'event', 'eventuality', 'eventually', 'ever', 'everest', 'everone', 'every', 'everybody', 'everyday', 'everyking', 'everyone', 'everyones', 'everything', 'everythingg', 'everywhere', 'evety', 'evidance', 'evidence', 'evident', 'evidential', 'evil', 'evilbu', 'evoluation', 'evolution', 'evolutionary', 'evolve', 'ewart', 'ex', 'exaclty', 'exact', 'exactky', 'exactly', 'exaggerate', 'exaggerated', 'exaggeration', 'exam', 'examination', 'examine', 'example', 'exampleogg', 'exampleoggmedia', 'examples', 'excavate', 'exceed', 'excel', 'excell', 'excellent', 'except', 'exception', 'excerpt', 'excess', 'excessive', 'excessively', 'exchange', 'excise', 'excitable', 'excite', 'exciting', 'exclude', 'exclusion', 'exclusive', 'exclusively', 'excuse', 'excusively', 'execise', 'execute', 'execution', 'executive', 'exegesis', 'exemplary', 'exemplified', 'exempt', 'exercise', 'exert', 'exhale', 'exhaust', 'exhibit', 'exile', 'exist', 'existance', 'existant', 'existed', 'existence', 'existent', 'existential', 'exists', 'exit', 'exmaples', 'exorcist', 'exotic', 'expand', 'expansion', 'expect', 'expedition', 'expel', 'expelled', 'expense', 'expensive', 'experianced', 'experiancing', 'experience', 'experienced', 'experiment', 'experimental', 'experimentals', 'expert', 'expertise', 'expire', 'expired', 'explain', 'explains', 'explanation', 'explanatory', 'explaning', 'explantion', 'explians', 'explicate', 'explicit', 'explicitly', 'exploit', 'explore', 'explorer', 'explorersweb', 'explosion', 'explosive', 'explosives', 'export', 'exporter', 'expose', 'exposed', 'exposure', 'expr', 'express', 'expressed', 'expression', 'expulsion', 'extend', 'extension', 'extensive', 'extensively', 'extensiveness', 'extent', 'exterminate', 'external', 'extinct', 'extinction', 'extirpate', 'extirpation', 'extol', 'extra', 'extract', 'extraction', 'extracurriculur', 'extraneous', 'extraterrestrial', 'extreme', 'extremeism', 'extremely', 'extremist', 'extremistic', 'exver', 'eyck', 'eye', 'eyeball', 'eyewitness', 'ezeddin', 'ezekiel', 'ezzex', 'fa', 'faaaagggggggg', 'fabartus', 'fabricate', 'fabrication', 'fac', 'face', 'facebook', 'faceit', 'facesorry', 'facetious', 'fachime', 'facilement', 'facilitate', 'facilitator', 'facility', 'facist', 'fact', 'factbook', 'facti', 'faction', 'facto', 'factor', 'factorization', 'factory', 'facts', 'factual', 'factually', 'faculty', 'faddle', 'fade', 'fag', 'faggot', 'faggoty', 'fail', 'failed', 'fails', 'failure', 'fair', 'fairer', 'fairly', 'fairmind', 'fairness', 'fairy', 'faisal', 'fait', 'faith', 'fake', 'fal', 'falacy', 'falcone', 'fall', 'fallacious', 'fallacy', 'fallah', 'fallecimiento', 'fallin', 'false', 'falsehood', 'falsely', 'falsified', 'falsifieng', 'falsify', 'falsly', 'faltu', 'falty', 'falun', 'fame', 'familiar', 'family', 'famine', 'fammous', 'famoso', 'famous', 'famously', 'fan', 'fanatical', 'fanaticism', 'fanboy', 'fanciful', 'fanciness', 'fancruft', 'fancy', 'fandom', 'fangio', 'fannying', 'fansite', 'fantastic', 'fantasy', 'fanzine', 'fap', 'faq', 'faqs', 'far', 'faraya', 'farewell', 'farey', 'fari', 'faris', 'farm', 'farmer', 'farrakhan', 'fart', 'farthead', 'fascinate', 'fascinated', 'fascinating', 'fascism', 'fascist', 'fashion', 'fasst', 'fast', 'faster', 'fastily', 'fat', 'fatal', 'father', 'fatigue', 'fatma', 'fatty', 'fattyjwoods', 'fatuorum', 'fatuous', 'fatwa', 'fault', 'faulty', 'fauna', 'favor', 'favorable', 'favorite', 'favour', 'favreau', 'fawkes', 'fawn', 'fayssal', 'fayssalf', 'fb', 'fbi', 'fc', 'fck', 'fdny', 'feagans', 'fealers', 'fear', 'fearless', 'feature', 'featured', 'feb', 'februar', 'february', 'federal', 'federated', 'federation', 'fee', 'feeble', 'feed', 'feedback', 'feel', 'feeling', 'feely', 'fehime', 'feitas', 'feld', 'felderer', 'felix', 'fell', 'fella', 'fellatio', 'fellow', 'fellowship', 'felon', 'feloniousmonk', 'felt', 'female', 'feminine', 'femininism', 'femininity', 'feminism', 'feminist', 'fence', 'fenway', 'feral', 'ferdinand', 'ferguson', 'fergusonjpg', 'ferling', 'ferlings', 'fernand', 'ferret', 'ferrylodge', 'fest', 'festival', 'fetch', 'fetzer', 'feud', 'fever', 'few', 'ffffa', 'ffffff', 'ffn', 'fiacco', 'fiber', 'fibering', 'fibula', 'fiction', 'fictional', 'fiddle', 'field', 'fieldgoalunit', 'fiercely', 'fiery', 'fifa', 'fife', 'fifteen', 'fifth', 'fig', 'fight', 'fighter', 'figment', 'figurative', 'figure', 'fijai', 'filat', 'file', 'filenameskream', 'filesharing', 'filing', 'filipinos', 'fill', 'filler', 'film', 'filmmaker', 'filmography', 'filter', 'filtered', 'filth', 'filthy', 'fimiliar', 'fin', 'final', 'finalize', 'finally', 'financial', 'find', 'finder', 'finding', 'fine', 'finger', 'fingered', 'fingertip', 'finish', 'finished', 'finishing', 'finite', 'finland', 'finn', 'finneganw', 'finnish', 'finns', 'finra', 'fire', 'firearm', 'firefox', 'fireman', 'firing', 'firm', 'firmly', 'firmware', 'firsfron', 'first', 'firsthand', 'firstly', 'fish', 'fishbonepromojpg', 'fisherman', 'fist', 'fistful', 'fiszbein', 'fit', 'fitness', 'fitzgerald', 'five', 'fix', 'fixed', 'fixup', 'fkp', 'fkpcascais', 'fl', 'flag', 'flagrant', 'flagrantly', 'flak', 'flame', 'flamebait', 'flamewar', 'flaming', 'flare', 'flat', 'flatter', 'flavor', 'flavour', 'flaw', 'flax', 'flay', 'flee', 'fleet', 'fleged', 'fleischmann', 'flense', 'flesh', 'flex', 'flexibility', 'flexibilty', 'flexible', 'flight', 'flightjpgthumbpxright', 'flimsy', 'flit', 'flixton', 'float', 'flocking', 'flonight', 'flood', 'floor', 'floorball', 'flop', 'flora', 'florian', 'florida', 'flouty', 'flow', 'flower', 'fluency', 'fluff', 'fluke', 'fluoroquinolone', 'flurious', 'fly', 'flyer', 'flyguytalk', 'flyover', 'fm', 'fmr', 'fn', 'focus', 'focused', 'foe', 'fof', 'folk', 'folkestone', 'folkloric', 'folloing', 'follow', 'follower', 'following', 'followup', 'follwing', 'foment', 'fond', 'fondness', 'fone', 'font', 'foo', 'food', 'fool', 'foolish', 'foolishness', 'foot', 'footage', 'football', 'footballer', 'foote', 'foothold', 'footman', 'footnote', 'footprint', 'for', 'forbidden', 'force', 'forced', 'forcible', 'forcibly', 'fordman', 'forehead', 'foreign', 'foreigner', 'foremost', 'forensic', 'forest', 'forestall', 'forestgarden', 'foretance', 'forever', 'forge', 'forget', 'forgive', 'forgot', 'forgotten', 'fork', 'forking', 'form', 'formal', 'formalism', 'formally', 'format', 'formation', 'formatnum', 'formatogg', 'formatted', 'formatting', 'formentioned', 'former', 'formerly', 'formless', 'forms', 'formula', 'formulate', 'formulation', 'fort', 'forth', 'forthcoming', 'fortnight', 'fortunaly', 'fortunate', 'fortunately', 'fortuny', 'forty', 'forum', 'forumla', 'forumshop', 'forumshopping', 'forumulation', 'forward', 'fossorial', 'foucault', 'fought', 'foul', 'found', 'foundation', 'foundational', 'founder', 'foundry', 'four', 'fourteen', 'fourth', 'fouts', 'fox', 'foxotherwise', 'fr', 'fraction', 'fractional', 'fragmentary', 'fram', 'frame', 'framed', 'framework', 'framlingham', 'franamax', 'france', 'francesco', 'franchise', 'francis', 'francisco', 'franco', 'franglifried', 'frank', 'franken', 'franklin', 'frankly', 'frat', 'frattali', 'frau', 'fraud', 'fraudsters', 'fraudulent', 'frcp', 'freak', 'freakin', 'fred', 'freddie', 'freddy', 'frederic', 'free', 'freebie', 'freedom', 'freefall', 'freely', 'freemarket', 'freemasonry', 'freeplay', 'freestylefrappe', 'freeware', 'freezes', 'frei', 'french', 'frequency', 'frequent', 'frequently', 'frere', 'fresco', 'fresh', 'freshman', 'freud', 'freudian', 'frickken', 'friction', 'friday', 'friend', 'friendly', 'friends', 'friendship', 'friggin', 'frighten', 'fringe', 'frog', 'frogs', 'fromm', 'front', 'frontal', 'frown', 'fruit', 'fruitful', 'frustrate', 'frustrated', 'frustratingly', 'frustration', 'fry', 'fstephano', 'fsu', 'ft', 'ftabfile', 'ftabuniversal', 'ftp', 'ftpm', 'fu', 'fuath', 'fuck', 'fucka', 'fucked', 'fucker', 'fuckhead', 'fuckin', 'fucking', 'fuddy', 'fued', 'fuel', 'fuelwagon', 'fuk', 'fukuda', 'fukushima', 'fulfill', 'fulfilled', 'fulfilling', 'full', 'fulltime', 'fully', 'fun', 'function', 'functional', 'functionality', 'fund', 'fundamental', 'fundamentalist', 'fundamentally', 'funded', 'funding', 'fundraise', 'fundraiser', 'fundraising', 'funeral', 'funk', 'funktab', 'funnily', 'funny', 'funy', 'furnace', 'furrin', 'further', 'furthermore', 'furthers', 'fusion', 'fussy', 'fut', 'futile', 'futurama', 'future', 'futuresinhala', 'fuzzy', 'fuzzypink', 'fwiw', 'fy', 'fyi', 'fys', 'ga', 'gaa', 'gaah', 'gabriel', 'gabrielsimon', 'gabsadds', 'gac', 'gadget', 'gadong', 'gaeilge', 'gaelic', 'gaga', 'gage', 'gai', 'gaikokujin', 'gail', 'gain', 'gal', 'galabea', 'galah', 'galaxy', 'gald', 'gale', 'galilee', 'gall', 'gallane', 'gallery', 'gallimard', 'gallium', 'gamaliel', 'gambit', 'gamble', 'gambrell', 'game', 'gameplay', 'gamer', 'gamergate', 'gamers', 'gamespot', 'gan', 'gander', 'ganesha', 'gang', 'gangnam', 'ganked', 'ganmen', 'gaou', 'gap', 'garage', 'garbage', 'garden', 'gardener', 'garguantan', 'garisgh', 'garment', 'garner', 'garrett', 'garrigues', 'garrod', 'garry', 'gas', 'gasp', 'gate', 'gateway', 'gather', 'gathering', 'gatoclass', 'gattaca', 'gaudiya', 'gauge', 'gay', 'gayer', 'gayvn', 'gaza', 'gazetapl', 'gazette', 'gazi', 'gb', 'gcbrlitz', 'gcz', 'gdit', 'gdp', 'ge', 'geammal', 'gear', 'gearbox', 'gecekondu', 'ged', 'gedong', 'gee', 'geek', 'geeky', 'geez', 'gem', 'gen', 'gender', 'gene', 'genealogist', 'genealogy', 'general', 'generalist', 'generalization', 'generalize', 'generally', 'generate', 'generation', 'generational', 'generator', 'generic', 'generosity', 'generous', 'genesis', 'genetic', 'genetically', 'geneticist', 'geneticists', 'genetics', 'genevieve', 'genitoplasty', 'genius', 'genocidal', 'genocide', 'genre', 'genseiryu', 'gentile', 'gentle', 'gentlemanly', 'genuine', 'genuinely', 'genus', 'geo', 'geocities', 'geog', 'geographic', 'geography', 'geologist', 'geometry', 'geopolitically', 'george', 'georgia', 'georgian', 'geothermal', 'gerechtigkeitsgasse', 'geri', 'germain', 'german', 'germanic', 'germans', 'germany', 'gerolf', 'gerwaz', 'gesture', 'get', 'gettysburg', 'geuss', 'gewehr', 'gf', 'gfdl', 'gfhandel', 'gfwesq', 'gga', 'ghanananda', 'ghandi', 'gharib', 'ghazi', 'ghengis', 'ghirla', 'ghits', 'gholam', 'ghost', 'gi', 'giano', 'giant', 'giantsnowman', 'gibbon', 'gibson', 'gif', 'gift', 'giftshe', 'gigantic', 'gigolo', 'gilens', 'gilgul', 'gillan', 'gillette', 'gillian', 'gimmee', 'gimmick', 'ging', 'ginger', 'gini', 'ginsburg', 'giorgos', 'gipsee', 'giri', 'girl', 'girlfriend', 'girlie', 'gist', 'git', 'gita', 'giuseppe', 'give', 'giveaway', 'giver', 'givin', 'glad', 'gladly', 'glam', 'glance', 'glare', 'glaringly', 'glass', 'glen', 'glenn', 'glick', 'glint', 'glitch', 'glkanter', 'gloabal', 'global', 'globalize', 'globally', 'globalsib', 'globe', 'globially', 'glod', 'gloria', 'glorified', 'glorify', 'glorious', 'gloriously', 'gloris', 'glory', 'glow', 'glowing', 'gm', 'gmailcom', 'gmc', 'gmt', 'gng', 'gnome', 'gnosticism', 'gnu', 'go', 'goal', 'goalscorers', 'goan', 'goat', 'gobar', 'gobind', 'goble', 'goce', 'god', 'goddamn', 'goddess', 'godspeed', 'goebbels', 'goer', 'goethean', 'gogo', 'goin', 'goingtopluto', 'gokyo', 'gold', 'golden', 'goldenageofradioorg', 'goldstein', 'golestan', 'golf', 'golmal', 'golubovic', 'gon', 'gong', 'gonzales', 'good', 'goodbye', 'goodness', 'goodun', 'goodwishes', 'goof', 'goofball', 'goofy', 'google', 'googlecom', 'googlepedia', 'googol', 'googology', 'googolplex', 'goolkasian', 'goon', 'gopher', 'gordon', 'gore', 'gorecki', 'gorlitz', 'gormans', 'gospel', 'got', 'goth', 'gotha', 'gothic', 'gotlieb', 'gotten', 'gouache', 'gough', 'goverment', 'govern', 'governance', 'governmant', 'government', 'governmental', 'governor', 'govt', 'gow', 'gowdy', 'gowdys', 'gp', 'gpg', 'gr', 'grab', 'grabbin', 'grace', 'graceful', 'gracias', 'grade', 'grader', 'gradually', 'graduate', 'graeme', 'graemeleggett', 'graf', 'graffiti', 'grammar', 'grammatical', 'grammatically', 'grammy', 'gran', 'grand', 'grandaughter', 'granddaughter', 'grandeur', 'grandfather', 'grandmother', 'grandparent', 'granger', 'granma', 'grant', 'graph', 'grapheme', 'graphic', 'grapple', 'grasp', 'grass', 'grassroots', 'grateful', 'gratefully', 'grave', 'gravedancing', 'gravestone', 'gravette', 'gravitation', 'gravitational', 'gravitationnelle', 'gravity', 'gray', 'great', 'greatly', 'greatwrongs', 'greco', 'greece', 'greedy', 'greek', 'greeks', 'green', 'greenhouse', 'greer', 'greet', 'greeting', 'greg', 'gregorian', 'grenade', 'grenades', 'grguy', 'grid', 'grief', 'griffin', 'griffo', 'grilfriends', 'grimm', 'grind', 'grindal', 'grip', 'gripper', 'groening', 'groove', 'gross', 'grossing', 'ground', 'groundwork', 'group', 'groupon', 'groupyes', 'grove', 'grow', 'grudge', 'grumps', 'grumpy', 'grundgesetz', 'gryffindor', 'gsd', 'gt', 'gtbacchus', 'gtr', 'guantanamo', 'guarantee', 'guard', 'guardian', 'guarner', 'guatemalan', 'guayaquil', 'guess', 'guest', 'guettarda', 'guidance', 'guide', 'guideline', 'guidlines', 'guild', 'guiliano', 'guillen', 'guilt', 'guilty', 'guinnog', 'guise', 'guitar', 'guitarist', 'gujarat', 'gulf', 'gummo', 'gumun', 'gun', 'gunk', 'gunner', 'gunny', 'gunpowder', 'gurchzilla', 'gurkhaboy', 'guru', 'gurubrahma', 'gus', 'gut', 'gutenberg', 'guy', 'guyz', 'gwen', 'gwenno', 'gwern', 'gwernol', 'gya', 'gyfun', 'gymnastics', 'gynaecology', 'gynecologyyes', 'ha', 'haat', 'habibe', 'habitability', 'habitual', 'habla', 'hace', 'hack', 'hackable', 'hackle', 'hacnkey', 'haddad', 'hadith', 'hadiths', 'hadnt', 'haere', 'hag', 'hagada', 'hague', 'haha', 'hahaha', 'hahc', 'hahn', 'haidar', 'haider', 'haik', 'haiku', 'hail', 'haines', 'hair', 'haired', 'hairy', 'hajji', 'halen', 'half', 'halfway', 'hall', 'halloweentown', 'hallucinogenic', 'halo', 'halt', 'halula', 'ham', 'hamafi', 'hamas', 'hamilton', 'hamish', 'hammer', 'hammersoft', 'hampshire', 'hamza', 'han', 'hand', 'handbook', 'handful', 'handfull', 'handily', 'handle', 'handling', 'handy', 'hang', 'hanging', 'hangon', 'hanibalyou', 'hank', 'hannelius', 'hannity', 'hanoverian', 'hanukkah', 'hapa', 'happen', 'happened', 'happening', 'happeningshe', 'happens', 'happenstance', 'happily', 'happiness', 'happy', 'happyme', 'harald', 'haramein', 'harami', 'harass', 'harasses', 'harassment', 'harbison', 'harcourt', 'hard', 'hardcoded', 'harder', 'hardly', 'hardship', 'hardware', 'haredi', 'hari', 'harlie', 'harm', 'harmanli', 'harmful', 'harmless', 'harmonica', 'harmonious', 'harmonize', 'harmony', 'harp', 'harper', 'harramein', 'harrasing', 'harrasment', 'harrasmnt', 'harrass', 'harrassed', 'harrassing', 'harrassment', 'harris', 'harrison', 'harry', 'harsh', 'hartman', 'harvard', 'hasan', 'hassan', 'hassim', 'hasta', 'hastily', 'hasty', 'hat', 'hatchet', 'hate', 'hateful', 'hater', 'hatice', 'hatred', 'haul', 'haunt', 'hav', 'have', 'havent', 'haver', 'havet', 'havoc', 'hawaii', 'hawk', 'hawker', 'hay', 'hayden', 'haydn', 'hayek', 'haymarket', 'haynes', 'hazard', 'haze', 'hazelton', 'hd', 'hdnet', 'he', 'head', 'header', 'heading', 'headlight', 'headline', 'headquarters', 'heallo', 'health', 'healthy', 'hear', 'heard', 'hearer', 'hearing', 'hearst', 'heart', 'heartbeat', 'hearted', 'heartland', 'heat', 'heath', 'heating', 'heaven', 'heavens', 'heavily', 'heavy', 'hebrew', 'heck', 'hedge', 'heeee', 'heel', 'heh', 'hehe', 'heidelberg', 'height', 'heine', 'heinous', 'heinrich', 'heir', 'held', 'helder', 'helferich', 'helicopter', 'hell', 'hellenistic', 'hellenization', 'hellmuth', 'hello', 'hellooo', 'helm', 'help', 'helpful', 'helpless', 'helplessness', 'helpme', 'helsinki', 'hem', 'hemispheric', 'hen', 'hence', 'henderson', 'hendrix', 'henk', 'henke', 'henri', 'henribourg', 'henrik', 'her', 'herald', 'herb', 'herd', 'here', 'hereby', 'herein', 'heretofore', 'heritage', 'hermit', 'hero', 'herodotus', 'heroin', 'herself', 'hes', 'hesistate', 'hesitant', 'hesitate', 'hesperian', 'heterosexual', 'heterosis', 'hey', 'hezbollah', 'hh', 'hhits', 'hi', 'hiatus', 'hibernian', 'hick', 'hidari', 'hidco', 'hidden', 'hide', 'hideous', 'hiding', 'hidiyaat', 'higgins', 'high', 'highbrow', 'highfield', 'highking', 'highlight', 'highlighted', 'highly', 'hightail', 'highway', 'higlighted', 'hijack', 'hijacker', 'hijikimeosae', 'hilarious', 'hill', 'hillarious', 'hilly', 'him', 'himalayan', 'himhe', 'himself', 'hind', 'hindi', 'hindu', 'hinduism', 'hinduphobia', 'hint', 'hinted', 'hinton', 'hip', 'hipocrite', 'hippie', 'hippo', 'hire', 'hiroshima', 'hiroski', 'his', 'hispanic', 'hispsnic', 'hist', 'histography', 'historia', 'historian', 'historias', 'historic', 'historical', 'historically', 'historicity', 'historiography', 'history', 'histri', 'hit', 'hitch', 'hitchens', 'hitchin', 'hitler', 'hitlter', 'hitman', 'hittites', 'hiughlighted', 'hiv', 'hiwe', 'hizbollah', 'hizo', 'hj', 'hjmitchell', 'hl', 'hm', 'hmm', 'hmmm', 'hmmmm', 'hms', 'ho', 'hoax', 'hobby', 'hoca', 'hochetsch', 'hockey', 'hocrriffic', 'hod', 'hoda', 'hoe', 'hoefler', 'hoelzel', 'hoffmann', 'hog', 'hohenloh', 'hohner', 'hokku', 'hola', 'hold', 'holdddiiing', 'holder', 'holderca', 'holdiiiing', 'holding', 'hole', 'holiday', 'holla', 'hollow', 'holloween', 'hollywood', 'holmes', 'holocaust', 'holocaustic', 'holodomor', 'holy', 'homage', 'home', 'homebrew', 'homegold', 'homeland', 'homepage', 'homer', 'hometabgoes', 'hometabhighlights', 'homework', 'homie', 'hominem', 'hominen', 'homo', 'homologous', 'homology', 'homophobia', 'homosexials', 'homosexual', 'homosexuality', 'homosexualtity', 'homs', 'homunculus', 'hon', 'honest', 'honestly', 'honesty', 'honey', 'honeymoon', 'honeymooner', 'hong', 'honky', 'honneur', 'honor', 'honorable', 'honorary', 'hood', 'hook', 'hoole', 'hoooooo', 'hop', 'hope', 'hopefully', 'hopelessly', 'hopps', 'horace', 'horacemannorg', 'horde', 'hore', 'horizon', 'horizontal', 'hormone', 'horrible', 'horribly', 'horrific', 'horror', 'horse', 'horseman', 'hort', 'hose', 'hospitable', 'hospital', 'host', 'hostage', 'hostile', 'hostility', 'hot', 'hotel', 'hotmailcouk', 'hotspot', 'hottest', 'hound', 'hour', 'house', 'household', 'housewife', 'housing', 'hovah', 'how', 'howard', 'howdy', 'howell', 'however', 'howl', 'howland', 'hpa', 'hppenswhwn', 'hr', 'hre', 'hrm', 'hsca', 'hsien', 'html', 'http', 'huastecapicjpg', 'hub', 'hubcap', 'hubris', 'huckelberry', 'huckfield', 'hudson', 'hug', 'huge', 'hugger', 'huggle', 'hughart', 'huh', 'hum', 'huma', 'human', 'humanistic', 'humanities', 'humanity', 'humanly', 'humans', 'humble', 'humbly', 'humbug', 'hume', 'hummerjpg', 'hummm', 'hummus', 'humor', 'humorist', 'humorous', 'humour', 'humus', 'hunch', 'hundred', 'hung', 'hungarian', 'hungary', 'hungry', 'hunnic', 'hunt', 'hunter', 'hunting', 'huon', 'huraira', 'hurricane', 'hurry', 'hurt', 'husband', 'husnock', 'hussein', 'husseni', 'hutcheson', 'huts', 'hve', 'hw', 'hwa', 'hybrid', 'hybridization', 'hydride', 'hydrino', 'hydrinos', 'hydrogen', 'hygiene', 'hype', 'hyperbole', 'hypercritical', 'hyphen', 'hypocrisy', 'hypocrite', 'hypocritical', 'hypothesis', 'hypothetical', 'hysterical', 'ian', 'iar', 'ibanez', 'ibbur', 'ibero', 'ibidem', 'ibm', 'ibn', 'ibrahim', 'ibrahimovic', 'ibrihim', 'icarly', 'ice', 'iceberg', 'iceland', 'icelandic', 'ichon', 'icon', 'icq', 'icsunonove', 'id', 'ide', 'idea', 'ideal', 'idealistically', 'ideally', 'ideas', 'ideate', 'idenitifying', 'identical', 'identically', 'identifiable', 'identification', 'identified', 'identifier', 'identifies', 'identify', 'identities', 'identity', 'ideolgy', 'ideological', 'ideology', 'ideologyfascists', 'idht', 'idiocy', 'idiomatic', 'idiomput', 'idiopathic', 'idiot', 'idiotic', 'idly', 'idont', 'idontlikeit', 'idosyncratic', 'idtf', 'ie', 'iec', 'iedited', 'if', 'ignoramus', 'ignorance', 'ignorant', 'ignorantly', 'ignorar', 'ignore', 'ignored', 'ignores', 'ignoring', 'igor', 'iguana', 'ihantala', 'ihave', 'ii', 'iirc', 'ijwmarq', 'ikk', 'ikkyo', 'ikt', 'ilandi', 'ilchee', 'ill', 'illegal', 'illegally', 'illegible', 'illegitimately', 'illiberal', 'illinois', 'illiterate', 'illness', 'illogical', 'illuminati', 'illustrate', 'illustration', 'illyrian', 'illyriansorg', 'ilyag', 'im', 'ima', 'image', 'imagejpg', 'imagery', 'imagesc', 'imagination', 'imagine', 'imbalance', 'imbecile', 'imdb', 'imho', 'imitate', 'imma', 'immaterial', 'immature', 'immaturely', 'immaturity', 'immed', 'immediate', 'immediately', 'immense', 'immensely', 'immensily', 'immersed', 'immiagtion', 'immigrant', 'immiscible', 'immolation', 'immortal', 'imo', 'impact', 'imparja', 'impart', 'impartial', 'impedance', 'impediment', 'imperative', 'imperial', 'imperialism', 'impersonal', 'impetus', 'implant', 'implausible', 'implement', 'implemented', 'implicate', 'implication', 'implicit', 'implied', 'implies', 'imply', 'implying', 'impolite', 'imporatant', 'importance', 'importancehigh', 'important', 'importantly', 'impose', 'impossible', 'impostor', 'impress', 'impressed', 'impression', 'impressionable', 'impressive', 'improper', 'improve', 'improved', 'improvement', 'improving', 'improvisation', 'improvise', 'impulse', 'imstillhere', 'in', 'ina', 'inability', 'inaccuracy', 'inaccurate', 'inaction', 'inactivation', 'inadequate', 'inadvertendly', 'inadvertently', 'inalienable', 'inaoe', 'inappropriate', 'inapproriate', 'inarticulate', 'inasmuch', 'inbound', 'inbreeding', 'inc', 'incarnation', 'incase', 'incest', 'inch', 'incident', 'incidental', 'incidentally', 'incidicating', 'incite', 'incitement', 'incivil', 'incivility', 'inclination', 'inclined', 'include', 'included', 'inclusion', 'inclusive', 'incluso', 'incoherent', 'incomparable', 'incompatible', 'incompetent', 'incomplete', 'inconclusive', 'inconsequential', 'inconsiderate', 'inconsistency', 'inconsistent', 'inconsistently', 'incontrovertibly', 'inconvenience', 'incorporate', 'incorrect', 'incorrectly', 'increase', 'increased', 'increasingly', 'incredibility', 'incredibly', 'incriminate', 'incriminates', 'incumbent', 'incursion', 'indebtedness', 'indeed', 'indef', 'indefinite', 'indefinitely', 'indentified', 'indepdnent', 'independence', 'independent', 'independently', 'inderstand', 'indescent', 'index', 'india', 'indian', 'indiana', 'indians', 'indicate', 'indicates', 'indicating', 'indication', 'indicator', 'indicopleustes', 'indictment', 'indie', 'indifference', 'indigenous', 'indirect', 'indirectly', 'indisputable', 'indistinguishable', 'indium', 'indivduality', 'individual', 'individualjpg', 'individually', 'indivisible', 'indo', 'indonesia', 'indonesian', 'induce', 'induced', 'inducted', 'induction', 'indue', 'indulge', 'industrial', 'industrialism', 'industrialize', 'industry', 'indy', 'ineffable', 'ineffectual', 'inefficient', 'inequality', 'inevitable', 'inevitably', 'inexperienced', 'inexplicable', 'infact', 'infallible', 'infamous', 'infancy', 'infante', 'infantry', 'infection', 'inference', 'infernoxv', 'inferred', 'infiltrator', 'infinite', 'infinitely', 'infinitum', 'infinity', 'infitive', 'inflame', 'inflammatory', 'inflated', 'inflict', 'influence', 'info', 'infobox', 'infoboxes', 'infomation', 'infonerd', 'inforamtion', 'inform', 'informal', 'information', 'informational', 'informationsince', 'informative', 'informed', 'informitive', 'infos', 'infospace', 'infotainment', 'infrastructure', 'infringe', 'infringement', 'ing', 'ingest', 'ingesting', 'ingrid', 'inhabitant', 'inhance', 'inherent', 'inherently', 'inherrently', 'inhuman', 'iniating', 'initial', 'initially', 'initiate', 'initiative', 'initiator', 'inject', 'injective', 'injunction', 'injure', 'injury', 'injustice', 'ink', 'inkster', 'inline', 'innards', 'innate', 'inner', 'innermost', 'innocent', 'innocuousness', 'innovation', 'innovative', 'inoculation', 'inorgchem', 'inportant', 'input', 'inquire', 'inquisition', 'insane', 'insanity', 'insect', 'insecurity', 'insert', 'inserted', 'inserting', 'insertion', 'inshallah', 'inside', 'insider', 'insight', 'insignificant', 'insincere', 'insincerely', 'insinuation', 'insist', 'insistence', 'insistent', 'insistiation', 'inspect', 'inspiration', 'inspirational', 'inspire', 'inspired', 'inspite', 'insta', 'instabcopy', 'instability', 'instabpaste', 'instal', 'installation', 'installed', 'instance', 'instantly', 'instated', 'instead', 'instictively', 'instigate', 'instinct', 'institut', 'institute', 'institution', 'institutional', 'instituto', 'instruct', 'instructed', 'instruction', 'instructive', 'instrument', 'instrumental', 'insubstantial', 'insufficient', 'insult', 'insulting', 'insultingme', 'insurgence', 'insurgent', 'int', 'intact', 'intangible', 'inte', 'integer', 'integral', 'integrated', 'integration', 'integrity', 'intelectuals', 'intelius', 'intellect', 'intellectual', 'intelligence', 'intelligent', 'intelligentsia', 'intelligible', 'intend', 'intended', 'intending', 'intensively', 'intent', 'intention', 'intentional', 'intentionally', 'intentionaly', 'intentioned', 'intentionly', 'inter', 'interact', 'interaction', 'interactive', 'interbreed', 'interchangably', 'interchangeable', 'interest', 'interestand', 'interested', 'interesting', 'interface', 'interfere', 'interior', 'interiot', 'interlinked', 'internal', 'internally', 'international', 'internationally', 'internecine', 'internet', 'interpolation', 'interpret', 'interpretation', 'interpreted', 'interrupt', 'interrupted', 'interrupteduser', 'interruption', 'intersection', 'intersects', 'intersex', 'intersperced', 'intersperse', 'interstate', 'interval', 'intervene', 'intervening', 'intervention', 'interview', 'interviewd', 'interviewer', 'intimidate', 'intl', 'intransigent', 'intrigue', 'intrinsically', 'intro', 'introduce', 'introduced', 'introduction', 'introductory', 'intruder', 'intrusion', 'intrusive', 'intterested', 'intuitive', 'inuit', 'inupiat', 'invade', 'invader', 'invalid', 'invalidate', 'invaluable', 'invariably', 'invasion', 'invent', 'invented', 'invention', 'inventor', 'invents', 'inverse', 'invert', 'invest', 'investigate', 'investigation', 'investment', 'investor', 'invisibility', 'invisible', 'invitation', 'invite', 'inviting', 'invocation', 'invoke', 'involve', 'involved', 'involvement', 'involves', 'invoved', 'io', 'ip', 'ipa', 'ipconfig', 'ipd', 'ipds', 'iphone', 'iphones', 'ipods', 'ips', 'iq', 'ira', 'iran', 'iranian', 'iraninans', 'iraq', 'iraqian', 'irc', 'ireland', 'irenaeus', 'iridologists', 'iridology', 'irish', 'irishman', 'iron', 'ironholds', 'ironic', 'ironically', 'ironruby', 'irony', 'irpen', 'irrational', 'irreducibility', 'irreducible', 'irrefutable', 'irregardless', 'irregular', 'irrelelevant', 'irrelevance', 'irrelevant', 'irreplacable', 'irresistible', 'irresponsible', 'irresponsibly', 'irritate', 'irrreduciblity', 'irsay', 'irvine', 'irving', 'is', 'isaac', 'isabella', 'isadora', 'isalmophobia', 'isar', 'isatlantiumstampgif', 'isbn', 'iscussion', 'ish', 'isi', 'iskcon', 'islam', 'islamic', 'islamism', 'islamist', 'islamophobia', 'islamorg', 'island', 'islandbaygardener', 'islander', 'isley', 'ismael', 'isnotamemorial', 'isnt', 'isolate', 'isolation', 'isomorphism', 'isp', 'israel', 'israeli', 'israelis', 'israelism', 'issa', 'issuance', 'issue', 'issued', 'issuing', 'ist', 'it', 'italian', 'italic', 'italicize', 'italtian', 'italy', 'itand', 'itaqallah', 'itbach', 'itbyebye', 'itch', 'item', 'iterate', 'ites', 'itn', 'ito', 'itsahappyday', 'itthanks', 'itunes', 'iv', 'ive', 'ja', 'jaanmatti', 'jaccuse', 'jack', 'jackass', 'jacket', 'jackie', 'jackson', 'jackthomas', 'jacob', 'jacobs', 'jacque', 'jacques', 'jadeycakess', 'jafaican', 'jagdish', 'jahangir', 'jai', 'jail', 'jake', 'jakeinjoisey', 'jalil', 'jalisco', 'jam', 'jamaica', 'james', 'jamesbozen', 'jamesbwatson', 'jamesteterenko', 'jamies', 'jamous', 'jan', 'janson', 'januar', 'january', 'jaobar', 'japan', 'japanese', 'jar', 'jargon', 'jaripeo', 'jason', 'jasper', 'jat', 'java', 'javanese', 'javert', 'jaw', 'jay', 'jayjg', 'jayron', 'jaz', 'jazmin', 'jazz', 'jbvg', 'jc', 'jd', 'jdwolff', 'jealous', 'jean', 'jeangohile', 'jeannine', 'jeansablonalbumjpg', 'jechoman', 'jecob', 'jeeee', 'jeering', 'jeff', 'jefferson', 'jeffrey', 'jeffy', 'jeh', 'jehochman', 'jenga', 'jenner', 'jennifer', 'jeopardized', 'jer', 'jerdobias', 'jerk', 'jerkweasel', 'jerry', 'jersey', 'jerusalem', 'jeske', 'jesse', 'jesuit', 'jesuite', 'jesus', 'jet', 'jew', 'jewelry', 'jewish', 'jewlry', 'jews', 'jfd', 'jfdwolff', 'jfk', 'ji', 'jianli', 'jibbering', 'jibe', 'jill', 'jillsg', 'jim', 'jimbo', 'jimi', 'jimmy', 'jimsch', 'jindal', 'jingiby', 'jitterbug', 'jiunkrn', 'jive', 'jj', 'jk', 'jl', 'joanie', 'joannina', 'job', 'jockey', 'jodan', 'jody', 'jodyb', 'joe', 'joey', 'joeychgo', 'jogged', 'johannes', 'johannesburg', 'johansson', 'john', 'johnhistory', 'johnny', 'johnson', 'johnston', 'johnuniq', 'join', 'joined', 'joing', 'joining', 'joint', 'jointly', 'joke', 'jokey', 'jolly', 'jolof', 'jon', 'jonathan', 'jonathunder', 'jones', 'jonesey', 'jonowhy', 'joo', 'joopercooper', 'jordan', 'josef', 'joseph', 'josh', 'joshua', 'josi', 'josiah', 'jouranistic', 'journal', 'journalism', 'journalist', 'journalistic', 'journey', 'joy', 'jpeg', 'jpf', 'jpg', 'jpga', 'jpgordon', 'jr', 'jsb', 'jsharpminor', 'jsuku', 'jsut', 'jtdunlop', 'jtervin', 'jtkiefer', 'jtwc', 'ju', 'juana', 'juda', 'judaea', 'judaic', 'judaism', 'judaismphobia', 'judge', 'judgement', 'judgesurreal', 'judgment', 'judgmental', 'judicial', 'judicious', 'judy', 'juergens', 'juggle', 'juin', 'jul', 'juli', 'julian', 'julie', 'julieth', 'july', 'juming', 'jump', 'jumped', 'jumpin', 'jumping', 'jumpy', 'jun', 'junction', 'juncture', 'june', 'juni', 'juninho', 'junior', 'junk', 'jupiter', 'jurassic', 'jure', 'juris', 'jurisdiction', 'jurist', 'jury', 'jus', 'justice', 'justifiably', 'justification', 'justified', 'justifies', 'justify', 'justin', 'juxtaposed', 'jv', 'jwhitsjpg', 'jwintx', 'jytdog', 'jzg', 'kabak', 'kabbala', 'kabilesi', 'kafziel', 'kaiden', 'kailash', 'kainaw', 'kaitennage', 'kaitenosae', 'kalamb', 'kallikratis', 'kalmyk', 'kalombo', 'kamin', 'kamloops', 'kamos', 'kamrupi', 'kanden', 'kane', 'kangaroo', 'kansa', 'kant', 'kanupur', 'kara', 'karachi', 'karam', 'karate', 'karatedo', 'karel', 'karelia', 'karl', 'karma', 'karmafist', 'karnaphuli', 'kashmir', 'kasparov', 'katate', 'kate', 'kateshortforbob', 'kathryn', 'katrina', 'katyn', 'katzenberg', 'kauffner', 'kaufman', 'kaushika', 'kavner', 'kaya', 'kayastha', 'kaydu', 'kaysing', 'kb', 'kbits', 'kde', 'kealey', 'keats', 'ked', 'keen', 'keep', 'keeper', 'keiko', 'keith', 'kelleher', 'kellerman', 'kellogg', 'kelly', 'kelowna', 'kelson', 'kendo', 'kenite', 'kenites', 'kennedy', 'kennel', 'kennelly', 'kenrick', 'kent', 'kenyon', 'kept', 'kerbala', 'kerem', 'keri', 'kernal', 'kerosene', 'kerry', 'kershaw', 'kevbo', 'kevin', 'key', 'keyboard', 'keystabdescription', 'keywords', 'kf', 'kfan', 'khalsa', 'khameini', 'khamenei', 'khan', 'khanassassin', 'khanna', 'kharsag', 'khastriya', 'khomeini', 'khoury', 'kibs', 'kick', 'kickstart', 'kid', 'kidding', 'kidnap', 'kiel', 'kiev', 'kievma', 'kildonan', 'kilgannon', 'kill', 'killer', 'killerchihuahua', 'killing', 'kimbo', 'kimchi', 'kincaid', 'kind', 'kinda', 'kindle', 'kindlizing', 'kindly', 'kindness', 'kinds', 'king', 'kingdom', 'kingdomedited', 'kingping', 'kingshowman', 'kipling', 'kirk', 'kirki', 'kirsten', 'kiss', 'kissing', 'kit', 'kitchen', 'kite', 'kitten', 'kitty', 'kitushi', 'kka', 'kkhamenei', 'kkpk', 'kl', 'klaus', 'kleeburg', 'kmca', 'kmccoy', 'kmt', 'knee', 'kneejerk', 'knesset', 'knew', 'knife', 'knight', 'knin', 'knob', 'knock', 'knockout', 'knol', 'knott', 'know', 'knowable', 'knowing', 'knowledgable', 'knowledge', 'knowledgelake', 'knowlege', 'knowlingly', 'known', 'knw', 'knwon', 'ko', 'koa', 'kobe', 'koeckritz', 'koenig', 'kohl', 'kolaghat', 'kolkata', 'kolla', 'komeho', 'kon', 'kong', 'kook', 'koolie', 'korea', 'korean', 'korn', 'kosher', 'koshvorlon', 'kosovo', 'kozo', 'kp', 'krakatoakatie', 'kralizec', 'kramgasse', 'krishna', 'kristen', 'krivo', 'ks', 'kt', 'kts', 'kuban', 'kubishime', 'kudos', 'kudzu', 'kuehne', 'kuiper', 'kulkarni', 'kultur', 'kumho', 'kung', 'kungming', 'kura', 'kurd', 'kurdish', 'kurdistan', 'kursk', 'kurt', 'kushwaha', 'kww', 'kyiv', 'kylietastic', 'kyoto', 'kyrie', 'la', 'laahad', 'lab', 'label', 'labor', 'laboratory', 'laborious', 'labour', 'labs', 'lack', 'lacking', 'lactantius', 'lactase', 'lacuna', 'lacy', 'laden', 'ladino', 'lady', 'ladymarry', 'laerophile', 'lag', 'lager', 'lahore', 'laidas', 'lake', 'lakers', 'lakh', 'lalita', 'lambrechts', 'lame', 'lamely', 'lameness', 'lamenta', 'lamp', 'lampoon', 'lancashire', 'lancaster', 'lance', 'land', 'landfall', 'landfalling', 'landmark', 'language', 'languages', 'laop', 'lapse', 'lapthorne', 'laptop', 'lares', 'large', 'largely', 'larkin', 'larry', 'larson', 'last', 'lasting', 'lastly', 'late', 'lately', 'later', 'latin', 'latinate', 'lating', 'latino', 'latinus', 'latter', 'latvian', 'laudable', 'laugh', 'laughable', 'laughingstock', 'laught', 'launch', 'launchessvg', 'launder', 'launders', 'laundry', 'laureate', 'laureates', 'laurent', 'laver', 'lavigne', 'law', 'lawn', 'lawrence', 'lawsuit', 'lawyer', 'lax', 'lay', 'layes', 'layman', 'layout', 'lazar', 'lazy', 'lbs', 'ld', 'le', 'lead', 'leader', 'leaderboard', 'leadership', 'leading', 'leaf', 'league', 'leak', 'leamington', 'lean', 'leaning', 'leanne', 'leap', 'learn', 'learnedhe', 'learns', 'learnt', 'least', 'leave', 'leaven', 'lebanese', 'lebanon', 'lebanse', 'lebprofiler', 'lebron', 'lecompte', 'lecroy', 'lecture', 'lecturer', 'led', 'lede', 'lee', 'left', 'leftcoastman', 'leftennant', 'leftist', 'leftwing', 'leg', 'legacy', 'legal', 'legalese', 'legality', 'legally', 'legend', 'legendary', 'legends', 'leghorn', 'legislation', 'legislative', 'legislator', 'legislature', 'legit', 'legitimacy', 'legitimate', 'legitimation', 'legoktm', 'legs', 'legumen', 'lehi', 'lehman', 'leiberman', 'leila', 'leisure', 'leithp', 'lemmeybot', 'lend', 'length', 'lengthen', 'lengths', 'lengthy', 'leniency', 'lenin', 'leninist', 'lennart', 'lennon', 'lens', 'leo', 'leominster', 'leonardo', 'leprechaun', 'les', 'lesbian', 'lesbians', 'leslie', 'less', 'lesson', 'lessons', 'lessor', 'let', 'letter', 'lettering', 'letting', 'levant', 'level', 'levenboy', 'levity', 'levon', 'lewis', 'lfp', 'lgbt', 'lhd', 'li', 'liable', 'liam', 'liancourt', 'liar', 'lib', 'libel', 'libellous', 'liberal', 'liberate', 'libertarian', 'libertarianism', 'libertario', 'liberty', 'librarian', 'library', 'libre', 'libris', 'licence', 'license', 'licensed', 'licensing', 'lick', 'liddy', 'lie', 'lied', 'liege', 'lieu', 'life', 'lifer', 'lifestyle', 'lifetime', 'lift', 'light', 'lightgrey', 'lightning', 'liguistic', 'liitle', 'lika', 'like', 'liked', 'likelihood', 'likely', 'likeness', 'likewise', 'likey', 'likeyou', 'lil', 'liliental', 'lily', 'lima', 'limbaugh', 'limestone', 'limit', 'limitation', 'limite', 'limited', 'limp', 'lin', 'lincoln', 'lindeque', 'line', 'lineage', 'linear', 'linger', 'lingo', 'linguist', 'linguistic', 'linguistics', 'link', 'linkage', 'linked', 'links', 'linkspam', 'linksto', 'linkt', 'lint', 'linux', 'liom', 'lion', 'lionel', 'lipinski', 'lipka', 'lipman', 'lipogram', 'lipson', 'liquid', 'lisa', 'lisbon', 'list', 'listas', 'listasjuan', 'listaslast', 'listasone', 'listed', 'listen', 'listened', 'listing', 'lite', 'literal', 'literally', 'literary', 'literate', 'literature', 'lithuania', 'lithuanian', 'lithuanization', 'litigation', 'litter', 'little', 'littleknowncyclingfacts', 'litvack', 'live', 'lived', 'lively', 'liven', 'liverpool', 'livia', 'living', 'liz', 'ljubisa', 'lk', 'lloyd', 'lmao', 'lo', 'loa', 'load', 'loaded', 'loadee', 'loath', 'loathsome', 'lobby', 'loboborracho', 'local', 'locality', 'localization', 'localized', 'locate', 'location', 'loch', 'lock', 'locked', 'loco', 'locomotive', 'lodge', 'log', 'logan', 'logic', 'logical', 'logically', 'logician', 'login', 'logo', 'logos', 'loitongbam', 'lokiit', 'lol', 'lolicon', 'lollllllllllllllllllllllllllllllllllllllllllllllllllllllllllllllllllllllllllllllllllllllllllllllllllllllllllllllllllllllllllllllllllllllllllllllllllllllllllllllllllllllllllllllllllllllllllllllllllllllllllllllllllllllllllllllllllllllllllllllllllllllllllllllllllllllllllllooooooooooooooooooooooooooooooooooooooooooooooooooooooooooooooooooooooooooooooooooooooooooooooooooooooooooooooooooooooooooooooooooooooooooooooooooooouuuuuuuuuuuuuuuuuuuuuuuuuuuuuuuuuuuuuuuuuuuuuuuuuuuuuuuuuuuuuuuuuuuuuuuuuuuuuuuuuuuuuuuuuuuuuuuuuuuuuuuuuuuuuuuuuuuuuuuuuuuuuuuuuuuuuuuuuuuudddddddddddddddddddddddddddddddddddddddddddddddddddddddddddddddddddddddddddddddddddddddddddddddddddddddddddddddddddddddddddddddddddddddddddddddddddddddddddddddd', 'lols', 'london', 'londonderry', 'lone', 'lonely', 'lonelybeacon', 'long', 'longer', 'longitudinal', 'longos', 'longtime', 'look', 'looked', 'loong', 'looong', 'loophole', 'loose', 'loosers', 'lord', 'lorraine', 'los', 'lose', 'loser', 'loss', 'losslessly', 'lost', 'lostnav', 'lot', 'lots', 'lou', 'loud', 'louis', 'lounge', 'lousy', 'louviere', 'lovbebirds', 'love', 'lovelace', 'lovely', 'lover', 'low', 'lower', 'lowercase', 'lowlife', 'lowly', 'loy', 'loyal', 'loyalty', 'lp', 'lpga', 'lse', 'lswuser', 'lt', 'ltr', 'lttp', 'lucca', 'lucid', 'lucifugum', 'lucius', 'luck', 'luckily', 'lucky', 'lucretia', 'lucrezia', 'ludicrous', 'ludwigs', 'luftwaffe', 'luisana', 'luizabpr', 'luk', 'luke', 'lul', 'lulz', 'luminary', 'lump', 'luna', 'lunacy', 'lunch', 'lurie', 'lurker', 'luster', 'luther', 'lutheran', 'lvcretie', 'lvds', 'lw', 'lybia', 'lynch', 'lyndon', 'lynn', 'lyon', 'lyric', 'ma', 'maam', 'mac', 'macao', 'macau', 'macclesfield', 'macedonia', 'macedonian', 'machalilla', 'machan', 'machine', 'mackenzie', 'mackintosh', 'macro', 'mad', 'madame', 'madcoverboy', 'madden', 'madeup', 'madinia', 'madison', 'madness', 'madonna', 'mae', 'mafia', 'mafioso', 'magarey', 'magath', 'magazine', 'magazineachmednut', 'mage', 'magic', 'magical', 'magician', 'magnanimity', 'magnet', 'magnetic', 'magnification', 'magnificent', 'magnitude', 'magnum', 'mahabharata', 'mahalo', 'maharaja', 'mahmut', 'mahnkopf', 'mahonerz', 'mahy', 'mahya', 'mai', 'maid', 'maidan', 'maiden', 'maidservant', 'maikeo', 'mail', 'mailbox', 'mailing', 'main', 'maine', 'mainland', 'mainly', 'mainpagebg', 'mainspace', 'mainstream', 'maintain', 'maintenance', 'maj', 'majapahit', 'majeston', 'majesty', 'majo', 'major', 'majority', 'majura', 'make', 'maker', 'makin', 'making', 'mal', 'malayasians', 'malber', 'male', 'malfunction', 'malfunctioning', 'malicious', 'maliciously', 'malign', 'malinae', 'malkovich', 'mall', 'mallet', 'malleus', 'malta', 'maltese', 'mama', 'mame', 'mammy', 'man', 'manage', 'management', 'manager', 'manchester', 'mandate', 'mandatory', 'mangaclassstub', 'mangle', 'manically', 'manifest', 'manifestly', 'manifold', 'manipulate', 'manipulation', 'manipulator', 'mankind', 'mann', 'manner', 'mannered', 'manservant', 'mantle', 'mantra', 'manu', 'manual', 'manually', 'manuel', 'manufacturer', 'manufacturing', 'manutius', 'many', 'mao', 'maori', 'map', 'mapfrepng', 'mar', 'marathon', 'marc', 'marca', 'march', 'marcinko', 'mardin', 'marge', 'margin', 'marginal', 'marginally', 'margined', 'marginpx', 'margolis', 'mari', 'mariana', 'mariani', 'marilyn', 'marine', 'marionette', 'maritime', 'mark', 'markbernstein', 'markedly', 'marker', 'market', 'marketing', 'markham', 'markheal', 'marking', 'marksman', 'markup', 'marlovian', 'marmot', 'married', 'marry', 'marseille', 'marshall', 'marsmanhu', 'mart', 'martial', 'martijn', 'martin', 'martyr', 'marx', 'marxist', 'marxistism', 'mary', 'marya', 'maryland', 'marzipan', 'masculine', 'masculinism', 'masculinity', 'masculism', 'masculists', 'masem', 'mash', 'masher', 'masonic', 'mass', 'massacere', 'massachusetts', 'massacre', 'massage', 'masse', 'massive', 'masson', 'massoud', 'mastcell', 'master', 'masterbate', 'mastermind', 'mastery', 'mastodon', 'matapan', 'match', 'matchday', 'mate', 'material', 'math', 'mathai', 'mathematical', 'mathematically', 'mathematician', 'mathematics', 'mathew', 'matisse', 'matt', 'matter', 'mattheij', 'matthew', 'mattison', 'mature', 'maturidi', 'maturity', 'maududi', 'maunus', 'maurice', 'mauryas', 'mav', 'mawashi', 'maximum', 'maximus', 'maxwell', 'maya', 'maybe', 'mayor', 'maysam', 'mayuko', 'maze', 'mb', 'mbilitatu', 'mcarthur', 'mccain', 'mccowan', 'mce', 'mcewan', 'mcjakeqcool', 'mcmeans', 'mcnaught', 'mcw', 'mdma', 'me', 'mea', 'meadow', 'meagan', 'mean', 'meaning', 'meaningful', 'meaningless', 'means', 'meant', 'meantime', 'meanwhile', 'mearines', 'mearly', 'measure', 'measurement', 'meat', 'meating', 'meatpuppet', 'meatpuppetry', 'meatpuppets', 'mechanic', 'mechanical', 'mechanism', 'med', 'medal', 'medallion', 'meddle', 'medial', 'mediate', 'mediation', 'mediator', 'mediawiki', 'medical', 'medication', 'medicine', 'medien', 'medieval', 'mediocre', 'mediterranean', 'mediterraneanism', 'meditteraneanism', 'medium', 'medley', 'medos', 'meen', 'meera', 'meet', 'meeting', 'meetup', 'meetups', 'mega', 'megasite', 'megaupload', 'meguiar', 'meh', 'mehmed', 'mehmet', 'mel', 'melanargia', 'mele', 'melody', 'melon', 'melt', 'member', 'meme', 'memeory', 'memo', 'memoir', 'memorable', 'memorial', 'memorize', 'memory', 'men', 'menace', 'mendelssohn', 'mendy', 'menendez', 'mennonite', 'mensajes', 'menschheit', 'menschlichkeit', 'mental', 'mentality', 'mentally', 'mention', 'mentioned', 'mentioning', 'mentor', 'menu', 'meow', 'mephisto', 'merchandise', 'merciful', 'mercy', 'mere', 'merely', 'meretricious', 'merge', 'merger', 'merges', 'merit', 'merkle', 'merriam', 'merry', 'meru', 'mesh', 'mess', 'message', 'messer', 'messiah', 'messy', 'mestizo', 'meta', 'metabolise', 'metabolised', 'metabolized', 'metal', 'metalcore', 'metallica', 'metaphor', 'metcalf', 'meter', 'meterologist', 'methamphetamine', 'methanks', 'method', 'methoxycoronaridine', 'metre', 'metres', 'metric', 'metro', 'metrology', 'mets', 'mexican', 'mexico', 'meyer', 'mfa', 'mfd', 'mgosyrntrillog', 'mhp', 'mi', 'mia', 'miami', 'mib', 'mic', 'michael', 'michels', 'michigan', 'mickie', 'micklewhite', 'micro', 'microgram', 'microsoft', 'microwave', 'mid', 'midari', 'middle', 'midst', 'midwayer', 'midwest', 'midwestern', 'might', 'mighty', 'migrant', 'migrate', 'miiikkalai', 'mikael', 'mikan', 'mikara', 'mike', 'mil', 'milagro', 'mild', 'mile', 'milestone', 'milieux', 'militancy', 'militarily', 'militarism', 'military', 'milk', 'mill', 'millard', 'millenia', 'millenium', 'miller', 'millimeter', 'million', 'milosevic', 'mimi', 'minaj', 'mind', 'minded', 'mindedness', 'mindspillage', 'mindtab', 'mine', 'minecraft', 'miner', 'mineral', 'minibio', 'minimal', 'minimum', 'minimuminterest', 'minister', 'ministerial', 'ministry', 'mink', 'minneapolis', 'minor', 'minority', 'minsk', 'mint', 'mintutes', 'minurso', 'minus', 'minute', 'miquonranger', 'miracle', 'miracleshe', 'miranda', 'mire', 'mirror', 'mirv', 'mirza', 'misard', 'misc', 'miscellaneous', 'mischief', 'miscibility', 'miscible', 'misconception', 'misconduct', 'misconfigured', 'misconstrue', 'miserably', 'misery', 'misguide', 'misguided', 'misinform', 'misinformation', 'misinformed', 'misinterpretation', 'mislabelling', 'mislead', 'misleading', 'misogynist', 'misogynistic', 'misogyny', 'misplace', 'misprint', 'misquote', 'misquoted', 'misr', 'misread', 'misremember', 'misreport', 'misrepresent', 'miss', 'missed', 'mission', 'mississippi', 'missleading', 'misspell', 'mistake', 'mistaken', 'mistakend', 'mistakenly', 'mister', 'mistranslate', 'mistranslation', 'mistress', 'misundersdanding', 'misunderstand', 'misunderstood', 'misurata', 'misuse', 'misused', 'mitb', 'mitchel', 'mitchell', 'mitigate', 'mitrov', 'mitsudomoe', 'miuch', 'mix', 'mixed', 'mixer', 'mixtape', 'mixture', 'miyokan', 'ml', 'mla', 'mlbcom', 'mm', 'mmany', 'mmm', 'mmmkk', 'mmounties', 'mneeds', 'mo', 'mob', 'mobile', 'mock', 'mod', 'mode', 'model', 'modeling', 'moderate', 'moderator', 'modern', 'modernisation', 'modernist', 'modernity', 'modest', 'modeste', 'modesto', 'modification', 'modified', 'modifiy', 'modify', 'module', 'moe', 'mofo', 'mogadishu', 'mohammad', 'mohammed', 'mohkam', 'moisture', 'mojtaba', 'mold', 'moldova', 'moldovan', 'mole', 'molecular', 'molest', 'moline', 'molinism', 'mollari', 'mollc', 'molyneux', 'mom', 'moment', 'momentum', 'momma', 'mommy', 'mon', 'monarch', 'monarchy', 'monavie', 'monday', 'money', 'moneybomb', 'monger', 'mongo', 'mongol', 'mongolia', 'mongoloid', 'mongrel', 'moniker', 'monitor', 'monitoring', 'monk', 'monkey', 'monograph', 'monolithic', 'monorail', 'monroe', 'monsanto', 'monster', 'montage', 'montecarlo', 'montenegro', 'month', 'monumental', 'moo', 'moon', 'moondyne', 'moonlight', 'moore', 'moorpark', 'moot', 'mop', 'mopedmoped', 'morad', 'moral', 'moran', 'mordechi', 'moreed', 'moreover', 'moreschi', 'mormonism', 'morning', 'mornington', 'moroccan', 'morocco', 'moron', 'morote', 'moroz', 'morphin', 'morricone', 'morris', 'morrons', 'morshed', 'mortality', 'mortally', 'mos', 'moscow', 'mosfilm', 'mosnum', 'mosque', 'moss', 'mostafa', 'mostly', 'mote', 'moth', 'mother', 'motherfucker', 'motherfuckin', 'motherfucking', 'motherland', 'motif', 'motion', 'motivate', 'motivation', 'motor', 'motto', 'mount', 'mountain', 'mountainwhiskey', 'mounting', 'mourn', 'mouscron', 'mouse', 'mouseover', 'moussey', 'mouth', 'move', 'moved', 'movement', 'movie', 'movimento', 'movin', 'movt', 'mozart', 'mp', 'mr', 'mrg', 'mrm', 'mroe', 'mrt', 'ms', 'msa', 'msg', 'msm', 'msn', 'msr', 'mssage', 'mst', 'msu', 'msuedu', 'mth', 'mtv', 'muboshgu', 'much', 'mud', 'muddeled', 'muddle', 'mueller', 'muffledthud', 'mufka', 'mughal', 'mughals', 'muhaddithin', 'muhammad', 'muhammed', 'mukherjee', 'mukhopadhyay', 'mukhtar', 'mulholland', 'mullen', 'multi', 'multifarious', 'multilingual', 'multimodal', 'multinational', 'multiple', 'multiplies', 'multiply', 'mum', 'mumble', 'munafiq', 'munch', 'mundane', 'mundo', 'mune', 'munich', 'municipal', 'municipality', 'munipilated', 'munition', 'munster', 'munto', 'muppet', 'murasu', 'murder', 'murderer', 'murray', 'musamies', 'muscle', 'muselimi', 'museum', 'mushroom', 'music', 'musical', 'musicans', 'musician', 'musik', 'musique', 'muslim', 'muslims', 'mussolini', 'must', 'mustafa', 'muster', 'mut', 'mutant', 'mutation', 'mutha', 'mutton', 'mutual', 'mutually', 'muzekal', 'muzemike', 'muzzy', 'mv', 'mvei', 'mvp', 'mw', 'mwaaaaaaaaaaaaaaaaaaaaahaaaaaaaaaaaaaaaaaaaaaaaaaaaaaaaaaaaaaaaahaaaaaaaaaaaaaaaaaaaaaaaaaaaaaaaahaaaaaaaaaaaaaaaaaaaaaaaaaaaaaaaaaahaaaaaaaaaaaaaaaaaaaaaaa', 'mwalla', 'mwws', 'my', 'myaviationnet', 'myeongseongcaspian', 'mygawd', 'mynameisthemasterofallofthefives', 'mynlieff', 'myopia', 'myriad', 'myself', 'myspace', 'myspacecom', 'myspacetv', 'myst', 'mysterious', 'mystery', 'mystic', 'mystical', 'mysweetoldetc', 'myth', 'mythical', 'mythological', 'mythology', 'myths', 'mywork', 'na', 'naam', 'nabbobhai', 'nabeel', 'nacional', 'nadir', 'nadirali', 'naeem', 'nag', 'nage', 'nages', 'nah', 'nahing', 'nai', 'naik', 'nail', 'nailed', 'naive', 'nakon', 'nalbums', 'naluboutes', 'nalwa', 'nam', 'namaqua', 'namaskargreetings', 'name', 'namedeerfasd', 'namely', 'namer', 'names', 'namespace', 'namibia', 'naming', 'namingcriteria', 'nananananana', 'nancy', 'nandas', 'nano', 'nanodiamond', 'nanodiamonds', 'naples', 'napoleon', 'napoleonic', 'narration', 'narrative', 'narrow', 'narrowly', 'naruto', 'nasa', 'nascar', 'nasd', 'nasrallahjpg', 'nassim', 'nast', 'nasty', 'natal', 'natalie', 'nation', 'national', 'nationalgeographiccom', 'nationalisic', 'nationalism', 'nationalismopedia', 'nationalist', 'nationalistic', 'nationality', 'native', 'nato', 'natural', 'naturally', 'nature', 'naughty', 'nauka', 'nauseum', 'nautical', 'navajoindian', 'naval', 'navarre', 'navassa', 'navbox', 'navey', 'navigation', 'navigational', 'navy', 'nawab', 'nazarene', 'nazi', 'nazis', 'nazzjonalista', 'nb', 'nba', 'nbc', 'ncaa', 'nd', 'ndh', 'neal', 'near', 'nearby', 'nearly', 'neat', 'neater', 'neatly', 'neblett', 'nebulous', 'necassary', 'neccessarily', 'neccessary', 'necessarily', 'necessary', 'necessity', 'neck', 'need', 'needed', 'needle', 'needless', 'needlessly', 'needs', 'nefarious', 'neff', 'negate', 'negative', 'negatively', 'negativity', 'negerakertagama', 'neglect', 'negligent', 'negotiable', 'negotiate', 'negro', 'neighbor', 'neighborhood', 'neighbourhood', 'neil', 'neiln', 'neilptimrosejpg', 'neither', 'nelson', 'nemec', 'nemzade', 'neo', 'neoclassic', 'neocon', 'neolithic', 'neologism', 'nepal', 'nephew', 'nerd', 'neric', 'nervosa', 'nervous', 'nesbit', 'nescio', 'ness', 'nest', 'net', 'netherlands', 'nethgrib', 'netscape', 'netural', 'network', 'networking', 'neurobiology', 'neurological', 'neurosis', 'neurosurgeon', 'neurotic', 'neutral', 'neutrality', 'neutralitythere', 'neutralize', 'neutralized', 'neutrally', 'nev', 'nevada', 'never', 'neverending', 'nevermind', 'nevertheless', 'nevhoodnevhood', 'neville', 'new', 'newb', 'newbie', 'newcomer', 'newly', 'newmaker', 'news', 'newser', 'newseventsguy', 'newsletter', 'newspaper', 'newspeak', 'newswire', 'newsworthy', 'next', 'nf', 'nfc', 'nfcc', 'ngabanka', 'nganbra', 'ngo', 'ngos', 'nguyen', 'nhadau', 'ni', 'nicaragua', 'nicaraguan', 'nice', 'nicely', 'nicest', 'niche', 'nicholas', 'nichols', 'nick', 'nickname', 'nicola', 'nicolaus', 'nietzsche', 'nigel', 'nigelr', 'nigga', 'niggafuck', 'nigger', 'niggerlover', 'niggernigger', 'niggggeeeerrrr', 'night', 'nightclub', 'nightmare', 'nightstallions', 'nihgga', 'nikki', 'nikolaevna', 'nikyo', 'nilakantha', 'niletrader', 'nine', 'nineteen', 'ninety', 'ninja', 'nintendo', 'ninth', 'nipple', 'nippon', 'nishidani', 'nissan', 'nissim', 'nit', 'niteshift', 'nitpick', 'nitro', 'nitroglycerin', 'niue', 'niv', 'nixie', 'nixonian', 'nizam', 'nizhniy', 'nj', 'nkb', 'nlgga', 'nlp', 'nlt', 'nlu', 'nn', 'nnpov', 'no', 'noah', 'noartuh', 'nobel', 'nobility', 'noble', 'nobody', 'nocal', 'noclador', 'nod', 'noel', 'nofollow', 'nogif', 'noi', 'noinclude', 'noise', 'nolans', 'nom', 'nomadic', 'nombres', 'nomenclature', 'nominal', 'nominate', 'nominating', 'nomination', 'nominative', 'non', 'nonchalantly', 'noncompetitive', 'noncopyrighted', 'none', 'nonetheless', 'nonexistent', 'nonissue', 'nonplussed', 'nonsence', 'nonsense', 'nonsenseferret', 'nonsensical', 'nonsesne', 'nonviolence', 'nonzero', 'noob', 'noobenger', 'nope', 'nor', 'nordale', 'nordic', 'nordicist', 'nordiguain', 'norg', 'norlen', 'norm', 'normal', 'normally', 'norman', 'norse', 'north', 'northbridge', 'northeast', 'northern', 'northshoreman', 'northumberland', 'northward', 'northwest', 'norway', 'norwegian', 'nose', 'nosed', 'nosey', 'nospu', 'not', 'notability', 'notable', 'notably', 'notacceptable', 'notarized', 'notation', 'notcensoredc', 'notch', 'note', 'noted', 'noteworthy', 'notforum', 'nothing', 'notice', 'noticeable', 'noticeboard', 'noticed', 'noticesif', 'notification', 'notified', 'notify', 'notion', 'notionally', 'notoriety', 'notorious', 'notoriously', 'notscandal', 'notto', 'notwithstanding', 'noun', 'nov', 'novel', 'novelty', 'novembar', 'november', 'novgorod', 'novice', 'now', 'nowadays', 'nowhere', 'nowxvxi', 'noyan', 'npa', 'npaetc', 'npc', 'npov', 'nrcprm', 'nrgc', 'nrl', 'nsaid', 'nsc', 'nsf', 'nsle', 'nsport', 'nsw', 'ntl', 'nu', 'nuanced', 'nude', 'nuetral', 'nuisance', 'nuisence', 'nuke', 'null', 'nullification', 'nullify', 'numa', 'numba', 'numbbers', 'number', 'numbered', 'numberf', 'numbes', 'numeral', 'numerically', 'numerology', 'numerous', 'nunhuck', 'nuremberg', 'nureyev', 'nurse', 'nusence', 'nussbaums', 'nut', 'nutjobs', 'nutritionist', 'nuts', 'nutshell', 'nutz', 'nxt', 'ny', 'nyb', 'nyc', 'nydahl', 'nyou', 'nyscholar', 'nyt', 'nyu', 'nyuggggaaa', 'nyyyy', 'oakland', 'oap', 'oath', 'oaths', 'obama', 'obamacare', 'obar', 'obe', 'oberliga', 'oberth', 'obey', 'obfuscate', 'obi', 'obiter', 'obituary', 'object', 'objected', 'objection', 'objectionable', 'objective', 'objectively', 'objectivity', 'objector', 'obligate', 'obligation', 'oblige', 'obliterate', 'obnoxious', 'obrien', 'obscure', 'obscured', 'observation', 'observational', 'observe', 'observer', 'obsess', 'obsessed', 'obsession', 'obsessively', 'obsolete', 'obstacle', 'obstruct', 'obstructive', 'obtain', 'obvious', 'obviously', 'obviousthe', 'ocaasi', 'ocalafla', 'occasion', 'occasional', 'occasionally', 'occipital', 'occiput', 'occult', 'occupation', 'occupied', 'occupy', 'occur', 'occuracy', 'occurence', 'occurrence', 'ocd', 'ocean', 'oceana', 'oceanian', 'oct', 'october', 'oda', 'odd', 'oddly', 'oddparents', 'odds', 'oden', 'odessa', 'odisha', 'odnb', 'oed', 'of', 'ofcourse', 'ofensive', 'off', 'offenbach', 'offence', 'offend', 'offended', 'offender', 'offending', 'offendinmg', 'offends', 'offense', 'offenses', 'offensive', 'offer', 'offered', 'offical', 'office', 'officer', 'official', 'officially', 'offline', 'offs', 'offspring', 'ofshalott', 'oft', 'often', 'og', 'oghuz', 'ogre', 'oh', 'ohio', 'ohnoitsjamie', 'ohp', 'oi', 'oic', 'oif', 'oil', 'oj', 'ojigbani', 'ok', 'oka', 'okay', 'okinawa', 'okinawan', 'oklahoma', 'okt', 'oktobar', 'ol', 'old', 'oldham', 'oldid', 'oldie', 'ole', 'olga', 'oligarchs', 'oligarchy', 'oliva', 'om', 'omer', 'omg', 'omgzkendajpg', 'omission', 'omit', 'omnipotent', 'omon', 'on', 'once', 'one', 'oneill', 'oneself', 'onfolkestone', 'ongoing', 'ongoings', 'onion', 'onka', 'online', 'only', 'onorem', 'ontario', 'onto', 'onwards', 'oo', 'oobituary', 'oobituarycom', 'oomgnm', 'oops', 'op', 'open', 'opener', 'opening', 'openisbn', 'openlibrary', 'openlibraryorg', 'openlibray', 'openly', 'openness', 'opera', 'operate', 'operation', 'operational', 'operative', 'operator', 'opinion', 'opinionated', 'opinioniated', 'opinon', 'opinons', 'oppinionated', 'opponent', 'opportunitty', 'opportunity', 'oppose', 'opposed', 'opposite', 'oppositenot', 'opposites', 'opposition', 'oppossum', 'oppurtunities', 'oprah', 'ops', 'opsec', 'opsek', 'opt', 'optical', 'optimize', 'optimum', 'optimusnauta', 'option', 'optional', 'or', 'oracle', 'oral', 'orange', 'orangemarlin', 'oranges', 'orbit', 'orbital', 'ordain', 'order', 'orderinchaos', 'orderly', 'ordinary', 'oregon', 'oreilly', 'oren', 'organisation', 'organism', 'organization', 'organizational', 'organizationdigital', 'organize', 'organizer', 'organophosphate', 'orgasm', 'orgy', 'ori', 'orient', 'orientation', 'origin', 'original', 'originally', 'originate', 'originates', 'origins', 'orkney', 'orlady', 'orlando', 'orleans', 'orphan', 'orthodox', 'orthodoxy', 'orthography', 'orthopedics', 'os', 'osama', 'osani', 'osborn', 'osgoode', 'osint', 'osiris', 'osirisv', 'oslo', 'osman', 'ostensibly', 'ot', 'otc', 'other', 'others', 'otherstuffexist', 'otherthe', 'otherwise', 'oto', 'otoh', 'otra', 'otro', 'otrs', 'otsaila', 'ott', 'otter', 'ottoman', 'ou', 'ought', 'our', 'ourcolony', 'ourselves', 'out', 'outage', 'outbound', 'outbreak', 'outcast', 'outcome', 'outcrossing', 'outdated', 'outer', 'outlandish', 'outlast', 'outlet', 'outline', 'outlinec', 'outloud', 'outlying', 'output', 'outrage', 'outrageous', 'outreach', 'outright', 'outrule', 'outside', 'outsider', 'outsmart', 'outstandingly', 'outweigh', 'ovendale', 'overall', 'overarch', 'overboard', 'overcategorisation', 'overcharge', 'overcome', 'overdramatize', 'overdrive', 'overdue', 'overeager', 'overestimate', 'overestimation', 'overkill', 'overlap', 'overlook', 'overly', 'overnight', 'overpower', 'overreact', 'overrepresented', 'overridden', 'overseen', 'oversight', 'oversighted', 'oversimplify', 'overstep', 'overthrow', 'overturn', 'overvandalized', 'overview', 'overwehlming', 'overweight', 'overwhelm', 'overwhelming', 'overwhelmingly', 'overzealous', 'ovw', 'owe', 'owen', 'own', 'owner', 'ownership', 'ox', 'oxford', 'oyster', 'oz', 'pa', 'pablo', 'pac', 'pace', 'pacific', 'pack', 'packer', 'pad', 'padenton', 'padleft', 'pae', 'paedophile', 'paelentologists', 'page', 'pageant', 'pageif', 'pagemove', 'pagesenglish', 'pagesf', 'pagesm', 'pageview', 'pageviews', 'pagez', 'paid', 'pain', 'painful', 'paint', 'painter', 'pair', 'pakistan', 'pakistani', 'pakistn', 'pal', 'palace', 'palatine', 'palau', 'pale', 'paleomagnetic', 'paleorient', 'palestine', 'palestinian', 'paley', 'palin', 'palma', 'pam', 'pan', 'panamanian', 'pancho', 'panda', 'pander', 'pandita', 'panel', 'pangya', 'pant', 'pantages', 'panth', 'panty', 'panurge', 'panzerschiffe', 'papa', 'paper', 'paperback', 'par', 'para', 'paradigm', 'paraffin', 'parag', 'paragraph', 'paragraphs', 'paralegal', 'parallel', 'parameter', 'paramithy', 'paramount', 'paraniod', 'paranoid', 'paraphragh', 'paraphrase', 'paraphrasing', 'paraphyletic', 'parc', 'pardody', 'pardon', 'parece', 'pareda', 'parent', 'parentage', 'parental', 'parenthesis', 'pariah', 'parichay', 'paris', 'parish', 'park', 'parker', 'parliament', 'parliamentarians', 'parris', 'parrish', 'parrot', 'parson', 'part', 'parter', 'parthian', 'partial', 'partially', 'participant', 'participate', 'participation', 'particle', 'particular', 'particularly', 'partisan', 'partit', 'partition', 'partly', 'partner', 'party', 'pas', 'pasa', 'pasha', 'pashtun', 'pashtuns', 'pasqual', 'pass', 'passable', 'passage', 'passenger', 'passing', 'passion', 'passionate', 'passive', 'passport', 'password', 'past', 'paste', 'pasted', 'pastel', 'pastingit', 'pastor', 'pat', 'patent', 'patented', 'patently', 'path', 'pathan', 'pathetic', 'pathogen', 'patience', 'patient', 'patricia', 'patrick', 'patriot', 'patriotic', 'patristic', 'patrol', 'patroller', 'patrolling', 'patron', 'patronise', 'patronizing', 'pattern', 'patterson', 'patting', 'paul', 'pause', 'pawn', 'pay', 'payable', 'payback', 'payment', 'pc', 'pchip', 'pd', 'pdf', 'pea', 'peace', 'peacemaker', 'peacetime', 'peacock', 'peak', 'pearl', 'pearls', 'peat', 'peck', 'peculiar', 'pedantic', 'peddle', 'peddler', 'pederasty', 'pedestal', 'pedia', 'pedirte', 'pedophile', 'pedos', 'pedrico', 'pedro', 'pee', 'peejay', 'peejayk', 'peer', 'peice', 'pejoratives', 'pelasgian', 'pelasgians', 'pena', 'pending', 'pendle', 'penetrate', 'penguin', 'peninsula', 'penis', 'penisfuck', 'pennsylvania', 'pentagon', 'people', 'peopleincluding', 'pepper', 'per', 'perceive', 'percent', 'percentage', 'perceptible', 'perception', 'perchance', 'perdus', 'perf', 'perfect', 'perfection', 'perfectly', 'perform', 'performance', 'perfromer', 'perhaps', 'period', 'periodical', 'peripitus', 'perish', 'perla', 'permanent', 'permanently', 'permeate', 'permission', 'permit', 'permittingskomorokh', 'permutation', 'pero', 'perp', 'perpetrate', 'perpetrator', 'perpetual', 'perro', 'perrot', 'perrytrev', 'persecute', 'persecution', 'persevere', 'persia', 'persian', 'persist', 'persistent', 'persistently', 'persists', 'person', 'persona', 'personal', 'personality', 'personally', 'personaly', 'personifiedhe', 'personindividuals', 'personly', 'personnel', 'perspective', 'perspectiveif', 'perspectivism', 'persuade', 'persuasion', 'persuasive', 'pertain', 'perth', 'pertinent', 'peru', 'pervasive', 'pervasivehe', 'pervert', 'pest', 'pet', 'pete', 'peter', 'petition', 'petrol', 'pettersen', 'petty', 'pew', 'peyton', 'pf', 'pfft', 'pfizer', 'pfm', 'pft', 'pga', 'pgagnon', 'pgk', 'pgo', 'phaistos', 'pharaoh', 'pharmacist', 'pharmacy', 'phase', 'phayer', 'phd', 'phenomenon', 'phightins', 'phil', 'phile', 'philip', 'philippine', 'phillipine', 'phillips', 'philosopher', 'philosophical', 'philosophically', 'philosophy', 'philsoophy', 'phj', 'phoenix', 'phone', 'phonemes', 'phonemic', 'phonetic', 'photo', 'photocatbot', 'photogenic', 'photograph', 'photographer', 'photographs', 'photography', 'photon', 'photoreading', 'photos', 'photoshop', 'photostream', 'phrase', 'physic', 'physical', 'physically', 'physician', 'physicist', 'physiological', 'physique', 'pi', 'piano', 'pic', 'picasso', 'pichichi', 'pick', 'picked', 'pictoral', 'picture', 'picturesque', 'picutre', 'pido', 'pie', 'piece', 'pienso', 'pierce', 'piet', 'pietrosperoni', 'pig', 'piggy', 'pigheaded', 'piglet', 'pilate', 'pile', 'pill', 'pillage', 'pillar', 'pillow', 'pilot', 'pilotable', 'pimp', 'pinata', 'pine', 'ping', 'pinhead', 'pink', 'pinoccio', 'pinout', 'pinouts', 'pint', 'pinvest', 'piotrus', 'pip', 'piped', 'pipeda', 'pipesian', 'pirate', 'piss', 'pissed', 'pistol', 'pit', 'pitch', 'pitcher', 'pithy', 'pitoyo', 'pity', 'pivotal', 'pix', 'pixel', 'placate', 'place', 'placed', 'placement', 'placenames', 'plagiarism', 'plagiarize', 'plain', 'plainly', 'plame', 'plan', 'plane', 'planesthat', 'planet', 'planetary', 'plant', 'plantilla', 'plantisimo', 'plascov', 'plasma', 'plaster', 'plataea', 'platform', 'plausible', 'play', 'playable', 'player', 'playful', 'playground', 'playing', 'playng', 'playstation', 'plaza', 'plc', 'plea', 'plead', 'pleas', 'pleasant', 'pleasantly', 'pleasantry', 'please', 'pleased', 'pleasent', 'pleasewhy', 'pleasure', 'pleasures', 'pledge', 'plenty', 'pleonic', 'plethora', 'plonked', 'plot', 'ploy', 'pls', 'plunder', 'plural', 'plurality', 'pluribus', 'plus', 'pluto', 'plz', 'pm', 'pmanderson', 'pmdrive', 'pmk', 'png', 'pocket', 'pocketpooljpg', 'poco', 'poem', 'poet', 'poetry', 'pogrom', 'point', 'pointed', 'pointer', 'pointless', 'poirier', 'poison', 'poke', 'pokemon', 'pola', 'polands', 'polarity', 'pole', 'police', 'policemen', 'policy', 'policywikipedia', 'polish', 'polite', 'politely', 'politeness', 'political', 'politically', 'politician', 'politico', 'politics', 'poll', 'pollute', 'pollution', 'polocks', 'polyakov', 'polycarbonate', 'polygamy', 'polyphony', 'pomaks', 'pomegranate', 'pomes', 'pompous', 'ponder', 'ponging', 'pons', 'ponta', 'pontiac', 'pontius', 'ponzi', 'pool', 'poop', 'pooper', 'poopie', 'poor', 'poorly', 'pop', 'pope', 'poplation', 'popov', 'poppa', 'popper', 'popperian', 'popular', 'popularity', 'popularize', 'populate', 'populated', 'population', 'populism', 'por', 'porcupine', 'pork', 'porky', 'porn', 'pornstar', 'port', 'portal', 'portalorg', 'portion', 'portland', 'portrait', 'portray', 'portrayal', 'portrays', 'portugal', 'portuguese', 'pose', 'poser', 'posibles', 'posit', 'position', 'positive', 'positively', 'poskim', 'posse', 'possess', 'possession', 'possessive', 'possibel', 'possibility', 'possible', 'possibly', 'post', 'postal', 'poster', 'posterior', 'posthumous', 'posting', 'postions', 'pot', 'potd', 'potential', 'potentially', 'potexionn', 'potidaea', 'potter', 'pottery', 'pounce', 'pound', 'pour', 'pov', 'poved', 'poverty', 'poving', 'povs', 'power', 'powerful', 'powerin', 'powerlifting', 'powernewlin', 'pp', 'ppatsevere', 'ppl', 'pps', 'pr', 'practical', 'practically', 'practice', 'practise', 'practitioner', 'prairie', 'praise', 'prameswara', 'prasy', 'pratically', 'pratiher', 'pravapisorg', 'pray', 'prayer', 'prc', 'prcatice', 'pre', 'preach', 'preamble', 'precede', 'precededs', 'precedent', 'preceding', 'precedures', 'precept', 'preciate', 'precious', 'precise', 'precisely', 'precision', 'preclude', 'precompiled', 'predate', 'predating', 'predatory', 'predecessor', 'predicament', 'predicate', 'predictable', 'prediction', 'predominant', 'predominate', 'preface', 'prefect', 'prefer', 'preferable', 'preferably', 'preference', 'preferred', 'preferring', 'prefers', 'prefferable', 'prefix', 'pregnant', 'prehistoric', 'prejudice', 'prejudicial', 'prelude', 'premature', 'premenstrual', 'premier', 'premise', 'prep', 'prepare', 'prepared', 'preposition', 'prerequisite', 'prescott', 'prescription', 'presence', 'present', 'presentation', 'presentational', 'presenter', 'presently', 'preservation', 'preserve', 'presidency', 'president', 'presidential', 'press', 'pressed', 'pressure', 'prestige', 'prestigious', 'preston', 'presumably', 'presume', 'presumed', 'presumption', 'presumptive', 'pretend', 'pretender', 'pretending', 'pretense', 'pretoria', 'pretty', 'prev', 'prevail', 'prevalence', 'prevalent', 'prevent', 'prevention', 'preview', 'previews', 'previous', 'previously', 'price', 'priceless', 'pricing', 'pricize', 'prick', 'pride', 'priest', 'primacy', 'primal', 'primarily', 'primary', 'prime', 'prince', 'princely', 'princess', 'princesses', 'principal', 'principle', 'prinicple', 'print', 'printed', 'prion', 'prior', 'prioritize', 'priority', 'priory', 'priscilla', 'prison', 'prisoner', 'privacy', 'private', 'privately', 'priveledges', 'privilages', 'privilege', 'privy', 'prize', 'pro', 'proactive', 'proactively', 'prob', 'probability', 'probably', 'probaly', 'probarbaly', 'probe', 'probem', 'probibly', 'problem', 'problematic', 'problematical', 'probrably', 'probs', 'procedure', 'proceed', 'proceeding', 'proceeds', 'proceeeding', 'process', 'proclaim', 'proclaimations', 'proclaimed', 'proclamation', 'prod', 'produce', 'producer', 'product', 'production', 'productive', 'productively', 'productivity', 'prof', 'profess', 'professional', 'professionalism', 'professionality', 'professionally', 'professionalssince', 'professor', 'proficiency', 'profile', 'profilejpg', 'profit', 'profitability', 'profiteer', 'profulis', 'profwoland', 'progestogen', 'program', 'programmer', 'progress', 'progression', 'progressive', 'prohibit', 'prohibits', 'project', 'projection', 'projective', 'proletariat', 'proliferator', 'prolific', 'prom', 'prominence', 'prominent', 'promise', 'promissory', 'promo', 'promos', 'promote', 'promoter', 'promotes', 'promotion', 'promotional', 'prompt', 'promptly', 'prone', 'pronoced', 'pronounce', 'pronouncement', 'pronounciation', 'pronunciation', 'proof', 'proofs', 'prop', 'propaganda', 'propagandathe', 'propagandawellcome', 'propagandist', 'propagate', 'propagation', 'propenents', 'propensity', 'proper', 'properly', 'propertiesthe', 'property', 'prophecy', 'propogate', 'propol', 'proponent', 'proportion', 'proportional', 'proportionately', 'proposal', 'propose', 'proposed', 'proposing', 'proposition', 'proprietary', 'proprietor', 'proquest', 'prose', 'prosecutor', 'proselytisation', 'prosing', 'prospect', 'prosperous', 'prostate', 'prostitute', 'protect', 'protected', 'protection', 'protective', 'protector', 'protein', 'protest', 'protestant', 'protester', 'proto', 'protoalbano', 'protocol', 'protoscience', 'prototype', 'proud', 'prove', 'proved', 'proven', 'proverbial', 'provide', 'provided', 'provider', 'providing', 'province', 'provincial', 'provision', 'provisional', 'provocation', 'provocative', 'provokation', 'provoke', 'provoker', 'proxy', 'prude', 'prudent', 'prune', 'prussian', 'ps', 'pseudo', 'pseudonym', 'pseudoscience', 'psp', 'pspgo', 'psps', 'psyche', 'psycho', 'psychoanalytical', 'psychological', 'psychologist', 'psychology', 'psychopath', 'psychosis', 'psychotic', 'pt', 'ptabprint', 'ptsd', 'ptt', 'pu', 'pub', 'puberty', 'pubes', 'public', 'publically', 'publication', 'publicise', 'publicist', 'publicity', 'publicly', 'publicmindcom', 'publish', 'publisher', 'publishing', 'pubmed', 'pucci', 'pudding', 'puede', 'pueden', 'puerto', 'puff', 'puffery', 'puke', 'pulborough', 'pull', 'pulled', 'pump', 'pumpkin', 'pun', 'punch', 'punchbowl', 'punctuates', 'punctuation', 'pundit', 'punish', 'punished', 'punishment', 'punitive', 'punjab', 'punjabi', 'punk', 'puny', 'punya', 'pupety', 'puppet', 'puppeteered', 'puppetry', 'purakh', 'purchase', 'purdue', 'pure', 'purely', 'purgatory', 'purge', 'purple', 'purport', 'purpose', 'purposefully', 'purposely', 'pursue', 'purview', 'push', 'pushed', 'pusher', 'puss', 'pussbag', 'pussy', 'put', 'puthrakameshti', 'putiing', 'puzzle', 'puzzled', 'pw', 'pwn', 'pwners', 'px', 'pyramid', 'pyramidology', 'pyrinae', 'python', 'pzzschool', 'qabusnameh', 'qadian', 'qamiel', 'qamishli', 'qand', 'qaramel', 'qatar', 'qed', 'qid', 'qiyamah', 'qm', 'qoutes', 'qrf', 'quackguru', 'quadrant', 'quadric', 'quailtard', 'qualification', 'qualifier', 'qualifies', 'qualify', 'qualifying', 'quality', 'qualty', 'quantifiable', 'quantify', 'quantity', 'quantum', 'quarter', 'quartet', 'quasi', 'que', 'queef', 'queen', 'queensland', 'queer', 'quen', 'querido', 'query', 'quesiton', 'quest', 'question', 'questionable', 'questionnaire', 'quibble', 'quick', 'quickly', 'quiet', 'quieten', 'quieter', 'quietly', 'quiickly', 'quinn', 'quit', 'quite', 'quito', 'quitus', 'quiver', 'qulaity', 'quo', 'quondum', 'quotation', 'quote', 'quoted', 'quran', 'quranic', 'quteded', 'quting', 'qwest', 'qwyrxian', 'rab', 'rabbi', 'rabbit', 'rabina', 'rabindranath', 'race', 'racehorse', 'racemic', 'rachel', 'racial', 'racially', 'racism', 'racist', 'rack', 'rad', 'radar', 'radiation', 'radical', 'radicalism', 'radio', 'raf', 'rafter', 'ragan', 'rage', 'rahbee', 'rahman', 'raid', 'raider', 'rail', 'railroad', 'railway', 'railways', 'rain', 'rainbow', 'raise', 'raison', 'raj', 'raja', 'rajappan', 'rajas', 'rajith', 'rajon', 'rajput', 'raju', 'rajvanshi', 'ralf', 'rally', 'ralph', 'ramadan', 'ramble', 'rambunctious', 'ramdasia', 'ramification', 'ramp', 'rampant', 'ran', 'rancie', 'randall', 'random', 'randomly', 'range', 'ranger', 'ranjit', 'rank', 'ranking', 'ransom', 'rant', 'ranting', 'rao', 'raoul', 'rap', 'rape', 'raped', 'rapid', 'rapidly', 'rapist', 'rapper', 'rapson', 'raptor', 'rare', 'rarely', 'rarity', 'rarley', 'raro', 'rashid', 'rat', 'rate', 'rather', 'rating', 'ratio', 'rational', 'rationale', 'rationales', 'ratnakar', 'raul', 'rave', 'raven', 'ravenous', 'ravilious', 'raw', 'rawr', 'rawson', 'ray', 'raymond', 'rayn', 'raynal', 'razer', 'rb', 'rbeed', 'rc', 'rcog', 'rd', 're', 'reach', 'react', 'reacticely', 'reaction', 'reactionary', 'reactivate', 'reactor', 'read', 'readability', 'readable', 'readded', 'reader', 'readership', 'readily', 'reading', 'readpoor', 'reads', 'ready', 'reaf', 'reaffirm', 'reagan', 'real', 'realiable', 'realignment', 'realise', 'realism', 'realist', 'realistic', 'realistically', 'reality', 'realization', 'realize', 'really', 'realm', 'realmedia', 'realms', 'realy', 'rear', 'rearrange', 'rearranged', 'reason', 'reasonable', 'reasonably', 'reasonbly', 'reasoning', 'reassessment', 'reassurance', 'reave', 'rebbe', 'rebecca', 'rebellion', 'reborn', 'rebuff', 'rebuke', 'rebuttal', 'recall', 'receive', 'received', 'receiver', 'receives', 'receiving', 'recency', 'recent', 'recently', 'recenty', 'reception', 'receptive', 'reciee', 'recieved', 'recipe', 'recipient', 'recite', 'reckless', 'recklessly', 'reclassifying', 'recnt', 'recognise', 'recognition', 'recognize', 'recommend', 'recommendation', 'recommends', 'recompense', 'reconcile', 'reconfirmation', 'reconsider', 'reconstruction', 'record', 'recorded', 'recorder', 'recording', 'recourse', 'recover', 'recovery', 'recreate', 'recreating', 'recreator', 'recruit', 'recrystallise', 'recrystallised', 'rectify', 'recur', 'recurrng', 'recuse', 'recycle', 'red', 'redact', 'redditcom', 'redeamable', 'redeem', 'redeemable', 'redefine', 'redefinition', 'redemption', 'rediffmailcom', 'redirct', 'redirect', 'redirected', 'redirects', 'redits', 'redlink', 'redlinked', 'redlinks', 'redneck', 'redo', 'redrawing', 'redress', 'redtigerxyz', 'reduce', 'reduction', 'redundancy', 'redundant', 'redux', 'redwatch', 'reeducation', 'reef', 'reel', 'reema', 'reenactment', 'reenter', 'ref', 'refa', 'refactored', 'refactoring', 'refdesk', 'refer', 'referee', 'reference', 'referenced', 'referenes', 'referentially', 'refernce', 'refernces', 'referral', 'referrences', 'refers', 'refhistoryfix', 'refine', 'reflect', 'reflective', 'reflex', 'reflist', 'refocus', 'reform', 'reformist', 'reformulation', 'refrain', 'refrences', 'refresh', 'refreshingly', 'refs', 'refuge', 'refugee', 'refusal', 'refuse', 'refused', 'refutation', 'refute', 'regain', 'regard', 'regardless', 'regent', 'regime', 'regiment', 'regina', 'region', 'regional', 'register', 'registered', 'registration', 'regret', 'regretfully', 'regrettable', 'regsitered', 'regular', 'regularity', 'regularly', 'regulate', 'regulation', 'regulator', 'regulatory', 'rehno', 'rei', 'reich', 'reichstag', 'reign', 'reignite', 'reimburse', 'reincarnate', 'reincarnation', 'reinforce', 'reinforces', 'reinsert', 'reinsertion', 'reinserts', 'reinstate', 'reiterate', 'reject', 'rejection', 'relaible', 'relaity', 'relapse', 'relate', 'related', 'relatedc', 'relation', 'relationship', 'relative', 'relatively', 'relativement', 'relatives', 'relativity', 'relax', 'relay', 'release', 'relect', 'relegate', 'relegins', 'relentlessly', 'relevance', 'relevancy', 'relevant', 'relevent', 'reliability', 'reliable', 'reliablity', 'reliably', 'reliance', 'relies', 'religion', 'religious', 'religiously', 'religous', 'relinquish', 'relisted', 'relive', 'relivent', 'reload', 'reluctant', 'rely', 'remain', 'remainder', 'remains', 'remark', 'remarkably', 'remarry', 'remediate', 'remedy', 'remember', 'remembered', 'remind', 'reminder', 'remiss', 'remote', 'remotely', 'removal', 'remove', 'removed', 'removing', 'remus', 'rename', 'render', 'renew', 'renfrew', 'reno', 'renominated', 'renown', 'reopen', 'reorder', 'repair', 'repatriate', 'repeat', 'repeated', 'repeatedly', 'repel', 'repercussion', 'repetition', 'repetitive', 'repgreek', 'rephrase', 'replace', 'replaceable', 'replaced', 'replacement', 'replenish', 'replicajpg', 'replied', 'reply', 'replying', 'repoded', 'reponse', 'report', 'reportedly', 'reporter', 'reporting', 'repost', 'reposted', 'represenation', 'represent', 'representation', 'representative', 'representive', 'repress', 'reprint', 'reproduce', 'reproduction', 'reprove', 'repsect', 'republic', 'republican', 'repudiation', 'repulican', 'reputable', 'reputation', 'repute', 'reqmove', 'request', 'requested', 'require', 'requirement', 'reread', 'rervert', 'rescue', 'research', 'researcher', 'resemble', 'reserve', 'reside', 'resident', 'resign', 'resist', 'resistance', 'resistant', 'resize', 'resolute', 'resolution', 'resolve', 'resonance', 'resorces', 'resort', 'resound', 'resource', 'respect', 'respectable', 'respected', 'respectful', 'respectfully', 'respectible', 'respective', 'respectively', 'respond', 'respondent', 'responder', 'responed', 'responsbility', 'response', 'responsibility', 'responsible', 'responsiblity', 'responsive', 'rest', 'restate', 'restatement', 'restaurant', 'restitution', 'restore', 'restored', 'restores', 'restrain', 'restrict', 'restriction', 'restrictive', 'restructure', 'restructuring', 'resubmit', 'resulotion', 'result', 'resume', 'resumed', 'resupplied', 'resurrect', 'resurrection', 'retail', 'retain', 'retaliate', 'retard', 'retarded', 'retension', 'retention', 'retentive', 'retire', 'retired', 'retirement', 'retort', 'retrieve', 'retrieved', 'retroactive', 'retroflex', 'retrospect', 'return', 'returned', 'retype', 'reunification', 'reupload', 'reus', 'reuters', 'rev', 'revamp', 'revandalising', 'reveal', 'revealing', 'reveals', 'revenge', 'revenue', 'revered', 'reverence', 'revereted', 'reverse', 'reversion', 'revert', 'reverted', 'reverting', 'revertions', 'reverts', 'review', 'reviewer', 'reviews', 'revise', 'revision', 'revisionism', 'revisionist', 'revisit', 'revival', 'revive', 'revoke', 'revolution', 'revolutionary', 'revolve', 'rewinn', 'reword', 'rework', 'rewrite', 'rewritten', 'rewrote', 'rexnl', 'rfa', 'rfar', 'rfc', 'rfcs', 'rfd', 'rfpp', 'rgb', 'rhd', 'rhetoric', 'rhetorical', 'rheumatology', 'rhode', 'rhydfelen', 'rhyme', 'rhymeless', 'rhythmite', 'riaa', 'riachi', 'rice', 'rich', 'richard', 'richards', 'riches', 'richly', 'rick', 'rickleff', 'rico', 'rid', 'ride', 'ridicule', 'ridiculous', 'riff', 'riffle', 'rifle', 'rift', 'rig', 'riga', 'right', 'righteous', 'rightly', 'rigorous', 'rigveda', 'riley', 'rimba', 'rimbellishers', 'ring', 'rinus', 'riot', 'rip', 'ripper', 'rise', 'risk', 'risker', 'risting', 'rite', 'ritual', 'rival', 'rivalry', 'river', 'rivera', 'rjanag', 'rjensen', 'rl', 'rlevse', 'rly', 'rm', 'rnal', 'rnl', 'ro', 'road', 'roads', 'rob', 'robbe', 'robbie', 'robert', 'robinson', 'robot', 'robotman', 'robotnik', 'robust', 'robustly', 'roc', 'rochdale', 'rochester', 'rock', 'rockall', 'rocker', 'rocketdyne', 'rocky', 'roco', 'rod', 'rodeo', 'rodham', 'rofl', 'roger', 'rogue', 'roh', 'rohit', 'rohricht', 'role', 'roll', 'rollback', 'rollei', 'roller', 'rom', 'roman', 'romance', 'romania', 'romanian', 'romans', 'rome', 'romegif', 'romney', 'ron', 'ronaldo', 'ronbo', 'rondo', 'ronz', 'roofing', 'rookie', 'rookiee', 'room', 'roosevelt', 'root', 'rory', 'ros', 'roscelese', 'rosch', 'rosja', 'roskam', 'ross', 'rossifumi', 'rossio', 'rossitano', 'rossp', 'roster', 'rostrum', 'rot', 'rott', 'rotten', 'rou', 'rough', 'roughly', 'round', 'rout', 'route', 'routine', 'routledge', 'row', 'roweled', 'rowling', 'rowspan', 'royal', 'royalty', 'royce', 'rpman', 'rr', 'rrules', 'rs', 'rsas', 'rscitations', 'rsmc', 'rspw', 'rss', 'rst', 'rsta', 'rsvp', 'rt', 'rtl', 'rtv', 'ru', 'rubbish', 'rubbishly', 'rubin', 'rubinstein', 'ruble', 'ruckus', 'rucuss', 'rudd', 'rude', 'rudely', 'rudeness', 'ruder', 'rudimentary', 'rudolph', 'rufus', 'rugby', 'rugova', 'ruhee', 'ruhr', 'rui', 'ruin', 'ruislip', 'rule', 'ruleoflawlawyer', 'ruler', 'ruleset', 'ruling', 'rumor', 'rumour', 'rumsfeld', 'run', 'runaround', 'rundown', 'runway', 'rural', 'rusell', 'rush', 'russavia', 'russell', 'russellville', 'russia', 'russian', 'russians', 'russkie', 'russophobic', 'russophones', 'ruthless', 'rutten', 'rv', 'rved', 'rw', 'ryan', 'rydberg', 'ryote', 'rythimite', 'rythmic', 'ryukyu', 'ryulong', 'rzz', 'sa', 'saami', 'saaume', 'sabal', 'sabaw', 'sabe', 'sabino', 'sabins', 'sabotage', 'sabyasachi', 'sack', 'sacred', 'sacrific', 'sacrifice', 'sacvi', 'sad', 'sadads', 'saddam', 'saddle', 'sadie', 'sadly', 'saedon', 'safe', 'safeen', 'safeguard', 'safely', 'safety', 'saffron', 'safin', 'sagala', 'sah', 'sahaba', 'sahib', 'sahih', 'sahitya', 'sahrawis', 'sail', 'sailor', 'saint', 'sake', 'saku', 'salaam', 'salacious', 'salad', 'salafi', 'salafis', 'salafism', 'salam', 'sale', 'salesman', 'salgado', 'salih', 'saliha', 'sallahadin', 'salle', 'salon', 'salt', 'saltlake', 'saludos', 'salute', 'salvador', 'salvage', 'salvation', 'salvio', 'sam', 'samadhi', 'samaleks', 'samanta', 'samdup', 'same', 'sami', 'samir', 'sammy', 'samoa', 'sample', 'sampleogg', 'samsung', 'samuel', 'san', 'sanatanam', 'sanchez', 'sanction', 'sanctioned', 'sanctity', 'sandal', 'sandbox', 'sandboxes', 'sandefur', 'sandpit', 'sandstein', 'sandy', 'sane', 'sanello', 'sanford', 'sanitation', 'sanitize', 'sanity', 'sannse', 'sanskrit', 'sap', 'sapiens', 'sar', 'sarah', 'sarajevo', 'sarcastic', 'sarcasting', 'sarek', 'sarekofvulcan', 'sargent', 'sarkeesian', 'sarkuk', 'sars', 'saru', 'sarvajna', 'saskatchewan', 'sassanid', 'sat', 'sate', 'satellite', 'satire', 'satisfaction', 'satisfactory', 'satisfation', 'satisfication', 'satisfied', 'satisfies', 'satisfy', 'saturday', 'saturn', 'satyrtn', 'sauce', 'saudi', 'saue', 'sausage', 'sausagefest', 'savage', 'save', 'saviour', 'savvy', 'saw', 'sawon', 'sawyer', 'saxe', 'saxon', 'saxony', 'say', 'sb', 'sbvr', 'scale', 'scalia', 'scalzi', 'scam', 'scan', 'scandal', 'scandalously', 'scandinavia', 'scanner', 'scapegoat', 'scar', 'scarcely', 'scare', 'scared', 'scarf', 'scarface', 'scarlet', 'scarlett', 'scary', 'scatter', 'scenarios', 'scene', 'scharf', 'schedule', 'scheme', 'schismatic', 'schmensorship', 'scholar', 'scholarly', 'scholars', 'scholarship', 'scholastic', 'school', 'schoolboy', 'schoolboys', 'schroeder', 'schtippdick', 'schulz', 'schumacher', 'schurig', 'schwyz', 'science', 'scienceapologiest', 'scienceapologist', 'scientific', 'scientifically', 'scientist', 'scientology', 'scifinder', 'scincinae', 'sco', 'scope', 'score', 'scores', 'scorpion', 'scorsese', 'scot', 'scotland', 'scotsman', 'scott', 'scottish', 'scources', 'scourge', 'scout', 'scoutcom', 'scramble', 'scrap', 'scrapie', 'scratch', 'scratching', 'scream', 'screaming', 'screen', 'screenplay', 'screw', 'screws', 'scribble', 'script', 'scriptural', 'scripture', 'scriptures', 'scroll', 'scrub', 'scrupulously', 'scrutiny', 'sculpture', 'scum', 'scumbag', 'sdedeo', 'se', 'sea', 'sead', 'seal', 'sean', 'search', 'searching', 'searle', 'seashell', 'season', 'seat', 'seattle', 'seb', 'sebo', 'seby', 'secession', 'second', 'secondary', 'secondly', 'secondstell', 'secrecy', 'secret', 'secretary', 'secretly', 'sect', 'section', 'sectioneer', 'sector', 'sectors', 'secular', 'secure', 'security', 'sediment', 'sedimentary', 'see', 'seecompare', 'seed', 'seek', 'seem', 'seemed', 'seemingly', 'seeps', 'seeth', 'segarra', 'segment', 'segnali', 'seguir', 'sehzade', 'seifu', 'seigenthaler', 'seinfeld', 'seize', 'seizure', 'select', 'selection', 'selective', 'selectivism', 'self', 'selfish', 'selfishly', 'selfpub', 'sell', 'selling', 'seltzer', 'semantics', 'semester', 'semetic', 'semi', 'semifinal', 'semihistorical', 'semite', 'semitic', 'senate', 'senator', 'send', 'sends', 'senior', 'senkaku', 'sense', 'senseless', 'sensibility', 'sensible', 'sensitive', 'sensitivity', 'sent', 'sentence', 'sentennce', 'sentennse', 'sentiment', 'sentnece', 'seos', 'sep', 'separate', 'separately', 'separation', 'separator', 'separtist', 'seped', 'seperate', 'seperated', 'sephardic', 'sept', 'septembar', 'september', 'septmeber', 'sequence', 'sequential', 'sequester', 'ser', 'seraing', 'serb', 'serbia', 'serbian', 'serbo', 'serbs', 'seregain', 'serf', 'sergecross', 'serial', 'serialization', 'series', 'serious', 'seriously', 'sermises', 'sermon', 'serpent', 'serrano', 'serve', 'server', 'service', 'servile', 'session', 'set', 'setting', 'settle', 'settled', 'settlement', 'setup', 'setuping', 'seva', 'seven', 'several', 'severe', 'severely', 'sewer', 'sex', 'sexist', 'sexual', 'sexy', 'seychelles', 'sgt', 'shabby', 'shackle', 'shadow', 'shah', 'shaker', 'shakespeare', 'shakira', 'shaktiman', 'shaktism', 'shalah', 'shall', 'shallow', 'shalom', 'sham', 'shame', 'shameful', 'shameless', 'shamir', 'shanchez', 'shannon', 'shape', 'shaped', 'share', 'sharealike', 'shared', 'sharett', 'shareware', 'sharia', 'shariah', 'shark', 'sharma', 'sharmila', 'sharpe', 'shastri', 'shatner', 'shave', 'shaw', 'shawnc', 'she', 'shed', 'sheep', 'sheer', 'sheet', 'sheikh', 'shell', 'shelter', 'shem', 'shenouda', 'shepherd', 'sheppard', 'sherlock', 'sherpa', 'sherren', 'shes', 'shetland', 'shi', 'shia', 'shield', 'shift', 'shika', 'shill', 'shimmin', 'shin', 'shine', 'shinkansen', 'ship', 'shirine', 'shirt', 'shit', 'shittest', 'shitty', 'sho', 'shock', 'shocker', 'shoe', 'shoiuld', 'shoke', 'sholay', 'shona', 'shoot', 'shooting', 'shop', 'shopping', 'shore', 'shoreman', 'short', 'shortbusser', 'shortcut', 'shorten', 'shortie', 'shortly', 'shortridge', 'shortsightedness', 'shoshone', 'shost', 'shot', 'shoud', 'shoulda', 'shouldnt', 'shout', 'shove', 'show', 'shower', 'showrunner', 'shred', 'shriek', 'shrivells', 'shrug', 'sht', 'shuffle', 'shuld', 'shumacher', 'shumate', 'shusha', 'shushi', 'shut', 'shutup', 'shy', 'si', 'siamese', 'sibling', 'sic', 'sick', 'sidaway', 'siddons', 'side', 'sidebar', 'sided', 'sidelined', 'sidewall', 'sido', 'siege', 'sift', 'sifu', 'siggy', 'sigh', 'sight', 'sightedness', 'sigma', 'sign', 'signal', 'signature', 'signatures', 'signees', 'significance', 'significant', 'significantly', 'signifies', 'signify', 'signing', 'signning', 'sikh', 'silence', 'silenced', 'silent', 'silliness', 'silly', 'silva', 'silver', 'simd', 'simi', 'similar', 'similarity', 'similarly', 'simon', 'simone', 'simontrew', 'simperingly', 'simple', 'simpler', 'simpleton', 'simplification', 'simplified', 'simplify', 'simply', 'simpson', 'simulator', 'simultaneous', 'simultaneously', 'sinai', 'since', 'sincere', 'sincerely', 'sindh', 'sinful', 'sing', 'singapore', 'singe', 'singer', 'singh', 'singhasari', 'singing', 'single', 'singlet', 'sings', 'singular', 'sink', 'sinkhole', 'sino', 'sinply', 'sinshe', 'sipri', 'sir', 'sirhind', 'sirius', 'sissy', 'sister', 'sit', 'sitcom', 'site', 'sitesclass', 'sitewere', 'situate', 'situation', 'sitush', 'six', 'sixty', 'size', 'sizeable', 'sj', 'sjo', 'sjogren', 'skater', 'skeptic', 'skepticalraptor', 'skerdilaidas', 'skerdis', 'sketch', 'sketchy', 'skew', 'ski', 'skill', 'skilled', 'skills', 'skim', 'skin', 'skinhead', 'skip', 'skipping', 'skirt', 'skirting', 'skomorokh', 'skream', 'skrzyniarz', 'skull', 'skunk', 'sky', 'skydrive', 'skyfish', 'skylar', 'skyline', 'skype', 'slack', 'slander', 'slant', 'slap', 'slash', 'slashdotted', 'slasher', 'slater', 'slatta', 'slaughter', 'slav', 'slave', 'slavery', 'slavic', 'sleep', 'slick', 'slight', 'slightly', 'sligo', 'slime', 'slimvirgin', 'slip', 'slippery', 'slipway', 'slit', 'slog', 'slogan', 'slon', 'slop', 'slope', 'sloppified', 'sloppy', 'slovak', 'slovene', 'slovenia', 'slovenly', 'slow', 'slowly', 'slpl', 'slrubenstein', 'slur', 'sm', 'sma', 'smackdown', 'small', 'smart', 'smarter', 'smash', 'smasung', 'smearcollective', 'smell', 'smelly', 'smg', 'smile', 'smith', 'smoke', 'smokescreen', 'smoking', 'smooth', 'smugness', 'smyth', 'smythe', 'snaaaaaaaahh', 'snag', 'snake', 'snap', 'snape', 'snapshot', 'snatch', 'sneak', 'sneaker', 'sneaky', 'sneek', 'snicker', 'snip', 'sniper', 'snippet', 'snitch', 'snivel', 'snobbish', 'snoop', 'snot', 'snottily', 'snow', 'snowball', 'snowman', 'so', 'soap', 'soapbox', 'sober', 'soc', 'soccer', 'soccerway', 'social', 'socialism', 'socialist', 'socially', 'societal', 'society', 'sociology', 'sock', 'socketpuppetry', 'sockin', 'sockmaster', 'sockpup', 'sockpuppet', 'sockpuppeters', 'sockpuppeting', 'sockpuppetry', 'sockpuppets', 'sodium', 'sodom', 'sofos', 'sofs', 'soft', 'softpedia', 'softverbal', 'software', 'soil', 'soith', 'sokolov', 'sokuto', 'sol', 'solapur', 'solar', 'soldado', 'soldier', 'sole', 'solely', 'soley', 'solicit', 'solicitous', 'solid', 'solidarity', 'solidly', 'solitaire', 'solitary', 'solo', 'solomonic', 'solstice', 'solsticejpg', 'solution', 'solve', 'solvent', 'somali', 'somalia', 'somaliland', 'somebody', 'someday', 'someguy', 'somehow', 'somehwere', 'someone', 'somerset', 'something', 'sometime', 'sometimes', 'someting', 'somewhat', 'somewhere', 'somewhereone', 'somuch', 'son', 'song', 'songo', 'songs', 'songthe', 'sonic', 'sonico', 'sonisona', 'sonja', 'sony', 'soon', 'sooner', 'soong', 'sooo', 'soooo', 'sophia', 'sophy', 'soprano', 'soraya', 'sordid', 'soriano', 'sorry', 'sort', 'sortable', 'sothe', 'soul', 'souls', 'sound', 'soup', 'sour', 'source', 'sourcecode', 'sourced', 'sourcesand', 'sourcetard', 'sourcetards', 'south', 'southbridge', 'southeast', 'southern', 'southwest', 'southwestern', 'sovereign', 'soviet', 'sox', 'soxwon', 'sp', 'space', 'spacemanspiff', 'spaceship', 'spacetime', 'spacially', 'spacingpx', 'spade', 'spain', 'spam', 'spammed', 'spammer', 'spamming', 'spammy', 'span', 'spanish', 'spare', 'sparse', 'spartacus', 'spartaki', 'spartan', 'spartaz', 'spawn', 'speak', 'speaker', 'speaking', 'speaks', 'spec', 'specail', 'specficially', 'special', 'specialist', 'specialized', 'specially', 'specialze', 'specie', 'specific', 'specifically', 'specificially', 'specificity', 'specifies', 'specify', 'specimen', 'specious', 'specs', 'spectactular', 'spectator', 'spector', 'spectrum', 'speculate', 'speculation', 'speculative', 'speech', 'speed', 'speedclimb', 'speedily', 'speedy', 'speer', 'spegalj', 'speight', 'spell', 'spelled', 'spelling', 'spelt', 'spence', 'spend', 'spending', 'spent', 'spetsnaz', 'sphere', 'spheres', 'spherical', 'sphinx', 'spi', 'spider', 'spieprzaj', 'spill', 'spilotro', 'spilt', 'spin', 'spirit', 'spiritual', 'spiro', 'spite', 'splc', 'split', 'spoil', 'spoiler', 'spoilers', 'spoken', 'spokesman', 'sponcors', 'spongebob', 'sponsor', 'sport', 'spot', 'spouses', 'spout', 'spray', 'spread', 'spring', 'springfield', 'springone', 'spruce', 'spurious', 'spurn', 'spyros', 'squadron', 'square', 'squash', 'squatter', 'squeak', 'squish', 'sr', 'srbija', 'srbstbsrb', 'srebrenica', 'sreebrenica', 'sri', 'sriwijaya', 'ss', 'sscli', 'ssds', 'ssmdh', 'sspx', 'ssr', 'sssociation', 'ssssh', 'ssven', 'st', 'stable', 'stack', 'stadiums', 'staement', 'staff', 'staffer', 'staffordshire', 'stag', 'stage', 'stale', 'stalin', 'stalinist', 'stalk', 'stalker', 'stamp', 'stan', 'stance', 'stand', 'standalone', 'standard', 'standart', 'standin', 'standing', 'standpoint', 'stanford', 'stanley', 'staple', 'star', 'starbound', 'starbrand', 'starbucks', 'starcade', 'starngely', 'start', 'started', 'starter', 'starters', 'startle', 'starvation', 'starve', 'stasi', 'state', 'stated', 'statement', 'statesman', 'static', 'stating', 'station', 'stationary', 'statistic', 'statistical', 'statistically', 'statists', 'stats', 'statscan', 'stature', 'statured', 'status', 'statute', 'stavro', 'stay', 'stayincute', 'stbartholomeus', 'stead', 'steadycam', 'steal', 'stealth', 'stealthepiscopalian', 'steam', 'steed', 'steel', 'steele', 'steer', 'stefan', 'stefani', 'stefansdottir', 'steffen', 'steiner', 'steinitz', 'stem', 'step', 'stephan', 'steppes', 'stereotype', 'stereotypical', 'stereotypically', 'sterling', 'stern', 'steroid', 'steve', 'stevecyberbunny', 'steven', 'stew', 'stewart', 'stfu', 'sthenelaidas', 'stick', 'stickied', 'sticking', 'stickler', 'stifle', 'stigma', 'stiking', 'still', 'stiller', 'stillstanding', 'sting', 'stingray', 'stink', 'stint', 'stir', 'stirrer', 'stitch', 'stjepan', 'stock', 'stockbroking', 'stockhausen', 'stodart', 'stomach', 'stomp', 'stomped', 'stone', 'stooge', 'stoopid', 'stop', 'stordeur', 'store', 'storey', 'storm', 'storrington', 'stortford', 'story', 'storyline', 'storyteller', 'stpaul', 'straddle', 'straggly', 'stragity', 'straight', 'straigt', 'strand', 'strange', 'strangeness', 'stranger', 'strangle', 'strap', 'stratagem', 'strategic', 'strategy', 'stratfordian', 'strats', 'stratum', 'strava', 'straw', 'strawman', 'stray', 'stream', 'streamer', 'streamline', 'street', 'strenght', 'strength', 'strengthen', 'stress', 'stretch', 'strict', 'strictly', 'strident', 'strike', 'strikeout', 'strikingly', 'string', 'stringent', 'strip', 'stripe', 'strive', 'stroke', 'strong', 'strongly', 'struck', 'structural', 'structure', 'struggle', 'stryper', 'stuart', 'stub', 'stubb', 'stubborn', 'stubbornness', 'stubby', 'stubes', 'stubs', 'stuck', 'student', 'studio', 'studion', 'study', 'stuff', 'stukach', 'stumble', 'stun', 'stunt', 'stupid', 'stupidity', 'stupidly', 'stupydbitch', 'styker', 'style', 'styled', 'stylistics', 'stymie', 'stynx', 'su', 'sub', 'subcategory', 'subcontinent', 'subculture', 'subdivide', 'subdivision', 'subdue', 'subfamily', 'subfield', 'subgenius', 'subgroup', 'subisidiary', 'subject', 'subjective', 'subjectivity', 'subjectsaufderheide', 'submission', 'submit', 'submitting', 'subordinate', 'subpage', 'subpages', 'subpolls', 'subscription', 'subsection', 'subsects', 'subsequent', 'subsequently', 'subset', 'subsidiary', 'subst', 'substance', 'substantial', 'substantially', 'substantiate', 'substantiative', 'substantive', 'substitute', 'substitution', 'subterfuge', 'subtitle', 'subtle', 'suburb', 'succeed', 'succesful', 'succesor', 'success', 'successful', 'successfully', 'succession', 'successor', 'succinct', 'suck', 'sucka', 'sucker', 'suckgrawp', 'suckkkkkkkkkkkkkkk', 'sudan', 'sudden', 'suddenly', 'sudhra', 'sudomonas', 'sudoris', 'sue', 'suffer', 'sufferer', 'suffice', 'sufficient', 'sufficiently', 'suffix', 'sufi', 'sugar', 'suggest', 'suggested', 'suggesting', 'suggestion', 'suggests', 'suicidal', 'suicide', 'suit', 'suitability', 'suitable', 'suite', 'suitn', 'suk', 'sukecchi', 'suleiman', 'suleyman', 'sullivan', 'sultan', 'sultana', 'sultanzade', 'sum', 'sumatra', 'sumatran', 'summable', 'summaries', 'summarise', 'summarises', 'summarization', 'summarize', 'summary', 'summer', 'summery', 'summit', 'summon', 'sun', 'sunasuttuq', 'sunday', 'sungur', 'sunlight', 'sunnahcom', 'sunni', 'sunset', 'sunshine', 'suorce', 'supcom', 'super', 'supercar', 'supercarrier', 'superficial', 'superinjunction', 'superior', 'superiority', 'supermarket', 'supermodel', 'supernatural', 'supernova', 'superpower', 'supersede', 'supervise', 'supervision', 'supose', 'supplied', 'supplier', 'supply', 'support', 'supported', 'supporter', 'supporters', 'supporthogbin', 'supportive', 'suppose', 'supposedly', 'suppossed', 'suppress', 'suppressed', 'suppression', 'supremacist', 'supremacy', 'supreme', 'suprised', 'suraj', 'sure', 'surely', 'surface', 'surge', 'surgery', 'suri', 'surmise', 'surmised', 'surname', 'suro', 'surpass', 'surprise', 'surprised', 'surprising', 'surreal', 'surrealist', 'surround', 'surroundings', 'survey', 'survivor', 'suspect', 'suspend', 'suspicion', 'suspiciouns', 'suspicious', 'suspiciously', 'sussex', 'sustain', 'sustainability', 'sustainable', 'sustenance', 'susteren', 'sutherland', 'sutherll', 'suzanne', 'sv', 'svd', 'sven', 'svg', 'swagger', 'swallow', 'swami', 'swamilive', 'swar', 'swarm', 'swartz', 'swastika', 'swat', 'swatjester', 'swaziland', 'swear', 'sweat', 'sweden', 'swedish', 'sweep', 'sweeping', 'sweet', 'swell', 'swift', 'swiftly', 'swing', 'switch', 'swoop', 'sword', 'swore', 'sworn', 'swt', 'sykes', 'sylheti', 'syllable', 'symbian', 'symbiosis', 'symbol', 'symbolically', 'symbolism', 'sympathetic', 'sympathize', 'sympathy', 'symptomatologythis', 'syn', 'synchronize', 'syndicalism', 'syndrome', 'synergistic', 'synogogue', 'synonymous', 'synopsis', 'syntax', 'synth', 'synthesis', 'synthesise', 'synthesize', 'syracuse', 'syria', 'syriac', 'syrian', 'syriaso', 'sysop', 'sysops', 'system', 'systematically', 'systemic', 'sytem', 'ta', 'tab', 'taba', 'tabfocus', 'tabi', 'tabkeep', 'table', 'tablets', 'tabremain', 'tabsolicit', 'tabtab', 'tabto', 'tabular', 'tabwimp', 'tack', 'tackle', 'tacky', 'tactic', 'tactical', 'tad', 'tafsirs', 'tag', 'tage', 'tagged', 'tagore', 'tags', 'tagteam', 'tahmima', 'taht', 'taib', 'tail', 'tainted', 'taipei', 'taiwan', 'tajik', 'takasaki', 'take', 'takenthank', 'takeshima', 'takesn', 'taking', 'tale', 'talent', 'talented', 'talib', 'taliban', 'talisman', 'talk', 'talkback', 'talkcontribs', 'talkedits', 'talkemail', 'talker', 'talkie', 'talkme', 'talkpage', 'talkstalk', 'tally', 'talmud', 'talus', 'tamil', 'tamilian', 'tamper', 'tandem', 'tang', 'tangential', 'tangentially', 'tank', 'tanker', 'tanthalas', 'tanto', 'taos', 'tape', 'tard', 'tardiness', 'target', 'tarikat', 'tariqabjotu', 'tarleton', 'tarttdonnajpg', 'tasco', 'task', 'taskforce', 'tasmania', 'tassignano', 'taste', 'tatar', 'tatlisi', 'tattoo', 'tau', 'taught', 'taunt', 'tavastia', 'tawaraya', 'tawhid', 'tax', 'taxonomically', 'taylor', 'tbh', 'tbjttdfzcltwfdutuag', 'tbsdy', 'tc', 'tcfa', 'tcm', 'te', 'tea', 'teach', 'teacher', 'teahouse', 'team', 'teams', 'teamworking', 'tear', 'tech', 'technical', 'technically', 'technique', 'technologically', 'technology', 'technopolis', 'tectonics', 'ted', 'tedious', 'teehan', 'teen', 'teeth', 'teh', 'tehbazzard', 'tekin', 'tel', 'telangana', 'telecommunication', 'telegraph', 'telekinetic', 'telekom', 'telenovela', 'telenovelas', 'telephone', 'telescope', 'telesiege', 'television', 'tell', 'telling', 'temasek', 'temihill', 'temp', 'temper', 'tempera', 'temperature', 'templarion', 'template', 'templated', 'templatename', 'templates', 'temple', 'temporality', 'temporarily', 'temporary', 'tempt', 'temptation', 'ten', 'tenancy', 'tend', 'tendancy', 'tendency', 'tendentious', 'tends', 'tenebrae', 'tennis', 'tens', 'tense', 'tentacle', 'tenth', 'tenuous', 'ter', 'teresa', 'terisoaio', 'term', 'termed', 'terminal', 'terminate', 'terminator', 'terminology', 'terrace', 'terre', 'terrible', 'terribly', 'territories', 'territory', 'terror', 'terrorism', 'terrorist', 'terroristism', 'terrorizer', 'terry', 'terryeo', 'terse', 'tertiary', 'test', 'testicle', 'testimony', 'tether', 'tetrad', 'tetrads', 'texas', 'text', 'textbook', 'textile', 'textme', 'texts', 'tf', 'tg', 'tgif', 'th', 'thailand', 'thakral', 'than', 'thank', 'thankful', 'thankfully', 'thankless', 'thanks', 'thar', 'that', 'thatcher', 'thatoh', 'thatps', 'thats', 'thay', 'thc', 'the', 'theat', 'theatre', 'theclassb', 'theft', 'their', 'theistic', 'them', 'thematic', 'themc', 'theme', 'themetallican', 'themselves', 'themthey', 'then', 'theo', 'theocracy', 'theodicy', 'theologian', 'theological', 'theology', 'theoretical', 'theoretically', 'theorists', 'theory', 'theough', 'therapist', 'therapy', 'there', 'thereby', 'theredpenofdoom', 'therefor', 'therefore', 'therein', 'thereof', 'theres', 'thereto', 'thermal', 'theron', 'thesis', 'thesprotia', 'thet', 'they', 'thick', 'thie', 'thief', 'thier', 'thikn', 'thin', 'thincat', 'thine', 'thing', 'thingas', 'think', 'thinker', 'thinkin', 'thinking', 'third', 'thirdly', 'thirteen', 'thirty', 'thiruvananthapuram', 'this', 'thn', 'thnk', 'thnx', 'tho', 'thomas', 'thome', 'thompson', 'thon', 'thorn', 'thorough', 'thoroughbred', 'thoroughly', 'though', 'thought', 'thoughtful', 'thousand', 'thrace', 'thraco', 'thread', 'threat', 'threaten', 'threatened', 'threatning', 'threats', 'threatsno', 'three', 'threshold', 'thrill', 'thrillin', 'thrive', 'throat', 'throne', 'throng', 'throughout', 'throw', 'throway', 'thrown', 'thru', 'thrust', 'thsq', 'thtp', 'thuc', 'thucydides', 'thumb', 'thumbnail', 'thumbnails', 'thurber', 'thurst', 'thus', 'thx', 'thxthx', 'tiananmen', 'tibbit', 'tibet', 'tibetan', 'tichborne', 'ticket', 'tidal', 'tidbit', 'tide', 'tidy', 'tie', 'tiffany', 'tighar', 'tight', 'tighten', 'tilde', 'till', 'tilt', 'tim', 'time', 'timehe', 'timeline', 'timeout', 'timestamp', 'timid', 'timidity', 'timing', 'timmy', 'timothy', 'timur', 'tin', 'tina', 'tint', 'tiny', 'tinymud', 'tip', 'tipoff', 'tiptoety', 'tirade', 'tire', 'tired', 'tireless', 'tirelessly', 'tiresome', 'tirmidhi', 'tison', 'tissue', 'tit', 'tite', 'title', 'titleblacklist', 'titleskream', 'titt', 'tkul', 'tl', 'tldr', 'tm', 'tmeda', 'tmp', 'tmw', 'tna', 'tnt', 'to', 'toad', 'tobias', 'tobut', 'toc', 'tocris', 'today', 'todayrest', 'todd', 'toddler', 'toddst', 'tofanelli', 'together', 'toilet', 'token', 'tokkan', 'tokyogirl', 'toland', 'told', 'tolerance', 'tolerate', 'tolerence', 'toll', 'tom', 'tomasin', 'tomb', 'tome', 'tomes', 'tomorrow', 'ton', 'tone', 'tonga', 'tongue', 'tonight', 'tonxxx', 'tony', 'tool', 'toolbar', 'toolbox', 'toolscom', 'toolserver', 'toomy', 'toonami', 'toot', 'top', 'topcs', 'topic', 'topics', 'toponym', 'toponyms', 'tor', 'torah', 'torch', 'torlist', 'tornado', 'toronto', 'toros', 'torreblanca', 'torreo', 'torsion', 'torture', 'tory', 'toss', 'tosser', 'total', 'totalitarian', 'totalitarianism', 'totalitariansm', 'totally', 'touch', 'tough', 'tour', 'touretzky', 'tourist', 'tournai', 'tournament', 'tourniquet', 'tow', 'toward', 'towards', 'towel', 'tower', 'town', 'towns', 'townspeople', 'toy', 'toys', 'tp', 'tparis', 'tpo', 'tprg', 'trace', 'traceable', 'track', 'traction', 'tradation', 'trade', 'tradition', 'traditional', 'traditionally', 'traduction', 'traffic', 'trafficator', 'trafficker', 'tragedy', 'tragic', 'trailer', 'train', 'trained', 'trainer', 'trainerseverything', 'training', 'trait', 'tramiel', 'trample', 'trangression', 'tranny', 'transcluded', 'transclusion', 'transcoding', 'transcript', 'transfer', 'transference', 'transformer', 'transgender', 'transgression', 'transit', 'transition', 'transitional', 'translate', 'translated', 'translates', 'translation', 'transliteration', 'transmit', 'transmitidas', 'transmitter', 'transparent', 'transphobia', 'transpired', 'transport', 'transportation', 'transsexual', 'trap', 'traps', 'trash', 'trata', 'traumatise', 'travel', 'travesty', 'tread', 'treasure', 'treasury', 'treat', 'treated', 'treatment', 'treaty', 'tree', 'trek', 'tremendous', 'trend', 'trendies', 'trentino', 'treptower', 'trequests', 'trespass', 'tri', 'trial', 'trialware', 'triangle', 'tribal', 'tribe', 'tribes', 'tribethe', 'tribune', 'tribute', 'trick', 'tricked', 'trickery', 'tricky', 'tried', 'trigger', 'trikuta', 'trim', 'trimethylamine', 'trip', 'triple', 'triplet', 'triplets', 'tripod', 'trish', 'triton', 'triumphant', 'triumphantly', 'trivia', 'trivial', 'triviality', 'trivially', 'triz', 'trojan', 'troling', 'troll', 'tronco', 'troop', 'trop', 'tropical', 'tropicanising', 'trotsky', 'trouble', 'troubled', 'troublemaker', 'troublesome', 'troubling', 'trough', 'trouser', 'trout', 'trowulan', 'trpod', 'truble', 'truce', 'trucker', 'true', 'truely', 'truesilver', 'trulli', 'truly', 'trump', 'trumpet', 'trunk', 'trust', 'trustworthy', 'truth', 'truthful', 'truththese', 'try', 'ts', 'tsade', 'tsai', 'tskhinvali', 'tsktsk', 'tsm', 'tsuki', 'tsushima', 'tt', 'ttfn', 'tu', 'tube', 'tubefeeding', 'tubemogul', 'tubize', 'tucky', 'tudor', 'tuesday', 'tulip', 'tumble', 'tumor', 'tune', 'tunisia', 'tunnel', 'tuong', 'turabian', 'turan', 'turd', 'turin', 'turk', 'turkey', 'turkic', 'turkish', 'turkoman', 'turn', 'turned', 'turner', 'tutored', 'tutorial', 'tuyo', 'tv', 'tvrtko', 'twat', 'tweak', 'tweed', 'tweedle', 'tween', 'tweet', 'twelve', 'twenty', 'twice', 'twin', 'twinkle', 'twist', 'twisted', 'twitchy', 'twitter', 'twittercom', 'two', 'txt', 'tyires', 'tyke', 'tyldesley', 'type', 'typeface', 'typhlosaurus', 'typical', 'typically', 'typin', 'typing', 'typo', 'typography', 'typos', 'tyranny', 'tyrol', 'tz', 'ua', 'uaa', 'uae', 'uaed', 'uber', 'ubercryxic', 'ubermenschen', 'ubuntforums', 'uc', 'uchaguzi', 'ucla', 'ucw', 'udekimenage', 'udnerstand', 'uefa', 'ufc', 'ufg', 'uge', 'ugh', 'ugly', 'ugugugugugugug', 'uh', 'uhh', 'uhm', 'uifkearca', 'uk', 'uke', 'ukip', 'ukraine', 'ukrainian', 'ulikely', 'ulman', 'ultimate', 'ultimately', 'ultra', 'ultrasonics', 'um', 'umbrella', 'umm', 'umpire', 'umpteenth', 'umsomekindofendinghere', 'un', 'una', 'unable', 'unabridged', 'unacceptable', 'unaccepted', 'unambiguous', 'unambiguously', 'unanimously', 'unanswered', 'unarmed', 'unassessed', 'unattributed', 'unauthorised', 'unauthorized', 'unaware', 'unbalanced', 'unban', 'unbanned', 'unbiased', 'unbiasedly', 'unblock', 'unblocked', 'unblockeddiff', 'unblocking', 'unblockthe', 'unboxing', 'uncalled', 'uncanny', 'uncertain', 'uncertainly', 'uncertainty', 'uncharitable', 'unchosen', 'uncited', 'uncivil', 'uncle', 'unclear', 'uncomfirmed', 'uncompromising', 'unconditional', 'unconfirmed', 'unconnected', 'unconstructive', 'uncontributed', 'undamaged', 'unde', 'undecided', 'undelete', 'undeleting', 'undeniable', 'undent', 'under', 'underclass', 'underestimate', 'underestimated', 'undergo', 'undergraduate', 'underlie', 'underlying', 'undermine', 'underneath', 'underpinnings', 'underrated', 'underscored', 'understand', 'understandable', 'understandble', 'understanding', 'understandings', 'understands', 'understate', 'understood', 'undertake', 'undertaken', 'underway', 'underwood', 'undid', 'undisclosed', 'undiscussed', 'undo', 'undocumented', 'undoes', 'undoing', 'undone', 'undoubtedly', 'undue', 'unduly', 'unearthly', 'uneditable', 'uneducated', 'unemployed', 'unencelopedic', 'unencyclopaedic', 'unencyclopedic', 'unesco', 'unethical', 'unethically', 'uneventful', 'unexceptionable', 'unexistence', 'unexpected', 'unexploded', 'unexplored', 'unfactual', 'unfair', 'unfairly', 'unfamiliar', 'unfavorable', 'unfementalited', 'unfit', 'unfold', 'unforeseen', 'unfortunate', 'unfortunately', 'unfortunatly', 'unfounded', 'unfree', 'ungraceful', 'ungrateful', 'unhappy', 'unhealthily', 'unhelpful', 'unholy', 'unicode', 'unident', 'unidentified', 'uniformly', 'unify', 'unilateral', 'unilaterally', 'unimportant', 'unincorporated', 'uninformative', 'uninformed', 'uninhabitable', 'uninitiated', 'unintelligible', 'unintended', 'unintentional', 'uninvolved', 'union', 'unionist', 'unionization', 'unique', 'uniquely', 'unit', 'unite', 'unitech', 'united', 'universal', 'universally', 'universe', 'universeall', 'universehe', 'universehis', 'university', 'unix', 'unjust', 'unjustifiably', 'unjustified', 'unjustly', 'unkindness', 'unknown', 'unless', 'unlicensed', 'unlike', 'unlikely', 'unlink', 'unlock', 'unlocked', 'unlogical', 'unlucky', 'unmarked', 'unmentioned', 'unmodern', 'unnamed', 'unnecassery', 'unnecessarily', 'unnecessaru', 'unnecessary', 'unneeded', 'unneedlessly', 'unnescesary', 'unnessary', 'unnotable', 'unnoticeable', 'unnoticed', 'unobjectively', 'unofficial', 'unpleasant', 'unpopular', 'unpopularity', 'unprecize', 'unpredictable', 'unproductive', 'unprofessional', 'unprofessionality', 'unprotect', 'unpublished', 'unpunished', 'unqualified', 'unravel', 'unreadable', 'unreal', 'unrealistic', 'unreasonable', 'unreasonably', 'unrecognized', 'unreferenced', 'unregistered', 'unrel', 'unrelated', 'unreleased', 'unreliable', 'unreservedly', 'unrest', 'unrevealed', 'unrevert', 'unsavory', 'unscientific', 'unscientifical', 'unseen', 'unsigned', 'unsolved', 'unsourced', 'unspecified', 'unstressed', 'unsubstantiated', 'unsuccessful', 'unsuccessfully', 'unsupportable', 'unsupported', 'unsure', 'unsustainable', 'unsustainably', 'untagged', 'untainted', 'untenable', 'untitled', 'untouched', 'untraceable', 'untrue', 'untruth', 'untruthly', 'unused', 'unusual', 'unverified', 'unwanted', 'unwarranted', 'unwashed', 'unwelcome', 'unwieldy', 'unwilling', 'unworthy', 'up', 'upcoming', 'update', 'updated', 'updating', 'upgrade', 'upheld', 'upload', 'uploaded', 'uploader', 'uploading', 'upon', 'upper', 'upping', 'uprise', 'ups', 'upsampling', 'upset', 'upside', 'upstanding', 'upstate', 'upstater', 'upstream', 'upto', 'uqaqtuq', 'ur', 'ural', 'urantia', 'urbain', 'urban', 'urbandictionary', 'urbanski', 'urdu', 'urge', 'urgency', 'url', 'urls', 'ursa', 'urself', 'us', 'usa', 'usable', 'usaf', 'usage', 'usama', 'usc', 'usd', 'use', 'used', 'useful', 'usefull', 'usefulness', 'useless', 'user', 'userbox', 'userboxes', 'userification', 'userified', 'username', 'usernames', 'userpage', 'userspace', 'usertalk', 'uses', 'ushe', 'usmc', 'usn', 'ussr', 'ust', 'usual', 'usually', 'usuario', 'usurp', 'utah', 'utc', 'utf', 'uthbelow', 'utilize', 'utilized', 'utmost', 'utopianism', 'utorrant', 'utter', 'utterly', 'vacate', 'vacation', 'vacuum', 'vacuumbrain', 'vague', 'vaishnava', 'vaishnavism', 'vaishnavite', 'valdivia', 'valencians', 'valent', 'valentino', 'valerie', 'valerosos', 'valeur', 'valid', 'validate', 'validation', 'validity', 'valley', 'valmiki', 'valorosos', 'valuable', 'value', 'vampire', 'van', 'vanadalising', 'vanbrugh', 'vand', 'vandal', 'vandalise', 'vandalised', 'vandaliser', 'vandalising', 'vandalism', 'vandalisng', 'vandalisom', 'vandalization', 'vandalize', 'vandalized', 'vandalizel', 'vandalizing', 'vandalous', 'vandalproof', 'vandebergh', 'vandelism', 'vanderlism', 'vanderlsing', 'vandilization', 'vangent', 'vanity', 'vanjagenije', 'vantoura', 'vanuatu', 'vaquero', 'variable', 'variant', 'variation', 'varied', 'variety', 'varios', 'various', 'varity', 'varna', 'vary', 'vascoiberismo', 'vast', 'vastly', 'vatican', 'vaughn', 'vauxhall', 've', 'vector', 'ved', 'veer', 'vegetarian', 'vegkilla', 'vehicle', 'vein', 'velociraptor', 'velocity', 'velten', 'velvet', 'vendetta', 'vendor', 'venerability', 'venezuela', 'vengence', 'vengo', 'venom', 'vent', 'ventu', 'venture', 'venue', 'venus', 'veracity', 'verano', 'verb', 'verbal', 'verbatim', 'verbose', 'verbosity', 'verbs', 'verdict', 'verdy', 'verfied', 'verge', 'verifable', 'verifiability', 'verifiable', 'verification', 'verified', 'verify', 'verison', 'vermont', 'verne', 'vernet', 'versa', 'verse', 'version', 'versus', 'verte', 'vertical', 'vertically', 'verus', 'very', 'vesey', 'vessel', 'vest', 'vet', 'veterinary', 'veto', 'vexatious', 'vfd', 'vga', 'via', 'vic', 'vicar', 'vice', 'vicious', 'vickers', 'vicksburg', 'victem', 'victim', 'victimhood', 'victimisation', 'victimise', 'victimologist', 'victor', 'victoria', 'victorious', 'victory', 'vid', 'video', 'videogame', 'videology', 'videos', 'vietnam', 'view', 'viewdelee', 'viewed', 'viewer', 'viewfinder', 'viewfromoldankarajpg', 'viewpoint', 'viewshed', 'viewtool', 'vigilant', 'vigilantism', 'vii', 'viii', 'viktor', 'vilayet', 'vile', 'village', 'villarroel', 'villena', 'villian', 'villianizing', 'vince', 'vincent', 'vincenzo', 'vinegar', 'vio', 'violate', 'violates', 'violating', 'violation', 'violator', 'violence', 'violent', 'violently', 'violetriga', 'violin', 'viral', 'virgil', 'virgin', 'virginia', 'virgnia', 'viridae', 'virilize', 'virini', 'virtual', 'virtually', 'virtuous', 'virulently', 'virus', 'visa', 'vishal', 'vishnu', 'vishvamitra', 'visibility', 'visible', 'vision', 'visit', 'visitor', 'visser', 'vista', 'visted', 'visual', 'visually', 'visuals', 'vita', 'vital', 'vitamin', 'vithoba', 'vitriol', 'vitthal', 'viva', 'vivat', 'viz', 'vlaams', 'vms', 'vn', 'vocabulary', 'vocal', 'vocalist', 'vodka', 'vogue', 'voice', 'void', 'voigt', 'vol', 'volatile', 'volcano', 'voltage', 'volume', 'volumes', 'voluntarily', 'voluntary', 'volunteer', 'vonderplanitz', 'voodoo', 'vorangor', 'vote', 'voted', 'voter', 'voting', 'vowel', 'voyage', 'voyager', 'vp', 'vpr', 'vrba', 'vs', 'vt', 'vtabpaste', 'vuia', 'vul', 'vulnerable', 'vulture', 'vulturejpg', 'wa', 'waa', 'waalo', 'wack', 'wackernagel', 'wacky', 'wad', 'wade', 'waf', 'waffle', 'wafty', 'wage', 'wahahhahaahah', 'waheguru', 'wahhabi', 'wahl', 'wais', 'wait', 'waitu', 'wake', 'wakka', 'waldorf', 'wale', 'wales', 'wali', 'walk', 'walking', 'walks', 'wall', 'wallace', 'wallin', 'wallis', 'wallonia', 'walrus', 'walsh', 'walt', 'walter', 'walton', 'wan', 'wander', 'wanganui', 'wanker', 'wannabe', 'want', 'wanted', 'wanting', 'wantit', 'waop', 'war', 'warcraft', 'ward', 'ware', 'warez', 'warhol', 'warm', 'warming', 'warmongering', 'warn', 'warning', 'warp', 'warrant', 'warren', 'warring', 'warrior', 'warsaw', 'wart', 'wartime', 'warts', 'wash', 'washigton', 'washington', 'wasnt', 'wasp', 'wasse', 'wasste', 'waste', 'wasted', 'wasteful', 'watch', 'watchdog', 'watchdogs', 'watched', 'watchfulness', 'watching', 'watchlist', 'watchman', 'watchtower', 'water', 'watercolor', 'waterloo', 'waterlooroadcouk', 'waterlooroadtv', 'waterwho', 'watson', 'watsonville', 'watt', 'watts', 'waugh', 'wave', 'wavelength', 'waward', 'way', 'wayne', 'wazir', 'wbc', 'wbob', 'wc', 'wdansey', 'wdpk', 'we', 'wea', 'weak', 'weaker', 'weakly', 'weakness', 'weal', 'wealth', 'wealthy', 'weapon', 'weaponization', 'wear', 'weary', 'weasel', 'weather', 'weatherman', 'web', 'webcomic', 'weberian', 'webforums', 'webhamster', 'webluis', 'webpage', 'webpages', 'webscriptions', 'webshop', 'website', 'websites', 'webspace', 'webster', 'wed', 'wedge', 'wee', 'weed', 'weee', 'week', 'weekdays', 'weekend', 'weekendnet', 'weekly', 'weenrdood', 'weep', 'wehwalt', 'weigh', 'weight', 'weighted', 'weird', 'weirdly', 'weirdo', 'welcome', 'weld', 'welfare', 'well', 'wen', 'wendy', 'werd', 'werent', 'wescombe', 'wesite', 'wesnoth', 'wessex', 'west', 'westerfield', 'western', 'westfalen', 'westminster', 'wet', 'wetland', 'wgbh', 'wghof', 'wha', 'whaaat', 'whale', 'whaler', 'whaling', 'what', 'whatever', 'whatport', 'whats', 'whatsoever', 'wheatley', 'wheaton', 'wheel', 'wheeler', 'when', 'whence', 'whenever', 'where', 'whereas', 'wherein', 'whether', 'whhore', 'which', 'whichever', 'whig', 'whigs', 'whilst', 'whim', 'whine', 'whining', 'whiny', 'whipp', 'whisper', 'whistle', 'whit', 'white', 'whitelaw', 'whitewash', 'whitey', 'whitney', 'whoa', 'whoever', 'whoipedia', 'whois', 'whole', 'wholeheartedly', 'wholesale', 'wholeworldcalendar', 'wholly', 'whomever', 'whoop', 'whore', 'whose', 'whot', 'whovians', 'why', 'whya', 'wiaga', 'wich', 'wicked', 'wickwack', 'wide', 'widely', 'widen', 'wider', 'widespread', 'width', 'wife', 'wigan', 'wiggy', 'wiht', 'wii', 'wiiwee', 'wikepdia', 'wikepedia', 'wikia', 'wikiadmins', 'wikiarticles', 'wikibofh', 'wikibots', 'wikibreak', 'wikicommons', 'wikicrats', 'wikid', 'wikiediting', 'wikifan', 'wikifascist', 'wikified', 'wikifun', 'wikify', 'wikiislam', 'wikilink', 'wikilinked', 'wikilinking', 'wikilinks', 'wikilove', 'wikimapia', 'wikimeddlers', 'wikimedia', 'wikimedian', 'wikimedians', 'wikimediaorg', 'wikimurder', 'wikininja', 'wikipaedophile', 'wikipeadia', 'wikiped', 'wikipedai', 'wikipedian', 'wikipedians', 'wikipediaorg', 'wikipedias', 'wikipediathank', 'wikipedio', 'wikipediocracy', 'wikipeida', 'wikipolicy', 'wikippedia', 'wikiproject', 'wikiprojects', 'wikiquette', 'wikiquote', 'wikis', 'wikisky', 'wikisource', 'wikistalking', 'wikistatute', 'wikitable', 'wikitext', 'wikivoyages', 'wikpedia', 'wild', 'wildlife', 'wildly', 'wile', 'wilfried', 'wilhelm', 'wilki', 'wilkinson', 'will', 'willfully', 'william', 'williamson', 'willie', 'willin', 'willing', 'willingly', 'willis', 'willmcw', 'willpower', 'wilma', 'wilson', 'wimp', 'win', 'winchester', 'wind', 'window', 'windows', 'winehouse', 'wing', 'winger', 'wingspan', 'winkler', 'winner', 'winnipeg', 'winslet', 'winter', 'wipe', 'wipedia', 'wipro', 'wiring', 'wisconsin', 'wisdom', 'wise', 'wisemen', 'wish', 'wished', 'wit', 'witch', 'witchcraft', 'with', 'withdraw', 'withdrawal', 'within', 'withouit', 'without', 'withstand', 'witness', 'witwatersrand', 'wiu', 'wizard', 'wjbscribe', 'wjz', 'wlad', 'wlaf', 'wll', 'wlu', 'wm', 'wma', 'wmc', 'wmf', 'wn', 'wnba', 'wnci', 'wo', 'wobbs', 'woefully', 'wolf', 'wolfgang', 'wolfowitz', 'wolfram', 'wolof', 'wolverine', 'woman', 'wombat', 'wonder', 'wonderful', 'wondering', 'wont', 'woo', 'wood', 'wooden', 'wool', 'woops', 'worcs', 'word', 'wording', 'worht', 'work', 'worker', 'worki', 'workpage', 'workshop', 'world', 'worldly', 'worlds', 'worldwide', 'wormtt', 'worn', 'worried', 'worry', 'worse', 'worshipthisbitchjpg', 'worst', 'worth', 'worthless', 'worthwhile', 'worthy', 'woth', 'would', 'wouldnt', 'wound', 'wounded', 'woven', 'wow', 'wpdc', 'wperdue', 'wpm', 'wprr', 'wpus', 'wqa', 'wrad', 'wrangling', 'wrap', 'wreck', 'wreckage', 'wrecked', 'wrestle', 'wrestlemania', 'wrestling', 'wright', 'wrist', 'wristwatch', 'write', 'writer', 'writes', 'writin', 'writing', 'writnig', 'wrong', 'wrongful', 'wrongly', 'ws', 'wsop', 'wt', 'wtf', 'wtps', 'wtt', 'wurzels', 'ww', 'wwe', 'wwgb', 'wwi', 'wwii', 'wwwdiva', 'wwweuropean', 'wwwinter', 'wwwnetwork', 'wyatt', 'wynton', 'xandar', 'xav', 'xbox', 'xd', 'xena', 'xenia', 'xeno', 'xenogenesis', 'xenophobia', 'xera', 'xeraflops', 'xii', 'xkcd', 'xli', 'xmas', 'xmitter', 'xp', 'xtabcut', 'xue', 'xxiv', 'xxv', 'xxx', 'xxxx', 'xyz', 'ya', 'yaccov', 'yada', 'yadav', 'yadava', 'yadavas', 'yadavs', 'yadu', 'yah', 'yahoo', 'yahud', 'yajurveda', 'yale', 'yalre', 'yamla', 'yandman', 'yank', 'yankee', 'yannes', 'yanukovich', 'yapyap', 'yarn', 'yasin', 'yassie', 'yawn', 'yay', 'yea', 'yeah', 'year', 'yearbook', 'yeasterday', 'yeats', 'yec', 'yechieljpg', 'yechielman', 'yeezus', 'yeh', 'yell', 'yellow', 'yellowish', 'yemeni', 'yep', 'yer', 'yerevantsi', 'yes', 'yesterday', 'yesugan', 'yet', 'yeti', 'yfayour', 'yield', 'ykk', 'yknow', 'yli', 'ynyfrikgooglepagescom', 'yo', 'yobot', 'yoga', 'yogananda', 'yon', 'yooioooooooooooooooooooooooooooooooou', 'yopie', 'york', 'yorkers', 'yorkshire', 'yoru', 'yoself', 'yoshi', 'you', 'youhave', 'youir', 'youn', 'young', 'youngster', 'youre', 'yourelf', 'yourself', 'yourselvers', 'yous', 'youth', 'youtube', 'youuuuuu', 'yr', 'ysgol', 'yt', 'ytmnd', 'yu', 'yuber', 'yuck', 'yuen', 'yugoslav', 'yugoslavia', 'yuji', 'yulun', 'yume', 'yunshui', 'yunus', 'yup', 'yupik', 'yusof', 'yusra', 'yyou', 'yyyy', 'zach', 'zachinthebox', 'zadora', 'zafarnamah', 'zafer', 'zaik', 'zakir', 'zamudio', 'zanzi', 'zaolzie', 'zap', 'zapp', 'zapruder', 'zara', 'zarove', 'zawichost', 'zaya', 'ze', 'zealand', 'zealander', 'zealot', 'zealous', 'zeke', 'zeno', 'zero', 'zervas', 'zeta', 'zh', 'zhan', 'zhang', 'zhanzhao', 'zhao', 'zheng', 'zhwikipedia', 'zietlow', 'zilinski', 'zines', 'zionism', 'zionist', 'zippymarmalade', 'zis', 'zitz', 'ziya', 'zltan', 'zmjb', 'zocky', 'zoey', 'zombie', 'zondervan', 'zondervantalk', 'zone', 'zoo', 'zoological', 'zouavman', 'zoubabela', 'zpass', 'zt', 'zubaer', 'zubair', 'zubaty', 'zx']\n"
     ]
    }
   ],
   "source": [
    "print(tfidf_model.get_feature_names())"
   ]
  },
  {
   "cell_type": "code",
   "execution_count": 41,
   "metadata": {},
   "outputs": [
    {
     "name": "stdout",
     "output_type": "stream",
     "text": [
      "[[0. 0. 0. ... 0. 0. 0.]\n",
      " [0. 0. 0. ... 0. 0. 0.]\n",
      " [0. 0. 0. ... 0. 0. 0.]\n",
      " ...\n",
      " [0. 0. 0. ... 0. 0. 0.]\n",
      " [0. 0. 0. ... 0. 0. 0.]\n",
      " [0. 0. 0. ... 0. 0. 0.]]\n"
     ]
    }
   ],
   "source": [
    "print(X_train_vec.todense())"
   ]
  },
  {
   "cell_type": "code",
   "execution_count": 42,
   "metadata": {},
   "outputs": [],
   "source": [
    "X_test_vec = tfidf_model.transform(X_test)"
   ]
  },
  {
   "cell_type": "code",
   "execution_count": 43,
   "metadata": {},
   "outputs": [],
   "source": [
    "X_vec = tfidf_model.transform(X)"
   ]
  },
  {
   "cell_type": "code",
   "execution_count": 44,
   "metadata": {},
   "outputs": [
    {
     "name": "stdout",
     "output_type": "stream",
     "text": [
      "14789\n"
     ]
    }
   ],
   "source": [
    "print(len(tfidf_model.get_feature_names()))"
   ]
  },
  {
   "cell_type": "markdown",
   "metadata": {},
   "source": [
    "## 7. Model building: Support Vector Machine\n",
    "\n",
    "1. Instantiate SVC from sklearn with a linear kernel\n",
    "2. Fit on the train data\n",
    "3. Make predictions for the train and the test set"
   ]
  },
  {
   "cell_type": "code",
   "execution_count": 54,
   "metadata": {},
   "outputs": [],
   "source": [
    "from sklearn.svm import SVC\n",
    "clf = SVC(kernel='linear', random_state=1)"
   ]
  },
  {
   "cell_type": "code",
   "execution_count": 55,
   "metadata": {},
   "outputs": [
    {
     "data": {
      "text/plain": [
       "SVC(kernel='linear', random_state=1)"
      ]
     },
     "execution_count": 55,
     "metadata": {},
     "output_type": "execute_result"
    }
   ],
   "source": [
    "clf.fit(X_train_vec, y_train)"
   ]
  },
  {
   "cell_type": "code",
   "execution_count": 56,
   "metadata": {},
   "outputs": [
    {
     "data": {
      "text/plain": [
       "array([0, 0, 0, ..., 0, 0, 0])"
      ]
     },
     "execution_count": 56,
     "metadata": {},
     "output_type": "execute_result"
    }
   ],
   "source": [
    "y_train_pred = clf.predict(X_train_vec)\n",
    "y_train_pred"
   ]
  },
  {
   "cell_type": "code",
   "execution_count": 57,
   "metadata": {},
   "outputs": [
    {
     "data": {
      "text/plain": [
       "array([0, 0, 0, ..., 0, 0, 0])"
      ]
     },
     "execution_count": 57,
     "metadata": {},
     "output_type": "execute_result"
    }
   ],
   "source": [
    "y_test_pred = clf.predict(X_test_vec)\n",
    "y_test_pred"
   ]
  },
  {
   "cell_type": "code",
   "execution_count": 58,
   "metadata": {},
   "outputs": [
    {
     "data": {
      "text/plain": [
       "98.25714285714285"
      ]
     },
     "execution_count": 58,
     "metadata": {},
     "output_type": "execute_result"
    }
   ],
   "source": [
    "clf.score(X_train_vec, y_train)*100"
   ]
  },
  {
   "cell_type": "code",
   "execution_count": 59,
   "metadata": {},
   "outputs": [
    {
     "data": {
      "text/plain": [
       "93.86666666666666"
      ]
     },
     "execution_count": 59,
     "metadata": {},
     "output_type": "execute_result"
    }
   ],
   "source": [
    "clf.score(X_test_vec, y_test)*100"
   ]
  },
  {
   "cell_type": "markdown",
   "metadata": {},
   "source": [
    "## 8. Model evaluation: Accuracy, recall, and f1_score\n",
    "\n",
    "1. Report the accuracy on the train set\n",
    "2. Report the recall on the train set:decent, high, low?\n",
    "3. Get the f1_score on the train set"
   ]
  },
  {
   "cell_type": "code",
   "execution_count": 60,
   "metadata": {},
   "outputs": [],
   "source": [
    "# import libraries for metrics and reporting\n",
    "from sklearn.metrics import classification_report\n",
    "from sklearn.metrics import accuracy_score"
   ]
  },
  {
   "cell_type": "code",
   "execution_count": 61,
   "metadata": {},
   "outputs": [
    {
     "data": {
      "text/plain": [
       "98.25714285714285"
      ]
     },
     "execution_count": 61,
     "metadata": {},
     "output_type": "execute_result"
    }
   ],
   "source": [
    "accuracy_score(y_train, y_train_pred)*100"
   ]
  },
  {
   "cell_type": "markdown",
   "metadata": {},
   "source": [
    "## As we observe above SVM classifier model accuracy for train data set is 98.22%"
   ]
  },
  {
   "cell_type": "code",
   "execution_count": 62,
   "metadata": {},
   "outputs": [
    {
     "name": "stdout",
     "output_type": "stream",
     "text": [
      "              precision    recall  f1-score   support\n",
      "\n",
      "           0       0.98      1.00      0.99      3194\n",
      "           1       1.00      0.80      0.89       306\n",
      "\n",
      "    accuracy                           0.98      3500\n",
      "   macro avg       0.99      0.90      0.94      3500\n",
      "weighted avg       0.98      0.98      0.98      3500\n",
      "\n"
     ]
    }
   ],
   "source": [
    "print(classification_report(y_train, clf.predict(X_train_vec)))"
   ]
  },
  {
   "cell_type": "markdown",
   "metadata": {},
   "source": [
    "### recall value for class '0' is 1 (very high) but for class '1' is 0.80 (very low compared to recall value for class 0).\n",
    "\n",
    "Similarly f1-score value for class '0' is 0.99 (very high) but for class '1' is 0.89 (low compared to recall value for class 0)."
   ]
  },
  {
   "cell_type": "code",
   "execution_count": 63,
   "metadata": {},
   "outputs": [
    {
     "name": "stdout",
     "output_type": "stream",
     "text": [
      "              precision    recall  f1-score   support\n",
      "\n",
      "           0       0.94      1.00      0.97      1369\n",
      "           1       0.90      0.34      0.49       131\n",
      "\n",
      "    accuracy                           0.94      1500\n",
      "   macro avg       0.92      0.67      0.73      1500\n",
      "weighted avg       0.94      0.94      0.93      1500\n",
      "\n"
     ]
    }
   ],
   "source": [
    "print(classification_report(y_test, clf.predict(X_test_vec)))"
   ]
  },
  {
   "cell_type": "markdown",
   "metadata": {},
   "source": [
    "### 9. Looks like you need to adjust the class imbalance, as the model seems to focus on the 0s\n",
    "\n",
    "Adjust the appropriate parameter in the SVC module\n",
    "Solution: REF: https://chrisalbon.com/code/machine_learning/support_vector_machines/imbalanced_classes_in_svm/\n",
    "\n",
    "In support vector machines, C is a hyperparameter determining the penalty for misclassifying an observation. One method for handling imbalanced classes in support vector machines is to weight C by classes, so that image.png where C is the penalty for misclassification, wj is a weight inversely proportional to class j’s frequency, and Cj is the C value for class j.\n",
    "\n",
    "The general idea is to increase the penalty for misclassifying minority classes to prevent them from being “overwhelmed” by the majority class. In scikit-learn, when using SVC we can set the values for Cj automatically by setting class_weight='balanced'. The balanced argument automatically weighs classes such that: image-2.png where wj is the weight to class j, n is the number of observations, nj is the number of observations in class j, and k is the total number of classes."
   ]
  },
  {
   "cell_type": "code",
   "execution_count": 64,
   "metadata": {},
   "outputs": [],
   "source": [
    "clf1 = SVC(kernel='linear', class_weight='balanced', random_state=1)"
   ]
  },
  {
   "cell_type": "markdown",
   "metadata": {},
   "source": [
    "### 10. Train again with the adjustment and evaluate\n",
    "\n",
    "1. Train the model on the train set\n",
    "2. Evaluate the predictions on the validation set: accuracy, recall, f1_score"
   ]
  },
  {
   "cell_type": "code",
   "execution_count": 65,
   "metadata": {},
   "outputs": [
    {
     "name": "stdout",
     "output_type": "stream",
     "text": [
      "              precision    recall  f1-score   support\n",
      "\n",
      "           0       1.00      1.00      1.00      3194\n",
      "           1       0.97      1.00      0.98       306\n",
      "\n",
      "    accuracy                           1.00      3500\n",
      "   macro avg       0.98      1.00      0.99      3500\n",
      "weighted avg       1.00      1.00      1.00      3500\n",
      "\n"
     ]
    }
   ],
   "source": [
    "clf1.fit(X_train_vec, y_train)\n",
    "print(classification_report(y_train, clf1.predict(X_train_vec)))"
   ]
  },
  {
   "cell_type": "code",
   "execution_count": 66,
   "metadata": {},
   "outputs": [
    {
     "name": "stdout",
     "output_type": "stream",
     "text": [
      "              precision    recall  f1-score   support\n",
      "\n",
      "           0       0.95      0.99      0.97      1369\n",
      "           1       0.74      0.43      0.54       131\n",
      "\n",
      "    accuracy                           0.94      1500\n",
      "   macro avg       0.84      0.71      0.75      1500\n",
      "weighted avg       0.93      0.94      0.93      1500\n",
      "\n"
     ]
    }
   ],
   "source": [
    "print(classification_report(y_test, clf1.predict(X_test_vec)))"
   ]
  },
  {
   "cell_type": "code",
   "execution_count": 67,
   "metadata": {},
   "outputs": [
    {
     "data": {
      "text/plain": [
       "99.68571428571428"
      ]
     },
     "execution_count": 67,
     "metadata": {},
     "output_type": "execute_result"
    }
   ],
   "source": [
    "accuracy_score(y_train, clf1.predict(X_train_vec))*100"
   ]
  },
  {
   "cell_type": "code",
   "execution_count": 68,
   "metadata": {},
   "outputs": [
    {
     "data": {
      "text/plain": [
       "93.66666666666667"
      ]
     },
     "execution_count": 68,
     "metadata": {},
     "output_type": "execute_result"
    }
   ],
   "source": [
    "clf1.score(X_test_vec, y_test)*100"
   ]
  },
  {
   "cell_type": "markdown",
   "metadata": {},
   "source": [
    "### We can see that after setting class_weight='balanced' our model performance has improved with better recall and f1-score\n",
    "\n",
    "11. Hyperparameter tuning\n",
    "\n",
    "1. Import GridSearch and StratifiedKFold (because of class imbalance)\n",
    "2. Provide the parameter grid to choose for ‘C’\n",
    "3. Use a balanced class weight while instantiating the Support Vector Classifier\n",
    "4. Solution: StratifiedKFolds is a cross-validator and provides train/test indices to split data in train/test sets. This cross-validation object is a variation of KFold that returns stratified folds. The folds are made by preserving the percentage of samples for each class."
   ]
  },
  {
   "cell_type": "code",
   "execution_count": 69,
   "metadata": {},
   "outputs": [],
   "source": [
    "from sklearn.model_selection import GridSearchCV"
   ]
  },
  {
   "cell_type": "code",
   "execution_count": 70,
   "metadata": {},
   "outputs": [],
   "source": [
    "clf2 = SVC(kernel='linear', class_weight='balanced', random_state=1)"
   ]
  },
  {
   "cell_type": "code",
   "execution_count": 72,
   "metadata": {},
   "outputs": [],
   "source": [
    "param_grid = {\n",
    "    'C':[1, 5, 10,15,20],\n",
    "    'gamma':[1, 0.1, 0.01, 0.001, 0.0001]\n",
    "}"
   ]
  },
  {
   "cell_type": "code",
   "execution_count": 73,
   "metadata": {},
   "outputs": [],
   "source": [
    "gs = GridSearchCV(estimator=clf2, param_grid=param_grid, cv=3)"
   ]
  },
  {
   "cell_type": "code",
   "execution_count": 74,
   "metadata": {},
   "outputs": [
    {
     "data": {
      "text/plain": [
       "GridSearchCV(cv=3,\n",
       "             estimator=SVC(class_weight='balanced', kernel='linear',\n",
       "                           random_state=1),\n",
       "             param_grid={'C': [1, 5, 10, 15, 20],\n",
       "                         'gamma': [1, 0.1, 0.01, 0.001, 0.0001]})"
      ]
     },
     "execution_count": 74,
     "metadata": {},
     "output_type": "execute_result"
    }
   ],
   "source": [
    "gs.fit(X_vec,y)"
   ]
  },
  {
   "cell_type": "code",
   "execution_count": 75,
   "metadata": {},
   "outputs": [
    {
     "data": {
      "text/plain": [
       "{'C': 1, 'gamma': 1}"
      ]
     },
     "execution_count": 75,
     "metadata": {},
     "output_type": "execute_result"
    }
   ],
   "source": [
    "gs.best_params_"
   ]
  },
  {
   "cell_type": "code",
   "execution_count": 76,
   "metadata": {},
   "outputs": [
    {
     "data": {
      "text/plain": [
       "94.65997556791163"
      ]
     },
     "execution_count": 76,
     "metadata": {},
     "output_type": "execute_result"
    }
   ],
   "source": [
    "gs.best_score_*100"
   ]
  },
  {
   "cell_type": "code",
   "execution_count": 77,
   "metadata": {},
   "outputs": [
    {
     "data": {
      "text/plain": [
       "{'mean_fit_time': array([0.92110761, 0.91179927, 0.9101545 , 0.90618992, 0.90737756,\n",
       "        0.74888738, 0.77188881, 0.76126146, 0.75625809, 0.76538094,\n",
       "        0.75381533, 0.75024414, 0.74842517, 0.7533745 , 0.75200208,\n",
       "        0.75517742, 0.75033768, 0.75031233, 0.75362659, 0.75630649,\n",
       "        0.75726755, 0.75782736, 0.75363056, 0.75844423, 0.7538956 ]),\n",
       " 'std_fit_time': array([0.01558106, 0.02150956, 0.01950446, 0.01932245, 0.02308706,\n",
       "        0.02127083, 0.0336396 , 0.01575221, 0.0208111 , 0.01987444,\n",
       "        0.02700045, 0.02891687, 0.02953183, 0.03433479, 0.03288582,\n",
       "        0.03767826, 0.03893531, 0.03825913, 0.0400423 , 0.03129704,\n",
       "        0.04374436, 0.0462819 , 0.04355755, 0.04165077, 0.04472135]),\n",
       " 'mean_score_time': array([0.39308755, 0.39321065, 0.39554755, 0.39401269, 0.3934346 ,\n",
       "        0.31908917, 0.3369813 , 0.32069516, 0.31901455, 0.32142727,\n",
       "        0.31346488, 0.31357932, 0.31249507, 0.31174278, 0.31472143,\n",
       "        0.3094066 , 0.30830065, 0.30985085, 0.31138031, 0.31169017,\n",
       "        0.31531525, 0.31112607, 0.30923319, 0.30926927, 0.31039611]),\n",
       " 'std_score_time': array([0.0013378 , 0.00114036, 0.00148687, 0.00087401, 0.00128423,\n",
       "        0.00233462, 0.01636247, 0.00271745, 0.00253505, 0.00328998,\n",
       "        0.00749241, 0.00938576, 0.00914097, 0.0093819 , 0.01014397,\n",
       "        0.01602094, 0.01470617, 0.01617729, 0.01444089, 0.01482709,\n",
       "        0.01033698, 0.01441872, 0.01596519, 0.01611771, 0.01608256]),\n",
       " 'param_C': masked_array(data=[1, 1, 1, 1, 1, 5, 5, 5, 5, 5, 10, 10, 10, 10, 10, 15,\n",
       "                    15, 15, 15, 15, 20, 20, 20, 20, 20],\n",
       "              mask=[False, False, False, False, False, False, False, False,\n",
       "                    False, False, False, False, False, False, False, False,\n",
       "                    False, False, False, False, False, False, False, False,\n",
       "                    False],\n",
       "        fill_value='?',\n",
       "             dtype=object),\n",
       " 'param_gamma': masked_array(data=[1, 0.1, 0.01, 0.001, 0.0001, 1, 0.1, 0.01, 0.001,\n",
       "                    0.0001, 1, 0.1, 0.01, 0.001, 0.0001, 1, 0.1, 0.01,\n",
       "                    0.001, 0.0001, 1, 0.1, 0.01, 0.001, 0.0001],\n",
       "              mask=[False, False, False, False, False, False, False, False,\n",
       "                    False, False, False, False, False, False, False, False,\n",
       "                    False, False, False, False, False, False, False, False,\n",
       "                    False],\n",
       "        fill_value='?',\n",
       "             dtype=object),\n",
       " 'params': [{'C': 1, 'gamma': 1},\n",
       "  {'C': 1, 'gamma': 0.1},\n",
       "  {'C': 1, 'gamma': 0.01},\n",
       "  {'C': 1, 'gamma': 0.001},\n",
       "  {'C': 1, 'gamma': 0.0001},\n",
       "  {'C': 5, 'gamma': 1},\n",
       "  {'C': 5, 'gamma': 0.1},\n",
       "  {'C': 5, 'gamma': 0.01},\n",
       "  {'C': 5, 'gamma': 0.001},\n",
       "  {'C': 5, 'gamma': 0.0001},\n",
       "  {'C': 10, 'gamma': 1},\n",
       "  {'C': 10, 'gamma': 0.1},\n",
       "  {'C': 10, 'gamma': 0.01},\n",
       "  {'C': 10, 'gamma': 0.001},\n",
       "  {'C': 10, 'gamma': 0.0001},\n",
       "  {'C': 15, 'gamma': 1},\n",
       "  {'C': 15, 'gamma': 0.1},\n",
       "  {'C': 15, 'gamma': 0.01},\n",
       "  {'C': 15, 'gamma': 0.001},\n",
       "  {'C': 15, 'gamma': 0.0001},\n",
       "  {'C': 20, 'gamma': 1},\n",
       "  {'C': 20, 'gamma': 0.1},\n",
       "  {'C': 20, 'gamma': 0.01},\n",
       "  {'C': 20, 'gamma': 0.001},\n",
       "  {'C': 20, 'gamma': 0.0001}],\n",
       " 'split0_test_score': array([0.94181164, 0.94181164, 0.94181164, 0.94181164, 0.94181164,\n",
       "        0.9430114 , 0.9430114 , 0.9430114 , 0.9430114 , 0.9430114 ,\n",
       "        0.94361128, 0.94361128, 0.94361128, 0.94361128, 0.94361128,\n",
       "        0.9430114 , 0.9430114 , 0.9430114 , 0.9430114 , 0.9430114 ,\n",
       "        0.9430114 , 0.9430114 , 0.9430114 , 0.9430114 , 0.9430114 ]),\n",
       " 'split1_test_score': array([0.95260948, 0.95260948, 0.95260948, 0.95260948, 0.95260948,\n",
       "        0.95080984, 0.95080984, 0.95080984, 0.95080984, 0.95080984,\n",
       "        0.9490102 , 0.9490102 , 0.9490102 , 0.9490102 , 0.9490102 ,\n",
       "        0.9490102 , 0.9490102 , 0.9490102 , 0.9490102 , 0.9490102 ,\n",
       "        0.9490102 , 0.9490102 , 0.9490102 , 0.9490102 , 0.9490102 ]),\n",
       " 'split2_test_score': array([0.94537815, 0.94537815, 0.94537815, 0.94537815, 0.94537815,\n",
       "        0.94477791, 0.94477791, 0.94477791, 0.94477791, 0.94477791,\n",
       "        0.94477791, 0.94477791, 0.94477791, 0.94477791, 0.94477791,\n",
       "        0.94537815, 0.94537815, 0.94537815, 0.94537815, 0.94537815,\n",
       "        0.94477791, 0.94477791, 0.94477791, 0.94477791, 0.94477791]),\n",
       " 'mean_test_score': array([0.94659976, 0.94659976, 0.94659976, 0.94659976, 0.94659976,\n",
       "        0.94619972, 0.94619972, 0.94619972, 0.94619972, 0.94619972,\n",
       "        0.9457998 , 0.9457998 , 0.9457998 , 0.9457998 , 0.9457998 ,\n",
       "        0.94579992, 0.94579992, 0.94579992, 0.94579992, 0.94579992,\n",
       "        0.94559984, 0.94559984, 0.94559984, 0.94559984, 0.94559984]),\n",
       " 'std_test_score': array([0.00449204, 0.00449204, 0.00449204, 0.00449204, 0.00449204,\n",
       "        0.00333867, 0.00333867, 0.00333867, 0.00333867, 0.00333867,\n",
       "        0.00231952, 0.00231952, 0.00231952, 0.00231952, 0.00231952,\n",
       "        0.00246709, 0.00246709, 0.00246709, 0.00246709, 0.00246709,\n",
       "        0.00251702, 0.00251702, 0.00251702, 0.00251702, 0.00251702]),\n",
       " 'rank_test_score': array([ 1,  1,  1,  1,  1,  6,  6,  6,  6,  6, 16, 16, 16, 16, 16, 11, 11,\n",
       "        11, 11, 11, 21, 21, 21, 21, 21], dtype=int32)}"
      ]
     },
     "execution_count": 77,
     "metadata": {},
     "output_type": "execute_result"
    }
   ],
   "source": [
    "gs.cv_results_"
   ]
  },
  {
   "cell_type": "code",
   "execution_count": 78,
   "metadata": {},
   "outputs": [],
   "source": [
    "clf3 = SVC(kernel='linear', C=1, gamma=1)"
   ]
  },
  {
   "cell_type": "code",
   "execution_count": 79,
   "metadata": {},
   "outputs": [
    {
     "data": {
      "text/plain": [
       "SVC(C=1, gamma=1, kernel='linear')"
      ]
     },
     "execution_count": 79,
     "metadata": {},
     "output_type": "execute_result"
    }
   ],
   "source": [
    "clf3.fit(X_train_vec, y_train)\n"
   ]
  },
  {
   "cell_type": "code",
   "execution_count": 80,
   "metadata": {},
   "outputs": [
    {
     "data": {
      "text/plain": [
       "98.25714285714285"
      ]
     },
     "execution_count": 80,
     "metadata": {},
     "output_type": "execute_result"
    }
   ],
   "source": [
    "clf3.score(X_train_vec, y_train)*100"
   ]
  },
  {
   "cell_type": "code",
   "execution_count": 81,
   "metadata": {},
   "outputs": [
    {
     "data": {
      "text/plain": [
       "93.86666666666666"
      ]
     },
     "execution_count": 81,
     "metadata": {},
     "output_type": "execute_result"
    }
   ],
   "source": [
    "clf3.score(X_test_vec, y_test)*100"
   ]
  },
  {
   "cell_type": "markdown",
   "metadata": {},
   "source": [
    "### Hyper parameter tuning using GridSearchCV and StratifiedKFold"
   ]
  },
  {
   "cell_type": "code",
   "execution_count": 99,
   "metadata": {},
   "outputs": [
    {
     "name": "stdout",
     "output_type": "stream",
     "text": [
      "\n",
      "1 of kfold 5\n",
      "Best parameters:  {'svc__C': 1, 'svc__gamma': 10}\n",
      "accuracy_score 94.89999999999999\n",
      "\n",
      "2 of kfold 5\n",
      "Best parameters:  {'svc__C': 100, 'svc__gamma': 10}\n",
      "accuracy_score 94.69999999999999\n",
      "\n",
      "3 of kfold 5\n",
      "Best parameters:  {'svc__C': 1, 'svc__gamma': 10}\n",
      "accuracy_score 94.69999999999999\n",
      "\n",
      "4 of kfold 5\n",
      "Best parameters:  {'svc__C': 0.1, 'svc__gamma': 10}\n",
      "accuracy_score 93.89999999999999\n",
      "\n",
      "5 of kfold 5\n",
      "Best parameters:  {'svc__C': 1, 'svc__gamma': 10}\n",
      "accuracy_score 94.39999999999999\n",
      "\n",
      "List of possible accuracy: [94.89999999999999, 94.69999999999999, 94.69999999999999, 93.89999999999999, 94.39999999999999]\n",
      "\n",
      "Maximum Accuracy That can be obtained from this model is: 94.89999999999999 %\n",
      "\n",
      "Minimum Accuracy: 93.89999999999999 %\n",
      "\n",
      "Overall Accuracy: 94.52 %\n",
      "\n",
      "Standard Deviation is: 0.3487\n",
      "\n",
      "Time taken: 230.44 seconds\n"
     ]
    }
   ],
   "source": [
    "import numpy as np\n",
    "from sklearn.model_selection import GridSearchCV\n",
    "from sklearn.model_selection import StratifiedKFold\n",
    "from sklearn.pipeline import make_pipeline, Pipeline\n",
    "\n",
    "t1 = time.time()\n",
    "\n",
    "# Bundling together all preprocessing steps for text data\n",
    "def preprocess_text(text):\n",
    "    return my_lemma(remove_contextual_sw(clean_text(text)))\n",
    "\n",
    "# Creating pipeline for vectorization and classification model\n",
    "model = Pipeline(steps=[('vectorizer', TfidfVectorizer(ngram_range=(1,1),stop_words= None)),\n",
    "                              ('svc', SVC(kernel='linear', class_weight='balanced', random_state=1))\n",
    "                             ])\n",
    "\n",
    "X = df['comment_text'].apply(lambda x: preprocess_text(x))\n",
    "y = df['toxic']\n",
    "\n",
    "param_grid = {\n",
    "    'svc__C':[0.1, 1, 10, 100],\n",
    "    'svc__gamma':[10, 1, 0.1, 0.01, 0.001]\n",
    "}\n",
    "\n",
    "i=1\n",
    "skf = StratifiedKFold(n_splits=5, random_state=1, shuffle=True)\n",
    "accu_stratified = []\n",
    "\n",
    "for train_index,test_index in skf.split(X,y):      \n",
    "    print('\\n{} of kfold {}'.format(i, skf.n_splits))    \n",
    "    Xtrain, Xtest = X[train_index], X[test_index]\n",
    "    ytrain, ytest = y.iloc[train_index], y.iloc[test_index]\n",
    "    my_model = GridSearchCV(model, param_grid=param_grid, cv=3, n_jobs=-1, scoring= 'accuracy')\n",
    "    my_model.fit(Xtrain, ytrain)\n",
    "    print(\"Best parameters: \", my_model.best_params_)\n",
    "    pred=my_model.predict(Xtest)\n",
    "    print('accuracy_score',accuracy_score(ytest,pred)*100)\n",
    "    accu_stratified.append(accuracy_score(ytest,pred)*100)\n",
    "    i+=1\n",
    "    \n",
    "# Print the output.\n",
    "print('\\nList of possible accuracy:', accu_stratified)\n",
    "print('\\nMaximum Accuracy That can be obtained from this model is:', max(accu_stratified), '%')\n",
    "print('\\nMinimum Accuracy:', min(accu_stratified), '%')\n",
    "print('\\nOverall Accuracy:', round(np.mean(accu_stratified),2), '%')\n",
    "print('\\nStandard Deviation is:', round(np.std(accu_stratified),4))\n",
    "\n",
    "t2 = time.time()\n",
    "print(\"\\nTime taken: {} seconds\".format(round(t2-t1,2)))"
   ]
  },
  {
   "cell_type": "markdown",
   "metadata": {},
   "source": [
    "### 12. Find the parameters with the best recall in cross validation\n",
    "\n",
    "1. Choose ‘recall’ as the metric for scoring\n",
    "2. Choose stratified 5 fold cross validation scheme\n",
    "3. Fit on the train set"
   ]
  },
  {
   "cell_type": "code",
   "execution_count": null,
   "metadata": {},
   "outputs": [
    {
     "name": "stdout",
     "output_type": "stream",
     "text": [
      "\n",
      "1 of kfold 5\n",
      "Best parameters:  {'svc__C': 1, 'svc__gamma': 10}\n",
      "Recall_value:  94.9\n",
      "\n",
      "2 of kfold 5\n",
      "Best parameters:  {'svc__C': 1, 'svc__gamma': 10}\n",
      "Recall_value:  95.3\n",
      "\n",
      "3 of kfold 5\n"
     ]
    }
   ],
   "source": [
    "t1 = time.time()\n",
    "\n",
    "# Bundling together all preprocessing steps for text data\n",
    "def preprocess_text(text):\n",
    "    return my_lemma(remove_contextual_sw(clean_text(text)))\n",
    "\n",
    "# Creating pipeline for vectorization and classification model\n",
    "model = Pipeline(steps=[('vectorizer', TfidfVectorizer(ngram_range=(1,1),stop_words= None)),\n",
    "                              ('svc', SVC(kernel='linear', class_weight='balanced', random_state=1))\n",
    "                             ])\n",
    "\n",
    "X = df['comment_text'].apply(lambda x: preprocess_text(x))\n",
    "y = df['toxic']\n",
    "\n",
    "param_grid = {\n",
    "    'svc__C':[0.1, 1, 10, 100],\n",
    "    'svc__gamma':[10, 1, 0.1, 0.01, 0.001]\n",
    "}\n",
    "\n",
    "i=1\n",
    "skf = StratifiedKFold(n_splits=5, random_state=1, shuffle=True)\n",
    "recall_stratified = []\n",
    "\n",
    "for train_index,test_index in skf.split(X,y):      \n",
    "    print('\\n{} of kfold {}'.format(i, skf.n_splits))    \n",
    "    Xtrain, Xtest = X[train_index], X[test_index]\n",
    "    ytrain, ytest = y.iloc[train_index], y.iloc[test_index]\n",
    "    my_model = GridSearchCV(model, param_grid=param_grid, cv=3, n_jobs=-1, scoring= 'recall')\n",
    "    my_model.fit(Xtrain, ytrain)\n",
    "    print(\"Best parameters: \", my_model.best_params_)\n",
    "    pred=my_model.predict(Xtest)\n",
    "    recall_value = round(classification_report(ytest, pred, output_dict=True)['weighted avg']['recall']*100,2)\n",
    "    print('Recall_value: ', recall_value)\n",
    "    recall_stratified.append(recall_value)\n",
    "    i+=1\n",
    "    \n",
    "# Print the output.\n",
    "print('\\nList of possible Recall_value:', recall_stratified)\n",
    "print('\\nMaximum Recall_value That can be obtained from this model is:', max(recall_stratified), '%')\n",
    "print('\\nMinimum Recall_value:', min(recall_stratified), '%')\n",
    "print('\\nOverall Recall_value:', round(np.mean(recall_stratified),2), '%')\n",
    "print('\\nStandard Deviation is:', round(np.std(recall_stratified),4))\n",
    "\n",
    "t2 = time.time()\n",
    "print(\"\\nTime taken: {} seconds\".format(round(t2-t1,2)))"
   ]
  },
  {
   "cell_type": "markdown",
   "metadata": {},
   "source": [
    "### 13. What are the best parameters?\n",
    "\n",
    "Solution: We can see from above output that best parameters to get optimum Recall value (95.3%) are:\n",
    "\n",
    ". Best parameters: {'C': 1, 'gamma': 10}\n",
    "14. Predict and evaluate using the best estimator\n",
    "\n",
    "1. Use best estimator from the grid search to make predictions on the test set\n",
    "2. What is the recall on the test set for the toxic comments?\n",
    "3. What is the f1_score?"
   ]
  },
  {
   "cell_type": "code",
   "execution_count": 85,
   "metadata": {},
   "outputs": [
    {
     "name": "stdout",
     "output_type": "stream",
     "text": [
      "\n",
      "Model accuracy with train data:  99.68571428571428\n",
      "\n",
      "Model accuracy with test data:  93.66666666666667\n",
      "\n",
      "Classification report with train data:\n",
      "               precision    recall  f1-score   support\n",
      "\n",
      "           0       1.00      1.00      1.00      3194\n",
      "           1       0.97      1.00      0.98       306\n",
      "\n",
      "    accuracy                           1.00      3500\n",
      "   macro avg       0.98      1.00      0.99      3500\n",
      "weighted avg       1.00      1.00      1.00      3500\n",
      "\n",
      "\n",
      "Classification report with test data:\n",
      "               precision    recall  f1-score   support\n",
      "\n",
      "           0       0.95      0.99      0.97      1369\n",
      "           1       0.74      0.43      0.54       131\n",
      "\n",
      "    accuracy                           0.94      1500\n",
      "   macro avg       0.84      0.71      0.75      1500\n",
      "weighted avg       0.93      0.94      0.93      1500\n",
      "\n"
     ]
    }
   ],
   "source": [
    "model_final = SVC(kernel='linear', C=1, gamma=10, class_weight='balanced', random_state=1)\n",
    "model_final.fit(X_train_vec, y_train)\n",
    "y_test_pred = model_final.predict(X_test_vec)\n",
    "print(\"\\nModel accuracy with train data: \", model_final.score(X_train_vec, y_train)*100)\n",
    "print(\"\\nModel accuracy with test data: \", model_final.score(X_test_vec, y_test)*100)\n",
    "print(\"\\nClassification report with train data:\\n\", classification_report(y_train, model_final.predict(X_train_vec)))\n",
    "print(\"\\nClassification report with test data:\\n\", classification_report(y_test, model_final.predict(X_test_vec)))"
   ]
  },
  {
   "cell_type": "code",
   "execution_count": 86,
   "metadata": {},
   "outputs": [],
   "source": [
    "recall_value_test = classification_report(y_test, y_test_pred, output_dict=True)['weighted avg']['recall']*100"
   ]
  },
  {
   "cell_type": "code",
   "execution_count": 87,
   "metadata": {},
   "outputs": [
    {
     "name": "stdout",
     "output_type": "stream",
     "text": [
      "\n",
      "Model Recall value with test data:  93.66666666666667\n"
     ]
    }
   ],
   "source": [
    "print(\"\\nModel Recall value with test data: \", recall_value_test)"
   ]
  },
  {
   "cell_type": "code",
   "execution_count": 88,
   "metadata": {},
   "outputs": [],
   "source": [
    "f1_score_test = classification_report(y_test, y_test_pred, output_dict=True)['weighted avg']['f1-score']*100"
   ]
  },
  {
   "cell_type": "code",
   "execution_count": 89,
   "metadata": {},
   "outputs": [
    {
     "name": "stdout",
     "output_type": "stream",
     "text": [
      "\n",
      "Model f1-score with test data:  92.88764008018666\n"
     ]
    }
   ],
   "source": [
    "print(\"\\nModel f1-score with test data: \", f1_score_test)"
   ]
  },
  {
   "cell_type": "markdown",
   "metadata": {},
   "source": [
    "### 15. What are the most prominent terms in the toxic comments?\n",
    "\n",
    "1. Separate the comments from the test set that the model identified as toxic\n",
    "2. Make one large list of the terms\n",
    "3. Get the top 15 terms"
   ]
  },
  {
   "cell_type": "code",
   "execution_count": 90,
   "metadata": {},
   "outputs": [
    {
     "data": {
      "text/plain": [
       "2916    comment west irrelevant well quote nuclear phs...\n",
       "1513             thing persistant ugly bastard fuck troll\n",
       "804                         bull fuck shit racist scumbag\n",
       "3271                                                  eat\n",
       "2671    stop deleting jont tell ask tell friend go pre...\n",
       "                              ...                        \n",
       "719                                            suck twerp\n",
       "709     san francisco burrito formal hierarchy authori...\n",
       "3203    hate crime believe category hate crime accepta...\n",
       "1777                          gay warn gay deletion troll\n",
       "1433    fuck hate nigger spics jews minority fuck hate...\n",
       "Name: comment_text_lemmed, Length: 76, dtype: object"
      ]
     },
     "execution_count": 90,
     "metadata": {},
     "output_type": "execute_result"
    }
   ],
   "source": [
    "# Separate the comments from the test set that the model identified as toxic\n",
    "\n",
    "X_test[y_test_pred==1]"
   ]
  },
  {
   "cell_type": "code",
   "execution_count": 91,
   "metadata": {},
   "outputs": [],
   "source": [
    "text_merged = []\n",
    "for item in X_test[y_test_pred==1]:\n",
    "    text_merged = text_merged + item.split()"
   ]
  },
  {
   "cell_type": "code",
   "execution_count": 92,
   "metadata": {},
   "outputs": [],
   "source": [
    "from wordcloud import WordCloud\n",
    "import matplotlib.pyplot as plt"
   ]
  },
  {
   "cell_type": "code",
   "execution_count": 93,
   "metadata": {},
   "outputs": [
    {
     "data": {
      "image/png": "[encoded data removed]",
      "text/plain": [
       "<Figure size 720x720 with 1 Axes>"
      ]
     },
     "metadata": {
      "needs_background": "light"
     },
     "output_type": "display_data"
    }
   ],
   "source": [
    "title = 'Word Cloud Analysis for Text Data'\n",
    "wordcloud = WordCloud(\n",
    "    background_color='white',\n",
    "    stopwords=None,\n",
    "    max_words=50,\n",
    "    max_font_size=40, \n",
    "    scale=3,\n",
    "    random_state=1 \n",
    ").generate(\" \".join(text_merged))\n",
    "\n",
    "fig = plt.figure(1, figsize=(10, 10))\n",
    "plt.axis('off')\n",
    "if title: \n",
    "    fig.suptitle(title, fontsize=20)\n",
    "    fig.subplots_adjust(top=2.3)\n",
    "    \n",
    "plt.imshow(wordcloud);"
   ]
  },
  {
   "cell_type": "code",
   "execution_count": 94,
   "metadata": {},
   "outputs": [
    {
     "name": "stdout",
     "output_type": "stream",
     "text": [
      "[('fuck', 384), ('as', 285), ('gay', 221), ('hate', 90), ('nigger', 79), ('spics', 79), ('jews', 79), ('minority', 79), ('like', 18), ('go', 17), ('get', 14), ('one', 11), ('time', 11), ('arab', 11), ('people', 10), ('na', 9), ('well', 8), ('think', 8), ('life', 8), ('mate', 8), ('dick', 8), ('shit', 7), ('bitch', 7), ('stop', 6), ('dude', 6), ('movie', 6), ('hell', 6), ('know', 6), ('take', 6), ('delete', 6), ('ever', 6), ('give', 6), ('little', 6), ('jlatondre', 6), ('stupid', 5), ('tell', 5), ('really', 5), ('change', 5), ('another', 5), ('good', 5), ('suck', 5), ('block', 5), ('want', 5), ('maybe', 5), ('ya', 5), ('never', 5), ('sure', 5), ('back', 5), ('person', 5), ('enough', 5), ('quote', 4), ('thing', 4), ('leave', 4), ('yes', 4), ('retard', 4), ('look', 4), ('son', 4), ('need', 4), ('reason', 4), ('asshole', 4), ('read', 4), ('ip', 4), ('book', 4), ('try', 4), ('vandalise', 4), ('vandal', 4), ('guy', 4), ('arabic', 4), ('say', 4), ('nobhead', 4), ('ear', 4), ('nothing', 4), ('waste', 4), ('crime', 4), ('comment', 3), ('put', 3), ('eat', 3), ('cool', 3), ('u', 3), ('mean', 3), ('around', 3), ('anime', 3), ('post', 3), ('power', 3), ('fight', 3), ('many', 3), ('second', 3), ('nice', 3), ('let', 3), ('hahaha', 3), ('remove', 3), ('everything', 3), ('keep', 3), ('ca', 3), ('big', 3), ('ban', 3), ('way', 3), ('bullshit', 3), ('boy', 3), ('work', 3)]\n"
     ]
    }
   ],
   "source": [
    "# Make one large list of the terms\n",
    "\n",
    "freq_words = nltk.FreqDist(text_merged)\n",
    "print(freq_words.most_common(100))"
   ]
  },
  {
   "cell_type": "code",
   "execution_count": 95,
   "metadata": {},
   "outputs": [
    {
     "data": {
      "text/plain": [
       "[('fuck', 384),\n",
       " ('as', 285),\n",
       " ('gay', 221),\n",
       " ('hate', 90),\n",
       " ('nigger', 79),\n",
       " ('spics', 79),\n",
       " ('jews', 79),\n",
       " ('minority', 79),\n",
       " ('like', 18),\n",
       " ('go', 17),\n",
       " ('get', 14),\n",
       " ('one', 11),\n",
       " ('time', 11),\n",
       " ('arab', 11),\n",
       " ('people', 10)]"
      ]
     },
     "execution_count": 95,
     "metadata": {},
     "output_type": "execute_result"
    }
   ],
   "source": [
    "# Get the top 15 terms\n",
    "\n",
    "freq_words.most_common(15)"
   ]
  },
  {
   "cell_type": "markdown",
   "metadata": {},
   "source": [
    "### Packing all functions in a pipeline for better organizing code:\n",
    "Let us create final model with complete data:"
   ]
  },
  {
   "cell_type": "code",
   "execution_count": 96,
   "metadata": {},
   "outputs": [],
   "source": [
    "model = Pipeline(steps=[('vectorizer', TfidfVectorizer(ngram_range=(1,1),stop_words= None)),\n",
    "                              ('svc', SVC(kernel='linear', C=1, gamma=10, class_weight='balanced', random_state=1))\n",
    "                             ])\n",
    "final_model = model.fit(X,y)"
   ]
  },
  {
   "cell_type": "code",
   "execution_count": null,
   "metadata": {},
   "outputs": [],
   "source": []
  },
  {
   "cell_type": "markdown",
   "metadata": {},
   "source": [
    "# !!!!!!!!!!!!!!!!!!!!!!!!!!!!!!!!!!!!!!!!!!END!!!!!!!!!!!!!!!!!!!!!!!!!!!!!!!!!!!!!!!!!!!!!!!!!!!!!!!!!!!!!!"
   ]
  },
  {
   "cell_type": "code",
   "execution_count": null,
   "metadata": {},
   "outputs": [],
   "source": []
  }
 ],
 "metadata": {
  "kernelspec": {
   "display_name": "Python 3",
   "language": "python",
   "name": "python3"
  },
  "language_info": {
   "codemirror_mode": {
    "name": "ipython",
    "version": 3
   },
   "file_extension": ".py",
   "mimetype": "text/x-python",
   "name": "python",
   "nbconvert_exporter": "python",
   "pygments_lexer": "ipython3",
   "version": "3.7.6"
  }
 },
 "nbformat": 4,
 "nbformat_minor": 4
}
